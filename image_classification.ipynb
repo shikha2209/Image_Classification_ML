{
  "nbformat": 4,
  "nbformat_minor": 0,
  "metadata": {
    "colab": {
      "name": "image_classification.ipynb",
      "provenance": [],
      "collapsed_sections": []
    },
    "kernelspec": {
      "name": "python3",
      "display_name": "Python 3"
    },
    "language_info": {
      "name": "python"
    }
  },
  "cells": [
    {
      "cell_type": "code",
      "metadata": {
        "colab": {
          "base_uri": "https://localhost:8080/"
        },
        "id": "WRRnAISClcqm",
        "outputId": "71099e7e-fec7-4043-b3f9-9d19eaae60ff"
      },
      "source": [
        "from google.colab import drive\n",
        "drive.mount('/content/drive')"
      ],
      "execution_count": null,
      "outputs": [
        {
          "output_type": "stream",
          "name": "stdout",
          "text": [
            "Mounted at /content/drive\n"
          ]
        }
      ]
    },
    {
      "cell_type": "code",
      "metadata": {
        "colab": {
          "base_uri": "https://localhost:8080/"
        },
        "id": "9rH3E0NYlfQ2",
        "outputId": "9f0f83ca-47c3-4c95-a001-689537ad6870"
      },
      "source": [
        "! cp drive/MyDrive/image_classification/Dataset.zip .\n",
        "! unzip Dataset.zip -d Dataset/"
      ],
      "execution_count": null,
      "outputs": [
        {
          "output_type": "stream",
          "name": "stdout",
          "text": [
            "Archive:  Dataset.zip\n",
            "   creating: Dataset/Testing/\n",
            "  inflating: Dataset/Testing/2015_00401.jpg  \n",
            "  inflating: Dataset/Testing/2015_00402.jpg  \n",
            "  inflating: Dataset/Testing/2015_00403.jpg  \n",
            "  inflating: Dataset/Testing/2015_00404.jpg  \n",
            "  inflating: Dataset/Testing/2015_00405.jpg  \n",
            "  inflating: Dataset/Testing/2015_00406.jpg  \n",
            "  inflating: Dataset/Testing/2015_00407.jpg  \n",
            "  inflating: Dataset/Testing/2015_00408.jpg  \n",
            "  inflating: Dataset/Testing/2015_00409.jpg  \n",
            "  inflating: Dataset/Testing/2015_00410.jpg  \n",
            "  inflating: Dataset/Testing/2015_00411.jpg  \n",
            "  inflating: Dataset/Testing/2015_00412.jpg  \n",
            "  inflating: Dataset/Testing/2015_00413.jpg  \n",
            "  inflating: Dataset/Testing/2015_00414.jpg  \n",
            "  inflating: Dataset/Testing/2015_00415.jpg  \n",
            "  inflating: Dataset/Testing/2015_00416.jpg  \n",
            "  inflating: Dataset/Testing/2015_00417.jpg  \n",
            "  inflating: Dataset/Testing/2015_00418.jpg  \n",
            "  inflating: Dataset/Testing/2015_00419.jpg  \n",
            "  inflating: Dataset/Testing/2015_00420.jpg  \n",
            "  inflating: Dataset/Testing/2015_00421.jpg  \n",
            "  inflating: Dataset/Testing/2015_00422.jpg  \n",
            "  inflating: Dataset/Testing/2015_00423.jpg  \n",
            "  inflating: Dataset/Testing/2015_00424.jpg  \n",
            "  inflating: Dataset/Testing/2015_00425.jpg  \n",
            "  inflating: Dataset/Testing/2015_00426.jpg  \n",
            "  inflating: Dataset/Testing/2015_00427.jpg  \n",
            "  inflating: Dataset/Testing/2015_00428.jpg  \n",
            "  inflating: Dataset/Testing/2015_00429.jpg  \n",
            "  inflating: Dataset/Testing/2015_00430.jpg  \n",
            "  inflating: Dataset/Testing/2015_00431.jpg  \n",
            "  inflating: Dataset/Testing/2015_00432.jpg  \n",
            "  inflating: Dataset/Testing/2015_00433.jpg  \n",
            "  inflating: Dataset/Testing/2015_00434.jpg  \n",
            "  inflating: Dataset/Testing/2015_00435.jpg  \n",
            "  inflating: Dataset/Testing/2015_00436.JPEG  \n",
            "  inflating: Dataset/Testing/2015_00437.JPEG  \n",
            "  inflating: Dataset/Testing/2015_00438.JPEG  \n",
            "  inflating: Dataset/Testing/2015_00439.JPEG  \n",
            "  inflating: Dataset/Testing/2015_00440.JPEG  \n",
            "  inflating: Dataset/Testing/2015_00441.JPEG  \n",
            "  inflating: Dataset/Testing/2015_00442.JPEG  \n",
            "  inflating: Dataset/Testing/2015_00443.JPEG  \n",
            "  inflating: Dataset/Testing/2015_00444.jpg  \n",
            "  inflating: Dataset/Testing/2015_00445.JPEG  \n",
            "  inflating: Dataset/Testing/2015_00446.jpg  \n",
            "  inflating: Dataset/Testing/2015_00447.jpg  \n",
            "  inflating: Dataset/Testing/2015_00448.jpg  \n",
            "  inflating: Dataset/Testing/2015_00449.JPG  \n",
            "  inflating: Dataset/Testing/2015_00450.jpg  \n",
            "  inflating: Dataset/Testing/2015_00451.JPG  \n",
            "  inflating: Dataset/Testing/2015_00452.JPG  \n",
            "  inflating: Dataset/Testing/2015_00453.JPG  \n",
            "  inflating: Dataset/Testing/2015_00454.JPG  \n",
            "  inflating: Dataset/Testing/2015_00455.JPG  \n",
            "  inflating: Dataset/Testing/2015_00456.JPG  \n",
            "  inflating: Dataset/Testing/2015_00457.JPG  \n",
            "  inflating: Dataset/Testing/2015_00458.JPG  \n",
            "  inflating: Dataset/Testing/2015_00459.JPG  \n",
            "  inflating: Dataset/Testing/2015_00460.JPG  \n",
            "  inflating: Dataset/Testing/2015_00461.jpg  \n",
            "  inflating: Dataset/Testing/2015_00462.jpg  \n",
            "  inflating: Dataset/Testing/2015_00463.jpg  \n",
            "  inflating: Dataset/Testing/2015_00464.jpg  \n",
            "  inflating: Dataset/Testing/2015_00465.jpeg  \n",
            "  inflating: Dataset/Testing/2015_00466.jpg  \n",
            "  inflating: Dataset/Testing/2015_00467.jpg  \n",
            "  inflating: Dataset/Testing/2015_00468.jpg  \n",
            "  inflating: Dataset/Testing/2015_00469.jpg  \n",
            "  inflating: Dataset/Testing/2015_00470.jpg  \n",
            "  inflating: Dataset/Testing/2015_00471.jpg  \n",
            "  inflating: Dataset/Testing/2015_00472.jpg  \n",
            "  inflating: Dataset/Testing/2015_00473.jpg  \n",
            "  inflating: Dataset/Testing/2015_00474.jpg  \n",
            "  inflating: Dataset/Testing/2015_00475.jpg  \n",
            "  inflating: Dataset/Testing/2015_00476.jpg  \n",
            "  inflating: Dataset/Testing/2015_00477.jpg  \n",
            "  inflating: Dataset/Testing/2015_00478.jpg  \n",
            "  inflating: Dataset/Testing/2015_00479.jpg  \n",
            "  inflating: Dataset/Testing/2015_00480.jpg  \n",
            "  inflating: Dataset/Testing/2015_06145.JPEG  \n",
            "  inflating: Dataset/Testing/2015_06146.JPEG  \n",
            "  inflating: Dataset/Testing/2015_06147.JPEG  \n",
            "  inflating: Dataset/Testing/2015_06148.JPEG  \n",
            "  inflating: Dataset/Testing/2015_06149.JPEG  \n",
            "  inflating: Dataset/Testing/2015_06150.JPEG  \n",
            "  inflating: Dataset/Testing/2015_06151.JPEG  \n",
            "  inflating: Dataset/Testing/2015_06152.JPEG  \n",
            "  inflating: Dataset/Testing/2015_06153.JPEG  \n",
            "  inflating: Dataset/Testing/2015_06154.JPEG  \n",
            "  inflating: Dataset/Testing/2015_06155.JPEG  \n",
            "  inflating: Dataset/Testing/2015_06156.JPEG  \n",
            "  inflating: Dataset/Testing/2015_06157.jpg  \n",
            "  inflating: Dataset/Testing/2015_06158.jpg  \n",
            "  inflating: Dataset/Testing/2015_06159.jpg  \n",
            "  inflating: Dataset/Testing/2015_06160.jpg  \n",
            "  inflating: Dataset/Testing/2015_06161.jpg  \n",
            "  inflating: Dataset/Testing/2015_06162.jpg  \n",
            "  inflating: Dataset/Testing/2015_06163.jpg  \n",
            "  inflating: Dataset/Testing/2015_06164.jpg  \n",
            "  inflating: Dataset/Testing/2015_06165.jpg  \n",
            "  inflating: Dataset/Testing/2015_06166.jpg  \n",
            "  inflating: Dataset/Testing/2015_06167.png  \n",
            "  inflating: Dataset/Testing/2015_06168.png  \n",
            "  inflating: Dataset/Testing/2015_06169.jpg  \n",
            "  inflating: Dataset/Testing/2015_06170.jpg  \n",
            "  inflating: Dataset/Testing/2015_06171.jpg  \n",
            "  inflating: Dataset/Testing/2015_06172.jpg  \n",
            "  inflating: Dataset/Testing/2015_06173.jpg  \n",
            "  inflating: Dataset/Testing/2015_06174.jpg  \n",
            "  inflating: Dataset/Testing/2015_06175.jpeg  \n",
            "  inflating: Dataset/Testing/2015_06176.jpg  \n",
            "  inflating: Dataset/Testing/2015_06177.jpg  \n",
            "  inflating: Dataset/Testing/2015_06178.jpg  \n",
            "  inflating: Dataset/Testing/2015_06179.jpg  \n",
            "  inflating: Dataset/Testing/2015_06180.jpg  \n",
            "  inflating: Dataset/Testing/2015_06181.jpg  \n",
            "  inflating: Dataset/Testing/2015_06182.jpg  \n",
            "  inflating: Dataset/Testing/2015_06183.jpg  \n",
            "  inflating: Dataset/Testing/2015_06184.jpg  \n",
            "  inflating: Dataset/Testing/2015_06185.jpg  \n",
            "  inflating: Dataset/Testing/2015_06186.jpg  \n",
            "  inflating: Dataset/Testing/2015_06187.jpg  \n",
            "  inflating: Dataset/Testing/2015_06188.jpg  \n",
            "  inflating: Dataset/Testing/2015_06189.jpg  \n",
            "  inflating: Dataset/Testing/2015_06190.jpg  \n",
            "  inflating: Dataset/Testing/2015_06191.jpg  \n",
            "  inflating: Dataset/Testing/2015_06192.jpg  \n",
            "  inflating: Dataset/Testing/2015_06193.jpg  \n",
            "  inflating: Dataset/Testing/2015_06194.jpg  \n",
            "  inflating: Dataset/Testing/2015_06195.jpg  \n",
            "  inflating: Dataset/Testing/2015_06196.png  \n",
            "  inflating: Dataset/Testing/2015_06197.png  \n",
            "  inflating: Dataset/Testing/2015_06198.png  \n",
            "  inflating: Dataset/Testing/2015_06199.png  \n",
            "  inflating: Dataset/Testing/2015_06200.png  \n",
            "  inflating: Dataset/Testing/2015_06201.png  \n",
            "  inflating: Dataset/Testing/2015_06202.png  \n",
            "  inflating: Dataset/Testing/2015_06203.png  \n",
            "  inflating: Dataset/Testing/2015_06204.png  \n",
            "  inflating: Dataset/Testing/2015_06205.png  \n",
            "  inflating: Dataset/Testing/2015_06206.png  \n",
            "  inflating: Dataset/Testing/2015_06207.png  \n",
            "  inflating: Dataset/Testing/2015_06208.png  \n",
            "  inflating: Dataset/Testing/2015_06209.png  \n",
            "  inflating: Dataset/Testing/2015_06210.png  \n",
            "  inflating: Dataset/Testing/2015_06211.png  \n",
            "  inflating: Dataset/Testing/2015_06212.png  \n",
            "  inflating: Dataset/Testing/2015_06213.png  \n",
            "  inflating: Dataset/Testing/2015_06214.png  \n",
            "  inflating: Dataset/Testing/2015_06215.png  \n",
            "  inflating: Dataset/Testing/2015_06216.png  \n",
            "  inflating: Dataset/Testing/2015_06217.png  \n",
            "  inflating: Dataset/Testing/2015_06218.png  \n",
            "  inflating: Dataset/Testing/2015_06219.png  \n",
            "  inflating: Dataset/Testing/2015_06220.png  \n",
            "  inflating: Dataset/Testing/2015_06221.png  \n",
            "  inflating: Dataset/Testing/2015_06222.png  \n",
            "  inflating: Dataset/Testing/2015_06223.png  \n",
            "  inflating: Dataset/Testing/2015_06224.png  \n",
            "  inflating: Dataset/Testing/2015_03442.jpg  \n",
            "  inflating: Dataset/Testing/2015_03443.jpg  \n",
            "  inflating: Dataset/Testing/2015_03444.jpg  \n",
            "  inflating: Dataset/Testing/2015_03445.jpg  \n",
            "  inflating: Dataset/Testing/2015_03446.jpg  \n",
            "  inflating: Dataset/Testing/2015_03447.jpg  \n",
            "  inflating: Dataset/Testing/2015_03448.jpg  \n",
            "  inflating: Dataset/Testing/2015_03449.jpg  \n",
            "  inflating: Dataset/Testing/2015_03450.jpg  \n",
            "  inflating: Dataset/Testing/2015_03451.jpg  \n",
            "  inflating: Dataset/Testing/2015_03452.jpg  \n",
            "  inflating: Dataset/Testing/2015_03453.jpg  \n",
            "  inflating: Dataset/Testing/2015_03454.jpg  \n",
            "  inflating: Dataset/Testing/2015_03455.jpg  \n",
            "  inflating: Dataset/Testing/2015_03456.jpg  \n",
            "  inflating: Dataset/Testing/2015_03457.jpg  \n",
            "  inflating: Dataset/Testing/2015_03458.jpg  \n",
            "  inflating: Dataset/Testing/2015_03459.jpg  \n",
            "  inflating: Dataset/Testing/2015_03460.jpg  \n",
            "  inflating: Dataset/Testing/2015_03461.jpg  \n",
            "  inflating: Dataset/Testing/2015_03462.jpg  \n",
            "  inflating: Dataset/Testing/2015_03463.jpg  \n",
            "  inflating: Dataset/Testing/2015_03464.jpg  \n",
            "  inflating: Dataset/Testing/2015_03465.jpg  \n",
            "  inflating: Dataset/Testing/2015_03466.jpg  \n",
            "  inflating: Dataset/Testing/2015_03467.jpg  \n",
            "  inflating: Dataset/Testing/2015_03468.jpg  \n",
            "  inflating: Dataset/Testing/2015_03469.jpg  \n",
            "  inflating: Dataset/Testing/2015_03470.jpg  \n",
            "  inflating: Dataset/Testing/2015_03471.jpg  \n",
            "  inflating: Dataset/Testing/2015_03472.jpg  \n",
            "  inflating: Dataset/Testing/2015_03473.jpg  \n",
            "  inflating: Dataset/Testing/2015_03474.jpg  \n",
            "  inflating: Dataset/Testing/2015_03475.jpg  \n",
            "  inflating: Dataset/Testing/2015_03476.jpg  \n",
            "  inflating: Dataset/Testing/2015_03477.jpg  \n",
            "  inflating: Dataset/Testing/2015_03478.jpg  \n",
            "  inflating: Dataset/Testing/2015_03479.jpg  \n",
            "  inflating: Dataset/Testing/2015_03480.jpg  \n",
            "  inflating: Dataset/Testing/2015_03481.jpg  \n",
            "  inflating: Dataset/Testing/2015_03482.jpg  \n",
            "  inflating: Dataset/Testing/2015_03483.jpg  \n",
            "  inflating: Dataset/Testing/2015_03484.jpg  \n",
            "  inflating: Dataset/Testing/2015_03485.jpg  \n",
            "  inflating: Dataset/Testing/2015_03486.jpg  \n",
            "  inflating: Dataset/Testing/2015_03487.jpg  \n",
            "  inflating: Dataset/Testing/2015_03488.jpg  \n",
            "  inflating: Dataset/Testing/2015_03489.jpg  \n",
            "  inflating: Dataset/Testing/2015_03490.jpg  \n",
            "  inflating: Dataset/Testing/2015_03491.jpg  \n",
            "  inflating: Dataset/Testing/2015_03492.jpg  \n",
            "  inflating: Dataset/Testing/2015_03493.jpg  \n",
            "  inflating: Dataset/Testing/2015_03494.jpg  \n",
            "  inflating: Dataset/Testing/2015_03495.jpg  \n",
            "  inflating: Dataset/Testing/2015_03496.jpg  \n",
            "  inflating: Dataset/Testing/2015_03497.jpg  \n",
            "  inflating: Dataset/Testing/2015_03498.jpg  \n",
            "  inflating: Dataset/Testing/2015_03499.jpg  \n",
            "  inflating: Dataset/Testing/2015_03500.jpg  \n",
            "  inflating: Dataset/Testing/2015_03501.jpg  \n",
            "  inflating: Dataset/Testing/2015_03502.jpg  \n",
            "  inflating: Dataset/Testing/2015_03503.jpg  \n",
            "  inflating: Dataset/Testing/2015_03504.jpg  \n",
            "  inflating: Dataset/Testing/2015_03505.jpg  \n",
            "  inflating: Dataset/Testing/2015_03506.jpg  \n",
            "  inflating: Dataset/Testing/2015_03507.jpg  \n",
            "  inflating: Dataset/Testing/2015_03508.jpg  \n",
            "  inflating: Dataset/Testing/2015_03509.jpg  \n",
            "  inflating: Dataset/Testing/2015_03510.jpg  \n",
            "  inflating: Dataset/Testing/2015_03511.jpg  \n",
            "  inflating: Dataset/Testing/2015_03512.jpg  \n",
            "  inflating: Dataset/Testing/2015_03513.jpg  \n",
            "  inflating: Dataset/Testing/2015_03514.jpg  \n",
            "  inflating: Dataset/Testing/2015_03515.jpg  \n",
            "  inflating: Dataset/Testing/2015_03516.jpg  \n",
            "  inflating: Dataset/Testing/2015_03517.jpg  \n",
            "  inflating: Dataset/Testing/2015_03518.jpg  \n",
            "  inflating: Dataset/Testing/2015_03519.jpg  \n",
            "  inflating: Dataset/Testing/2015_03520.jpg  \n",
            "  inflating: Dataset/Testing/2015_03521.jpg  \n",
            "  inflating: Dataset/Testing/2015_07252.jpg  \n",
            "  inflating: Dataset/Testing/2015_07253.jpg  \n",
            "  inflating: Dataset/Testing/2015_07254.jpg  \n",
            "  inflating: Dataset/Testing/2015_07255.jpg  \n",
            "  inflating: Dataset/Testing/2015_07256.jpg  \n",
            "  inflating: Dataset/Testing/2015_07257.jpg  \n",
            "  inflating: Dataset/Testing/2015_07258.jpg  \n",
            "  inflating: Dataset/Testing/2015_07259.jpg  \n",
            "  inflating: Dataset/Testing/2015_07260.jpg  \n",
            "  inflating: Dataset/Testing/2015_07261.jpg  \n",
            "  inflating: Dataset/Testing/2015_07262.jpg  \n",
            "  inflating: Dataset/Testing/2015_07263.jpg  \n",
            "  inflating: Dataset/Testing/2015_07264.jpg  \n",
            "  inflating: Dataset/Testing/2015_07265.jpg  \n",
            "  inflating: Dataset/Testing/2015_07266.jpg  \n",
            "  inflating: Dataset/Testing/2015_07267.jpg  \n",
            "  inflating: Dataset/Testing/2015_07268.jpg  \n",
            "  inflating: Dataset/Testing/2015_07269.jpg  \n",
            "  inflating: Dataset/Testing/2015_07270.jpg  \n",
            "  inflating: Dataset/Testing/2015_07271.jpg  \n",
            "  inflating: Dataset/Testing/2015_07272.jpg  \n",
            "  inflating: Dataset/Testing/2015_07273.JPEG  \n",
            "  inflating: Dataset/Testing/2015_07274.JPEG  \n",
            "  inflating: Dataset/Testing/2015_07275.JPEG  \n",
            "  inflating: Dataset/Testing/2015_07276.jpg  \n",
            "  inflating: Dataset/Testing/2015_07277.jpg  \n",
            "  inflating: Dataset/Testing/2015_07278.jpg  \n",
            "  inflating: Dataset/Testing/2015_07279.jpg  \n",
            "  inflating: Dataset/Testing/2015_07280.jpg  \n",
            "  inflating: Dataset/Testing/2015_07281.jpg  \n",
            "  inflating: Dataset/Testing/2015_07282.jpg  \n",
            "  inflating: Dataset/Testing/2015_07283.jpg  \n",
            "  inflating: Dataset/Testing/2015_07284.jpg  \n",
            "  inflating: Dataset/Testing/2015_07285.jpg  \n",
            "  inflating: Dataset/Testing/2015_07286.jpg  \n",
            "  inflating: Dataset/Testing/2015_07287.jpg  \n",
            "  inflating: Dataset/Testing/2015_07288.jpg  \n",
            "  inflating: Dataset/Testing/2015_07289.jpg  \n",
            "  inflating: Dataset/Testing/2015_07290.jpg  \n",
            "  inflating: Dataset/Testing/2015_07291.jpg  \n",
            "  inflating: Dataset/Testing/2015_07292.jpg  \n",
            "  inflating: Dataset/Testing/2015_07293.jpg  \n",
            "  inflating: Dataset/Testing/2015_07294.jpg  \n",
            "  inflating: Dataset/Testing/2015_07295.jpg  \n",
            "  inflating: Dataset/Testing/2015_07296.jpg  \n",
            "  inflating: Dataset/Testing/2015_07297.jpg  \n",
            "  inflating: Dataset/Testing/2015_07298.jpg  \n",
            "  inflating: Dataset/Testing/2015_07299.jpg  \n",
            "  inflating: Dataset/Testing/2015_07300.jpg  \n",
            "  inflating: Dataset/Testing/2015_07301.jpg  \n",
            "  inflating: Dataset/Testing/2015_07302.jpg  \n",
            "  inflating: Dataset/Testing/2015_07303.jpg  \n",
            "  inflating: Dataset/Testing/2015_07304.jpg  \n",
            "  inflating: Dataset/Testing/2015_07305.jpg  \n",
            "  inflating: Dataset/Testing/2015_07306.png  \n",
            "  inflating: Dataset/Testing/2015_07307.png  \n",
            "  inflating: Dataset/Testing/2015_07308.jpg  \n",
            "  inflating: Dataset/Testing/2015_07309.jpg  \n",
            "  inflating: Dataset/Testing/2015_07310.jpg  \n",
            "  inflating: Dataset/Testing/2015_07311.jpg  \n",
            "  inflating: Dataset/Testing/2015_07312.jpg  \n",
            "  inflating: Dataset/Testing/2015_07313.jpg  \n",
            "  inflating: Dataset/Testing/2015_07314.jpg  \n",
            "  inflating: Dataset/Testing/2015_07315.jpg  \n",
            "  inflating: Dataset/Testing/2015_07316.png  \n",
            "  inflating: Dataset/Testing/2015_07317.png  \n",
            "  inflating: Dataset/Testing/2015_07318.png  \n",
            "  inflating: Dataset/Testing/2015_07319.png  \n",
            "  inflating: Dataset/Testing/2015_07320.png  \n",
            "  inflating: Dataset/Testing/2015_07321.png  \n",
            "  inflating: Dataset/Testing/2015_07322.png  \n",
            "  inflating: Dataset/Testing/2015_07323.png  \n",
            "  inflating: Dataset/Testing/2015_07324.png  \n",
            "  inflating: Dataset/Testing/2015_07325.png  \n",
            "  inflating: Dataset/Testing/2015_07326.png  \n",
            "  inflating: Dataset/Testing/2015_07327.png  \n",
            "  inflating: Dataset/Testing/2015_07328.png  \n",
            "  inflating: Dataset/Testing/2015_07329.png  \n",
            "  inflating: Dataset/Testing/2015_07330.png  \n",
            "  inflating: Dataset/Testing/2015_07331.png  \n",
            "  inflating: Dataset/Testing/2015_01053.jpg  \n",
            "  inflating: Dataset/Testing/2015_01054.jpg  \n",
            "  inflating: Dataset/Testing/2015_01055.jpg  \n",
            "  inflating: Dataset/Testing/2015_01056.jpg  \n",
            "  inflating: Dataset/Testing/2015_01057.jpg  \n",
            "  inflating: Dataset/Testing/2015_01058.jpg  \n",
            "  inflating: Dataset/Testing/2015_01059.jpg  \n",
            "  inflating: Dataset/Testing/2015_01060.jpg  \n",
            "  inflating: Dataset/Testing/2015_01061.jpg  \n",
            "  inflating: Dataset/Testing/2015_01062.jpg  \n",
            "  inflating: Dataset/Testing/2015_01063.jpg  \n",
            "  inflating: Dataset/Testing/2015_01064.jpg  \n",
            "  inflating: Dataset/Testing/2015_01065.jpg  \n",
            "  inflating: Dataset/Testing/2015_01066.jpg  \n",
            "  inflating: Dataset/Testing/2015_01067.png  \n",
            "  inflating: Dataset/Testing/2015_01068.jpg  \n",
            "  inflating: Dataset/Testing/2015_01069.jpg  \n",
            "  inflating: Dataset/Testing/2015_01070.jpg  \n",
            "  inflating: Dataset/Testing/2015_01071.jpg  \n",
            "  inflating: Dataset/Testing/2015_01072.jpg  \n",
            "  inflating: Dataset/Testing/2015_01073.jpg  \n",
            "  inflating: Dataset/Testing/2015_01074.jpg  \n",
            "  inflating: Dataset/Testing/2015_01075.jpg  \n",
            "  inflating: Dataset/Testing/2015_01076.jpg  \n",
            "  inflating: Dataset/Testing/2015_01077.jpg  \n",
            "  inflating: Dataset/Testing/2015_01078.jpg  \n",
            "  inflating: Dataset/Testing/2015_01079.jpg  \n",
            "  inflating: Dataset/Testing/2015_01080.jpg  \n",
            "  inflating: Dataset/Testing/2015_01081.jpg  \n",
            "  inflating: Dataset/Testing/2015_01082.jpg  \n",
            "  inflating: Dataset/Testing/2015_01083.jpg  \n",
            "  inflating: Dataset/Testing/2015_01084.jpg  \n",
            "  inflating: Dataset/Testing/2015_01085.jpg  \n",
            "  inflating: Dataset/Testing/2015_01086.jpg  \n",
            "  inflating: Dataset/Testing/2015_01087.jpg  \n",
            "  inflating: Dataset/Testing/2015_01088.jpg  \n",
            "  inflating: Dataset/Testing/2015_01089.jpg  \n",
            "  inflating: Dataset/Testing/2015_01090.jpg  \n",
            "  inflating: Dataset/Testing/2015_01091.jpg  \n",
            "  inflating: Dataset/Testing/2015_01092.png  \n",
            "  inflating: Dataset/Testing/2015_01093.jpg  \n",
            "  inflating: Dataset/Testing/2015_01094.jpg  \n",
            "  inflating: Dataset/Testing/2015_01095.jpg  \n",
            "  inflating: Dataset/Testing/2015_01096.jpg  \n",
            "  inflating: Dataset/Testing/2015_01097.jpg  \n",
            "  inflating: Dataset/Testing/2015_01098.jpg  \n",
            "  inflating: Dataset/Testing/2015_01099.jpg  \n",
            "  inflating: Dataset/Testing/2015_01100.jpg  \n",
            "  inflating: Dataset/Testing/2015_01101.jpg  \n",
            "  inflating: Dataset/Testing/2015_01102.jpg  \n",
            "  inflating: Dataset/Testing/2015_01103.jpg  \n",
            "  inflating: Dataset/Testing/2015_01104.jpg  \n",
            "  inflating: Dataset/Testing/2015_01105.jpg  \n",
            "  inflating: Dataset/Testing/2015_01106.jpg  \n",
            "  inflating: Dataset/Testing/2015_01107.jpg  \n",
            "  inflating: Dataset/Testing/2015_01108.jpg  \n",
            "  inflating: Dataset/Testing/2015_01109.jpg  \n",
            "  inflating: Dataset/Testing/2015_01110.jpg  \n",
            "  inflating: Dataset/Testing/2015_01111.jpg  \n",
            "  inflating: Dataset/Testing/2015_01112.jpg  \n",
            "  inflating: Dataset/Testing/2015_01113.jpg  \n",
            "  inflating: Dataset/Testing/2015_01114.jpg  \n",
            "  inflating: Dataset/Testing/2015_01115.jpg  \n",
            "  inflating: Dataset/Testing/2015_01116.jpg  \n",
            "  inflating: Dataset/Testing/2015_01117.jpg  \n",
            "  inflating: Dataset/Testing/2015_01118.jpg  \n",
            "  inflating: Dataset/Testing/2015_01119.jpg  \n",
            "  inflating: Dataset/Testing/2015_01120.jpg  \n",
            "  inflating: Dataset/Testing/2015_01121.jpg  \n",
            "  inflating: Dataset/Testing/2015_01122.png  \n",
            "  inflating: Dataset/Testing/2015_01123.jpg  \n",
            "  inflating: Dataset/Testing/2015_01124.jpg  \n",
            "  inflating: Dataset/Testing/2015_01125.jpg  \n",
            "  inflating: Dataset/Testing/2015_01126.jpg  \n",
            "  inflating: Dataset/Testing/2015_01127.jpg  \n",
            "  inflating: Dataset/Testing/2015_01128.jpg  \n",
            "  inflating: Dataset/Testing/2015_01129.jpg  \n",
            "  inflating: Dataset/Testing/2015_01130.jpg  \n",
            "  inflating: Dataset/Testing/2015_01131.jpg  \n",
            "  inflating: Dataset/Testing/2015_01132.jpg  \n",
            "  inflating: Dataset/Testing/2015_06646.JPEG  \n",
            "  inflating: Dataset/Testing/2015_06647.JPEG  \n",
            "  inflating: Dataset/Testing/2015_06648.JPEG  \n",
            "  inflating: Dataset/Testing/2015_06649.JPEG  \n",
            "  inflating: Dataset/Testing/2015_06650.JPEG  \n",
            "  inflating: Dataset/Testing/2015_06651.JPEG  \n",
            "  inflating: Dataset/Testing/2015_06652.JPEG  \n",
            "  inflating: Dataset/Testing/2015_06653.JPEG  \n",
            "  inflating: Dataset/Testing/2015_06654.JPEG  \n",
            "  inflating: Dataset/Testing/2015_06655.JPEG  \n",
            "  inflating: Dataset/Testing/2015_06656.JPEG  \n",
            "  inflating: Dataset/Testing/2015_06657.JPEG  \n",
            "  inflating: Dataset/Testing/2015_06658.JPEG  \n",
            "  inflating: Dataset/Testing/2015_06659.JPEG  \n",
            "  inflating: Dataset/Testing/2015_06660.JPEG  \n",
            "  inflating: Dataset/Testing/2015_06661.JPEG  \n",
            "  inflating: Dataset/Testing/2015_06662.JPEG  \n",
            "  inflating: Dataset/Testing/2015_06663.JPEG  \n",
            "  inflating: Dataset/Testing/2015_06664.JPEG  \n",
            "  inflating: Dataset/Testing/2015_06665.JPEG  \n",
            "  inflating: Dataset/Testing/2015_06666.JPEG  \n",
            "  inflating: Dataset/Testing/2015_06667.JPEG  \n",
            "  inflating: Dataset/Testing/2015_06668.JPEG  \n",
            "  inflating: Dataset/Testing/2015_06669.JPEG  \n",
            "  inflating: Dataset/Testing/2015_06670.JPEG  \n",
            "  inflating: Dataset/Testing/2015_06671.JPEG  \n",
            "  inflating: Dataset/Testing/2015_06672.JPEG  \n",
            "  inflating: Dataset/Testing/2015_06673.JPEG  \n",
            "  inflating: Dataset/Testing/2015_06674.JPEG  \n",
            "  inflating: Dataset/Testing/2015_06675.jpg  \n",
            "  inflating: Dataset/Testing/2015_06676.jpg  \n",
            "  inflating: Dataset/Testing/2015_06677.jpg  \n",
            "  inflating: Dataset/Testing/2015_06678.jpg  \n",
            "  inflating: Dataset/Testing/2015_06679.jpg  \n",
            "  inflating: Dataset/Testing/2015_06680.jpg  \n",
            "  inflating: Dataset/Testing/2015_06681.jpg  \n",
            "  inflating: Dataset/Testing/2015_06682.jpg  \n",
            "  inflating: Dataset/Testing/2015_06683.jpg  \n",
            "  inflating: Dataset/Testing/2015_06684.jpg  \n",
            "  inflating: Dataset/Testing/2015_06685.jpg  \n",
            "  inflating: Dataset/Testing/2015_06686.jpg  \n",
            "  inflating: Dataset/Testing/2015_06687.JPG  \n",
            "  inflating: Dataset/Testing/2015_06688.JPG  \n",
            "  inflating: Dataset/Testing/2015_06689.JPG  \n",
            "  inflating: Dataset/Testing/2015_06690.JPG  \n",
            "  inflating: Dataset/Testing/2015_06691.JPG  \n",
            "  inflating: Dataset/Testing/2015_06692.JPG  \n",
            "  inflating: Dataset/Testing/2015_06693.JPG  \n",
            "  inflating: Dataset/Testing/2015_06694.jpg  \n",
            "  inflating: Dataset/Testing/2015_06695.jpg  \n",
            "  inflating: Dataset/Testing/2015_06696.png  \n",
            "  inflating: Dataset/Testing/2015_06697.png  \n",
            "  inflating: Dataset/Testing/2015_06698.png  \n",
            "  inflating: Dataset/Testing/2015_06699.png  \n",
            "  inflating: Dataset/Testing/2015_06700.png  \n",
            "  inflating: Dataset/Testing/2015_06701.png  \n",
            "  inflating: Dataset/Testing/2015_06702.png  \n",
            "  inflating: Dataset/Testing/2015_06703.jpg  \n",
            "  inflating: Dataset/Testing/2015_06704.jpg  \n",
            "  inflating: Dataset/Testing/2015_06705.jpg  \n",
            "  inflating: Dataset/Testing/2015_06706.jpg  \n",
            "  inflating: Dataset/Testing/2015_06707.jpg  \n",
            "  inflating: Dataset/Testing/2015_06708.jpg  \n",
            "  inflating: Dataset/Testing/2015_06709.jpg  \n",
            "  inflating: Dataset/Testing/2015_06710.jpg  \n",
            "  inflating: Dataset/Testing/2015_06711.jpg  \n",
            "  inflating: Dataset/Testing/2015_06712.jpg  \n",
            "  inflating: Dataset/Testing/2015_06713.jpg  \n",
            "  inflating: Dataset/Testing/2015_06714.png  \n",
            "  inflating: Dataset/Testing/2015_06715.jpg  \n",
            "  inflating: Dataset/Testing/2015_06716.jpg  \n",
            "  inflating: Dataset/Testing/2015_06717.jpg  \n",
            "  inflating: Dataset/Testing/2015_06718.jpg  \n",
            "  inflating: Dataset/Testing/2015_06719.jpg  \n",
            "  inflating: Dataset/Testing/2015_06720.jpg  \n",
            "  inflating: Dataset/Testing/2015_06721.jpg  \n",
            "  inflating: Dataset/Testing/2015_06722.jpg  \n",
            "  inflating: Dataset/Testing/2015_06723.jpg  \n",
            "  inflating: Dataset/Testing/2015_06724.jpg  \n",
            "  inflating: Dataset/Testing/2015_06725.jpg  \n",
            "   creating: Dataset/Training/\n",
            "   creating: Dataset/Training/Bicycle/\n",
            "  inflating: Dataset/Training/Bicycle/2015_00001.png  \n",
            "  inflating: Dataset/Training/Bicycle/2015_00002.png  \n",
            "  inflating: Dataset/Training/Bicycle/2015_00003.png  \n",
            "  inflating: Dataset/Training/Bicycle/2015_00004.jpg  \n",
            "  inflating: Dataset/Training/Bicycle/2015_00005.jpg  \n",
            "  inflating: Dataset/Training/Bicycle/2015_00006.jpg  \n",
            "  inflating: Dataset/Training/Bicycle/2015_00007.jpg  \n",
            "  inflating: Dataset/Training/Bicycle/2015_00008.jpg  \n",
            "  inflating: Dataset/Training/Bicycle/2015_00009.jpg  \n",
            "  inflating: Dataset/Training/Bicycle/2015_00010.jpg  \n",
            "  inflating: Dataset/Training/Bicycle/2015_00011.jpg  \n",
            "  inflating: Dataset/Training/Bicycle/2015_00012.jpg  \n",
            "  inflating: Dataset/Training/Bicycle/2015_00013.jpg  \n",
            "  inflating: Dataset/Training/Bicycle/2015_00014.jpg  \n",
            "  inflating: Dataset/Training/Bicycle/2015_00015.jpg  \n",
            "  inflating: Dataset/Training/Bicycle/2015_00016.jpg  \n",
            "  inflating: Dataset/Training/Bicycle/2015_00017.jpg  \n",
            "  inflating: Dataset/Training/Bicycle/2015_00018.jpg  \n",
            "  inflating: Dataset/Training/Bicycle/2015_00019.jpg  \n",
            "  inflating: Dataset/Training/Bicycle/2015_00020.jpg  \n",
            "  inflating: Dataset/Training/Bicycle/2015_00021.jpg  \n",
            "  inflating: Dataset/Training/Bicycle/2015_00022.jpg  \n",
            "  inflating: Dataset/Training/Bicycle/2015_00023.jpg  \n",
            "  inflating: Dataset/Training/Bicycle/2015_00024.JPG  \n",
            "  inflating: Dataset/Training/Bicycle/2015_00025.jpg  \n",
            "  inflating: Dataset/Training/Bicycle/2015_00026.jpg  \n",
            "  inflating: Dataset/Training/Bicycle/2015_00027.jpg  \n",
            "  inflating: Dataset/Training/Bicycle/2015_00028.jpg  \n",
            "  inflating: Dataset/Training/Bicycle/2015_00029.jpg  \n",
            "  inflating: Dataset/Training/Bicycle/2015_00030.jpg  \n",
            "  inflating: Dataset/Training/Bicycle/2015_00031.jpg  \n",
            "  inflating: Dataset/Training/Bicycle/2015_00032.jpg  \n",
            "  inflating: Dataset/Training/Bicycle/2015_00033.jpg  \n",
            "  inflating: Dataset/Training/Bicycle/2015_00034.jpg  \n",
            "  inflating: Dataset/Training/Bicycle/2015_00035.jpg  \n",
            "  inflating: Dataset/Training/Bicycle/2015_00036.jpg  \n",
            "  inflating: Dataset/Training/Bicycle/2015_00037.jpg  \n",
            "  inflating: Dataset/Training/Bicycle/2015_00038.jpg  \n",
            "  inflating: Dataset/Training/Bicycle/2015_00039.jpg  \n",
            "  inflating: Dataset/Training/Bicycle/2015_00040.jpg  \n",
            "  inflating: Dataset/Training/Bicycle/2015_00041.jpg  \n",
            "  inflating: Dataset/Training/Bicycle/2015_00042.jpg  \n",
            "  inflating: Dataset/Training/Bicycle/2015_00043.jpg  \n",
            "  inflating: Dataset/Training/Bicycle/2015_00044.jpg  \n",
            "  inflating: Dataset/Training/Bicycle/2015_00045.jpg  \n",
            "  inflating: Dataset/Training/Bicycle/2015_00046.jpg  \n",
            "  inflating: Dataset/Training/Bicycle/2015_00047.jpg  \n",
            "  inflating: Dataset/Training/Bicycle/2015_00048.jpg  \n",
            "  inflating: Dataset/Training/Bicycle/2015_00049.jpg  \n",
            "  inflating: Dataset/Training/Bicycle/2015_00050.jpg  \n",
            "  inflating: Dataset/Training/Bicycle/2015_00051.jpg  \n",
            "  inflating: Dataset/Training/Bicycle/2015_00052.jpg  \n",
            "  inflating: Dataset/Training/Bicycle/2015_00053.jpg  \n",
            "  inflating: Dataset/Training/Bicycle/2015_00054.jpg  \n",
            "  inflating: Dataset/Training/Bicycle/2015_00055.jpg  \n",
            "  inflating: Dataset/Training/Bicycle/2015_00056.jpg  \n",
            "  inflating: Dataset/Training/Bicycle/2015_00057.jpg  \n",
            "  inflating: Dataset/Training/Bicycle/2015_00058.jpg  \n",
            "  inflating: Dataset/Training/Bicycle/2015_00059.jpg  \n",
            "  inflating: Dataset/Training/Bicycle/2015_00060.jpg  \n",
            "  inflating: Dataset/Training/Bicycle/2015_00061.jpg  \n",
            "  inflating: Dataset/Training/Bicycle/2015_00062.jpg  \n",
            "  inflating: Dataset/Training/Bicycle/2015_00063.jpg  \n",
            "  inflating: Dataset/Training/Bicycle/2015_00064.jpg  \n",
            "  inflating: Dataset/Training/Bicycle/2015_00065.jpg  \n",
            "  inflating: Dataset/Training/Bicycle/2015_00066.jpg  \n",
            "  inflating: Dataset/Training/Bicycle/2015_00067.jpg  \n",
            "  inflating: Dataset/Training/Bicycle/2015_00068.jpg  \n",
            "  inflating: Dataset/Training/Bicycle/2015_00069.jpg  \n",
            "  inflating: Dataset/Training/Bicycle/2015_00070.jpg  \n",
            "  inflating: Dataset/Training/Bicycle/2015_00071.jpg  \n",
            "  inflating: Dataset/Training/Bicycle/2015_00072.jpg  \n",
            "  inflating: Dataset/Training/Bicycle/2015_00073.jpg  \n",
            "  inflating: Dataset/Training/Bicycle/2015_00074.jpg  \n",
            "  inflating: Dataset/Training/Bicycle/2015_00075.jpg  \n",
            "  inflating: Dataset/Training/Bicycle/2015_00076.jpg  \n",
            "  inflating: Dataset/Training/Bicycle/2015_00077.jpg  \n",
            "  inflating: Dataset/Training/Bicycle/2015_00078.jpg  \n",
            "  inflating: Dataset/Training/Bicycle/2015_00079.jpg  \n",
            "  inflating: Dataset/Training/Bicycle/2015_00080.jpg  \n",
            "  inflating: Dataset/Training/Bicycle/2015_00081.jpg  \n",
            "  inflating: Dataset/Training/Bicycle/2015_00082.jpg  \n",
            "  inflating: Dataset/Training/Bicycle/2015_00083.jpg  \n",
            "  inflating: Dataset/Training/Bicycle/2015_00084.jpg  \n",
            "  inflating: Dataset/Training/Bicycle/2015_00085.jpg  \n",
            "  inflating: Dataset/Training/Bicycle/2015_00086.jpg  \n",
            "  inflating: Dataset/Training/Bicycle/2015_00087.jpg  \n",
            "  inflating: Dataset/Training/Bicycle/2015_00088.jpg  \n",
            "  inflating: Dataset/Training/Bicycle/2015_00089.jpg  \n",
            "  inflating: Dataset/Training/Bicycle/2015_00090.jpg  \n",
            "  inflating: Dataset/Training/Bicycle/2015_00091.jpg  \n",
            "  inflating: Dataset/Training/Bicycle/2015_00092.jpg  \n",
            "  inflating: Dataset/Training/Bicycle/2015_00093.jpg  \n",
            "  inflating: Dataset/Training/Bicycle/2015_00094.jpg  \n",
            "  inflating: Dataset/Training/Bicycle/2015_00095.jpg  \n",
            "  inflating: Dataset/Training/Bicycle/2015_00096.jpg  \n",
            "  inflating: Dataset/Training/Bicycle/2015_00097.jpg  \n",
            "  inflating: Dataset/Training/Bicycle/2015_00098.jpg  \n",
            "  inflating: Dataset/Training/Bicycle/2015_00099.jpg  \n",
            "  inflating: Dataset/Training/Bicycle/2015_00100.jpg  \n",
            "  inflating: Dataset/Training/Bicycle/2015_00101.jpg  \n",
            "  inflating: Dataset/Training/Bicycle/2015_00102.jpg  \n",
            "  inflating: Dataset/Training/Bicycle/2015_00103.jpg  \n",
            "  inflating: Dataset/Training/Bicycle/2015_00104.jpg  \n",
            "  inflating: Dataset/Training/Bicycle/2015_00105.jpg  \n",
            "  inflating: Dataset/Training/Bicycle/2015_00106.jpg  \n",
            "  inflating: Dataset/Training/Bicycle/2015_00107.jpg  \n",
            "  inflating: Dataset/Training/Bicycle/2015_00108.jpg  \n",
            "  inflating: Dataset/Training/Bicycle/2015_00109.jpg  \n",
            "  inflating: Dataset/Training/Bicycle/2015_00110.jpg  \n",
            "  inflating: Dataset/Training/Bicycle/2015_00111.jpg  \n",
            "  inflating: Dataset/Training/Bicycle/2015_00112.jpg  \n",
            "  inflating: Dataset/Training/Bicycle/2015_00113.jpg  \n",
            "  inflating: Dataset/Training/Bicycle/2015_00114.jpg  \n",
            "  inflating: Dataset/Training/Bicycle/2015_00115.jpg  \n",
            "  inflating: Dataset/Training/Bicycle/2015_00116.jpg  \n",
            "  inflating: Dataset/Training/Bicycle/2015_00117.jpg  \n",
            "  inflating: Dataset/Training/Bicycle/2015_00118.jpg  \n",
            "  inflating: Dataset/Training/Bicycle/2015_00119.jpg  \n",
            "  inflating: Dataset/Training/Bicycle/2015_00120.jpg  \n",
            "  inflating: Dataset/Training/Bicycle/2015_00121.jpg  \n",
            "  inflating: Dataset/Training/Bicycle/2015_00122.jpg  \n",
            "  inflating: Dataset/Training/Bicycle/2015_00123.jpg  \n",
            "  inflating: Dataset/Training/Bicycle/2015_00124.jpg  \n",
            "  inflating: Dataset/Training/Bicycle/2015_00125.jpg  \n",
            "  inflating: Dataset/Training/Bicycle/2015_00126.jpg  \n",
            "  inflating: Dataset/Training/Bicycle/2015_00127.jpg  \n",
            "  inflating: Dataset/Training/Bicycle/2015_00128.jpg  \n",
            "  inflating: Dataset/Training/Bicycle/2015_00129.jpg  \n",
            "  inflating: Dataset/Training/Bicycle/2015_00130.jpg  \n",
            "  inflating: Dataset/Training/Bicycle/2015_00131.jpg  \n",
            "  inflating: Dataset/Training/Bicycle/2015_00132.jpg  \n",
            "  inflating: Dataset/Training/Bicycle/2015_00133.jpg  \n",
            "  inflating: Dataset/Training/Bicycle/2015_00134.jpg  \n",
            "  inflating: Dataset/Training/Bicycle/2015_00135.jpg  \n",
            "  inflating: Dataset/Training/Bicycle/2015_00136.jpg  \n",
            "  inflating: Dataset/Training/Bicycle/2015_00137.jpg  \n",
            "  inflating: Dataset/Training/Bicycle/2015_00138.jpg  \n",
            "  inflating: Dataset/Training/Bicycle/2015_00139.jpg  \n",
            "  inflating: Dataset/Training/Bicycle/2015_00140.jpg  \n",
            "  inflating: Dataset/Training/Bicycle/2015_00141.jpg  \n",
            "  inflating: Dataset/Training/Bicycle/2015_00142.jpg  \n",
            "  inflating: Dataset/Training/Bicycle/2015_00143.jpg  \n",
            "  inflating: Dataset/Training/Bicycle/2015_00144.jpg  \n",
            "  inflating: Dataset/Training/Bicycle/2015_00145.jpg  \n",
            "  inflating: Dataset/Training/Bicycle/2015_00146.jpg  \n",
            "  inflating: Dataset/Training/Bicycle/2015_00147.jpg  \n",
            "  inflating: Dataset/Training/Bicycle/2015_00148.jpg  \n",
            "  inflating: Dataset/Training/Bicycle/2015_00149.jpg  \n",
            "  inflating: Dataset/Training/Bicycle/2015_00150.jpg  \n",
            "  inflating: Dataset/Training/Bicycle/2015_00151.jpg  \n",
            "  inflating: Dataset/Training/Bicycle/2015_00152.jpg  \n",
            "  inflating: Dataset/Training/Bicycle/2015_00153.jpg  \n",
            "  inflating: Dataset/Training/Bicycle/2015_00154.jpg  \n",
            "  inflating: Dataset/Training/Bicycle/2015_00155.jpg  \n",
            "  inflating: Dataset/Training/Bicycle/2015_00156.jpg  \n",
            "  inflating: Dataset/Training/Bicycle/2015_00157.jpg  \n",
            "  inflating: Dataset/Training/Bicycle/2015_00158.jpg  \n",
            "  inflating: Dataset/Training/Bicycle/2015_00159.jpg  \n",
            "  inflating: Dataset/Training/Bicycle/2015_00160.jpg  \n",
            "  inflating: Dataset/Training/Bicycle/2015_00161.jpg  \n",
            "  inflating: Dataset/Training/Bicycle/2015_00162.jpg  \n",
            "  inflating: Dataset/Training/Bicycle/2015_00163.jpg  \n",
            "  inflating: Dataset/Training/Bicycle/2015_00164.jpg  \n",
            "  inflating: Dataset/Training/Bicycle/2015_00165.jpg  \n",
            "  inflating: Dataset/Training/Bicycle/2015_00166.jpg  \n",
            "  inflating: Dataset/Training/Bicycle/2015_00167.jpg  \n",
            "  inflating: Dataset/Training/Bicycle/2015_00168.jpg  \n",
            "  inflating: Dataset/Training/Bicycle/2015_00169.jpg  \n",
            "  inflating: Dataset/Training/Bicycle/2015_00170.jpg  \n",
            "  inflating: Dataset/Training/Bicycle/2015_00171.jpg  \n",
            "  inflating: Dataset/Training/Bicycle/2015_00172.jpg  \n",
            "  inflating: Dataset/Training/Bicycle/2015_00173.jpg  \n",
            "  inflating: Dataset/Training/Bicycle/2015_00174.jpg  \n",
            "  inflating: Dataset/Training/Bicycle/2015_00175.jpg  \n",
            "  inflating: Dataset/Training/Bicycle/2015_00176.jpg  \n",
            "  inflating: Dataset/Training/Bicycle/2015_00177.jpg  \n",
            "  inflating: Dataset/Training/Bicycle/2015_00178.jpg  \n",
            "  inflating: Dataset/Training/Bicycle/2015_00179.jpg  \n",
            "  inflating: Dataset/Training/Bicycle/2015_00180.jpg  \n",
            "  inflating: Dataset/Training/Bicycle/2015_00181.jpg  \n",
            "  inflating: Dataset/Training/Bicycle/2015_00182.jpg  \n",
            "  inflating: Dataset/Training/Bicycle/2015_00183.jpg  \n",
            "  inflating: Dataset/Training/Bicycle/2015_00184.jpg  \n",
            "  inflating: Dataset/Training/Bicycle/2015_00185.jpg  \n",
            "  inflating: Dataset/Training/Bicycle/2015_00186.jpg  \n",
            "  inflating: Dataset/Training/Bicycle/2015_00187.jpg  \n",
            "  inflating: Dataset/Training/Bicycle/2015_00188.jpg  \n",
            "  inflating: Dataset/Training/Bicycle/2015_00189.jpg  \n",
            "  inflating: Dataset/Training/Bicycle/2015_00190.jpg  \n",
            "  inflating: Dataset/Training/Bicycle/2015_00191.jpg  \n",
            "  inflating: Dataset/Training/Bicycle/2015_00192.jpg  \n",
            "  inflating: Dataset/Training/Bicycle/2015_00193.jpg  \n",
            "  inflating: Dataset/Training/Bicycle/2015_00194.jpg  \n",
            "  inflating: Dataset/Training/Bicycle/2015_00195.jpg  \n",
            "  inflating: Dataset/Training/Bicycle/2015_00196.jpg  \n",
            "  inflating: Dataset/Training/Bicycle/2015_00197.png  \n",
            "  inflating: Dataset/Training/Bicycle/2015_00198.jpg  \n",
            "  inflating: Dataset/Training/Bicycle/2015_00199.jpg  \n",
            "  inflating: Dataset/Training/Bicycle/2015_00200.jpg  \n",
            "  inflating: Dataset/Training/Bicycle/2015_00201.jpg  \n",
            "  inflating: Dataset/Training/Bicycle/2015_00202.jpg  \n",
            "  inflating: Dataset/Training/Bicycle/2015_00203.jpg  \n",
            "  inflating: Dataset/Training/Bicycle/2015_00204.jpg  \n",
            "  inflating: Dataset/Training/Bicycle/2015_00205.jpg  \n",
            "  inflating: Dataset/Training/Bicycle/2015_00206.jpg  \n",
            "  inflating: Dataset/Training/Bicycle/2015_00207.jpg  \n",
            "  inflating: Dataset/Training/Bicycle/2015_00208.jpg  \n",
            "  inflating: Dataset/Training/Bicycle/2015_00209.jpg  \n",
            "  inflating: Dataset/Training/Bicycle/2015_00210.jpg  \n",
            "  inflating: Dataset/Training/Bicycle/2015_00211.jpg  \n",
            "  inflating: Dataset/Training/Bicycle/2015_00212.jpg  \n",
            "  inflating: Dataset/Training/Bicycle/2015_00213.jpg  \n",
            "  inflating: Dataset/Training/Bicycle/2015_00214.jpg  \n",
            "  inflating: Dataset/Training/Bicycle/2015_00215.jpg  \n",
            "  inflating: Dataset/Training/Bicycle/2015_00216.jpg  \n",
            "  inflating: Dataset/Training/Bicycle/2015_00217.jpg  \n",
            "  inflating: Dataset/Training/Bicycle/2015_00218.jpg  \n",
            "  inflating: Dataset/Training/Bicycle/2015_00219.jpg  \n",
            "  inflating: Dataset/Training/Bicycle/2015_00220.jpg  \n",
            "  inflating: Dataset/Training/Bicycle/2015_00221.jpg  \n",
            "  inflating: Dataset/Training/Bicycle/2015_00222.jpg  \n",
            "  inflating: Dataset/Training/Bicycle/2015_00223.jpg  \n",
            "  inflating: Dataset/Training/Bicycle/2015_00224.jpg  \n",
            "  inflating: Dataset/Training/Bicycle/2015_00225.jpg  \n",
            "  inflating: Dataset/Training/Bicycle/2015_00226.jpg  \n",
            "  inflating: Dataset/Training/Bicycle/2015_00227.jpg  \n",
            "  inflating: Dataset/Training/Bicycle/2015_00228.jpg  \n",
            "  inflating: Dataset/Training/Bicycle/2015_00229.jpg  \n",
            "  inflating: Dataset/Training/Bicycle/2015_00230.jpg  \n",
            "  inflating: Dataset/Training/Bicycle/2015_00231.jpg  \n",
            "  inflating: Dataset/Training/Bicycle/2015_00232.jpg  \n",
            "  inflating: Dataset/Training/Bicycle/2015_00233.jpg  \n",
            "  inflating: Dataset/Training/Bicycle/2015_00234.jpg  \n",
            "  inflating: Dataset/Training/Bicycle/2015_00235.jpg  \n",
            "  inflating: Dataset/Training/Bicycle/2015_00236.jpg  \n",
            "  inflating: Dataset/Training/Bicycle/2015_00237.jpg  \n",
            "  inflating: Dataset/Training/Bicycle/2015_00238.jpg  \n",
            "  inflating: Dataset/Training/Bicycle/2015_00239.jpg  \n",
            "  inflating: Dataset/Training/Bicycle/2015_00240.jpg  \n",
            "   creating: Dataset/Training/Motorbike/\n",
            "  inflating: Dataset/Training/Motorbike/2015_05745.jpg  \n",
            "  inflating: Dataset/Training/Motorbike/2015_05746.jpg  \n",
            "  inflating: Dataset/Training/Motorbike/2015_05747.png  \n",
            "  inflating: Dataset/Training/Motorbike/2015_05748.jpg  \n",
            "  inflating: Dataset/Training/Motorbike/2015_05749.png  \n",
            "  inflating: Dataset/Training/Motorbike/2015_05750.png  \n",
            "  inflating: Dataset/Training/Motorbike/2015_05751.jpg  \n",
            "  inflating: Dataset/Training/Motorbike/2015_05752.png  \n",
            "  inflating: Dataset/Training/Motorbike/2015_05753.png  \n",
            "  inflating: Dataset/Training/Motorbike/2015_05754.jpg  \n",
            "  inflating: Dataset/Training/Motorbike/2015_05755.jpg  \n",
            "  inflating: Dataset/Training/Motorbike/2015_05756.jpg  \n",
            "  inflating: Dataset/Training/Motorbike/2015_05757.jpg  \n",
            "  inflating: Dataset/Training/Motorbike/2015_05758.jpg  \n",
            "  inflating: Dataset/Training/Motorbike/2015_05759.jpg  \n",
            "  inflating: Dataset/Training/Motorbike/2015_05760.jpg  \n",
            "  inflating: Dataset/Training/Motorbike/2015_05761.jpg  \n",
            "  inflating: Dataset/Training/Motorbike/2015_05762.jpg  \n",
            "  inflating: Dataset/Training/Motorbike/2015_05763.jpg  \n",
            "  inflating: Dataset/Training/Motorbike/2015_05764.jpg  \n",
            "  inflating: Dataset/Training/Motorbike/2015_05765.jpg  \n",
            "  inflating: Dataset/Training/Motorbike/2015_05766.jpg  \n",
            "  inflating: Dataset/Training/Motorbike/2015_05767.jpg  \n",
            "  inflating: Dataset/Training/Motorbike/2015_05768.jpg  \n",
            "  inflating: Dataset/Training/Motorbike/2015_05769.jpg  \n",
            "  inflating: Dataset/Training/Motorbike/2015_05770.jpg  \n",
            "  inflating: Dataset/Training/Motorbike/2015_05771.jpg  \n",
            "  inflating: Dataset/Training/Motorbike/2015_05772.jpg  \n",
            "  inflating: Dataset/Training/Motorbike/2015_05773.jpg  \n",
            "  inflating: Dataset/Training/Motorbike/2015_05774.jpg  \n",
            "  inflating: Dataset/Training/Motorbike/2015_05775.jpg  \n",
            "  inflating: Dataset/Training/Motorbike/2015_05776.jpg  \n",
            "  inflating: Dataset/Training/Motorbike/2015_05777.jpg  \n",
            "  inflating: Dataset/Training/Motorbike/2015_05778.jpg  \n",
            "  inflating: Dataset/Training/Motorbike/2015_05779.jpg  \n",
            "  inflating: Dataset/Training/Motorbike/2015_05780.jpg  \n",
            "  inflating: Dataset/Training/Motorbike/2015_05781.jpg  \n",
            "  inflating: Dataset/Training/Motorbike/2015_05782.jpg  \n",
            "  inflating: Dataset/Training/Motorbike/2015_05783.jpg  \n",
            "  inflating: Dataset/Training/Motorbike/2015_05784.jpg  \n",
            "  inflating: Dataset/Training/Motorbike/2015_05785.jpg  \n",
            "  inflating: Dataset/Training/Motorbike/2015_05786.jpg  \n",
            "  inflating: Dataset/Training/Motorbike/2015_05787.jpg  \n",
            "  inflating: Dataset/Training/Motorbike/2015_05788.jpg  \n",
            "  inflating: Dataset/Training/Motorbike/2015_05789.jpg  \n",
            "  inflating: Dataset/Training/Motorbike/2015_05790.jpg  \n",
            "  inflating: Dataset/Training/Motorbike/2015_05791.jpg  \n",
            "  inflating: Dataset/Training/Motorbike/2015_05792.jpg  \n",
            "  inflating: Dataset/Training/Motorbike/2015_05793.jpg  \n",
            "  inflating: Dataset/Training/Motorbike/2015_05794.jpg  \n",
            "  inflating: Dataset/Training/Motorbike/2015_05795.jpg  \n",
            "  inflating: Dataset/Training/Motorbike/2015_05796.jpg  \n",
            "  inflating: Dataset/Training/Motorbike/2015_05797.jpg  \n",
            "  inflating: Dataset/Training/Motorbike/2015_05798.jpg  \n",
            "  inflating: Dataset/Training/Motorbike/2015_05799.jpg  \n",
            "  inflating: Dataset/Training/Motorbike/2015_05800.jpg  \n",
            "  inflating: Dataset/Training/Motorbike/2015_05801.jpg  \n",
            "  inflating: Dataset/Training/Motorbike/2015_05802.jpg  \n",
            "  inflating: Dataset/Training/Motorbike/2015_05803.jpg  \n",
            "  inflating: Dataset/Training/Motorbike/2015_05804.jpg  \n",
            "  inflating: Dataset/Training/Motorbike/2015_05805.jpg  \n",
            "  inflating: Dataset/Training/Motorbike/2015_05806.jpg  \n",
            "  inflating: Dataset/Training/Motorbike/2015_05807.jpg  \n",
            "  inflating: Dataset/Training/Motorbike/2015_05808.jpg  \n",
            "  inflating: Dataset/Training/Motorbike/2015_05809.jpg  \n",
            "  inflating: Dataset/Training/Motorbike/2015_05810.jpg  \n",
            "  inflating: Dataset/Training/Motorbike/2015_05811.jpg  \n",
            "  inflating: Dataset/Training/Motorbike/2015_05812.jpg  \n",
            "  inflating: Dataset/Training/Motorbike/2015_05813.jpg  \n",
            "  inflating: Dataset/Training/Motorbike/2015_05814.jpg  \n",
            "  inflating: Dataset/Training/Motorbike/2015_05815.jpg  \n",
            "  inflating: Dataset/Training/Motorbike/2015_05816.jpg  \n",
            "  inflating: Dataset/Training/Motorbike/2015_05817.jpg  \n",
            "  inflating: Dataset/Training/Motorbike/2015_05818.jpg  \n",
            "  inflating: Dataset/Training/Motorbike/2015_05819.jpg  \n",
            "  inflating: Dataset/Training/Motorbike/2015_05820.jpg  \n",
            "  inflating: Dataset/Training/Motorbike/2015_05821.jpg  \n",
            "  inflating: Dataset/Training/Motorbike/2015_05822.jpg  \n",
            "  inflating: Dataset/Training/Motorbike/2015_05823.jpg  \n",
            "  inflating: Dataset/Training/Motorbike/2015_05824.jpg  \n",
            "  inflating: Dataset/Training/Motorbike/2015_05825.jpg  \n",
            "  inflating: Dataset/Training/Motorbike/2015_05826.jpg  \n",
            "  inflating: Dataset/Training/Motorbike/2015_05827.jpg  \n",
            "  inflating: Dataset/Training/Motorbike/2015_05828.jpg  \n",
            "  inflating: Dataset/Training/Motorbike/2015_05829.jpg  \n",
            "  inflating: Dataset/Training/Motorbike/2015_05830.jpg  \n",
            "  inflating: Dataset/Training/Motorbike/2015_05831.jpg  \n",
            "  inflating: Dataset/Training/Motorbike/2015_05832.jpg  \n",
            "  inflating: Dataset/Training/Motorbike/2015_05833.jpg  \n",
            "  inflating: Dataset/Training/Motorbike/2015_05834.jpg  \n",
            "  inflating: Dataset/Training/Motorbike/2015_05835.jpg  \n",
            "  inflating: Dataset/Training/Motorbike/2015_05836.jpg  \n",
            "  inflating: Dataset/Training/Motorbike/2015_05837.jpg  \n",
            "  inflating: Dataset/Training/Motorbike/2015_05838.jpg  \n",
            "  inflating: Dataset/Training/Motorbike/2015_05839.jpg  \n",
            "  inflating: Dataset/Training/Motorbike/2015_05840.jpg  \n",
            "  inflating: Dataset/Training/Motorbike/2015_05841.jpg  \n",
            "  inflating: Dataset/Training/Motorbike/2015_05842.jpg  \n",
            "  inflating: Dataset/Training/Motorbike/2015_05843.jpg  \n",
            "  inflating: Dataset/Training/Motorbike/2015_05844.jpg  \n",
            "  inflating: Dataset/Training/Motorbike/2015_05845.jpg  \n",
            "  inflating: Dataset/Training/Motorbike/2015_05846.jpg  \n",
            "  inflating: Dataset/Training/Motorbike/2015_05847.jpg  \n",
            "  inflating: Dataset/Training/Motorbike/2015_05848.jpg  \n",
            "  inflating: Dataset/Training/Motorbike/2015_05849.jpg  \n",
            "  inflating: Dataset/Training/Motorbike/2015_05850.jpg  \n",
            "  inflating: Dataset/Training/Motorbike/2015_05851.jpg  \n",
            "  inflating: Dataset/Training/Motorbike/2015_05852.jpg  \n",
            "  inflating: Dataset/Training/Motorbike/2015_05853.jpg  \n",
            "  inflating: Dataset/Training/Motorbike/2015_05854.jpg  \n",
            "  inflating: Dataset/Training/Motorbike/2015_05855.jpg  \n",
            "  inflating: Dataset/Training/Motorbike/2015_05856.jpg  \n",
            "  inflating: Dataset/Training/Motorbike/2015_05857.jpg  \n",
            "  inflating: Dataset/Training/Motorbike/2015_05858.jpg  \n",
            "  inflating: Dataset/Training/Motorbike/2015_05859.jpg  \n",
            "  inflating: Dataset/Training/Motorbike/2015_05860.jpg  \n",
            "  inflating: Dataset/Training/Motorbike/2015_05861.jpg  \n",
            "  inflating: Dataset/Training/Motorbike/2015_05862.jpg  \n",
            "  inflating: Dataset/Training/Motorbike/2015_05863.jpg  \n",
            "  inflating: Dataset/Training/Motorbike/2015_05864.jpg  \n",
            "  inflating: Dataset/Training/Motorbike/2015_05865.jpg  \n",
            "  inflating: Dataset/Training/Motorbike/2015_05866.jpg  \n",
            "  inflating: Dataset/Training/Motorbike/2015_05867.jpg  \n",
            "  inflating: Dataset/Training/Motorbike/2015_05868.jpg  \n",
            "  inflating: Dataset/Training/Motorbike/2015_05869.jpg  \n",
            "  inflating: Dataset/Training/Motorbike/2015_05870.jpg  \n",
            "  inflating: Dataset/Training/Motorbike/2015_05871.jpg  \n",
            "  inflating: Dataset/Training/Motorbike/2015_05872.jpg  \n",
            "  inflating: Dataset/Training/Motorbike/2015_05873.jpg  \n",
            "  inflating: Dataset/Training/Motorbike/2015_05874.jpg  \n",
            "  inflating: Dataset/Training/Motorbike/2015_05875.jpg  \n",
            "  inflating: Dataset/Training/Motorbike/2015_05876.jpg  \n",
            "  inflating: Dataset/Training/Motorbike/2015_05877.jpg  \n",
            "  inflating: Dataset/Training/Motorbike/2015_05878.jpg  \n",
            "  inflating: Dataset/Training/Motorbike/2015_05879.jpg  \n",
            "  inflating: Dataset/Training/Motorbike/2015_05880.jpg  \n",
            "  inflating: Dataset/Training/Motorbike/2015_05881.jpg  \n",
            "  inflating: Dataset/Training/Motorbike/2015_05882.jpg  \n",
            "  inflating: Dataset/Training/Motorbike/2015_05883.jpg  \n",
            "  inflating: Dataset/Training/Motorbike/2015_05884.jpg  \n",
            "  inflating: Dataset/Training/Motorbike/2015_05885.jpg  \n",
            "  inflating: Dataset/Training/Motorbike/2015_05886.jpg  \n",
            "  inflating: Dataset/Training/Motorbike/2015_05887.jpg  \n",
            "  inflating: Dataset/Training/Motorbike/2015_05888.jpg  \n",
            "  inflating: Dataset/Training/Motorbike/2015_05889.jpg  \n",
            "  inflating: Dataset/Training/Motorbike/2015_05890.jpg  \n",
            "  inflating: Dataset/Training/Motorbike/2015_05891.jpg  \n",
            "  inflating: Dataset/Training/Motorbike/2015_05892.jpg  \n",
            "  inflating: Dataset/Training/Motorbike/2015_05893.jpg  \n",
            "  inflating: Dataset/Training/Motorbike/2015_05894.jpg  \n",
            "  inflating: Dataset/Training/Motorbike/2015_05895.jpg  \n",
            "  inflating: Dataset/Training/Motorbike/2015_05896.jpg  \n",
            "  inflating: Dataset/Training/Motorbike/2015_05897.jpg  \n",
            "  inflating: Dataset/Training/Motorbike/2015_05898.jpg  \n",
            "  inflating: Dataset/Training/Motorbike/2015_05899.jpg  \n",
            "  inflating: Dataset/Training/Motorbike/2015_05900.jpg  \n",
            "  inflating: Dataset/Training/Motorbike/2015_05901.jpg  \n",
            "  inflating: Dataset/Training/Motorbike/2015_05902.jpg  \n",
            "  inflating: Dataset/Training/Motorbike/2015_05903.jpg  \n",
            "  inflating: Dataset/Training/Motorbike/2015_05904.jpg  \n",
            "  inflating: Dataset/Training/Motorbike/2015_05905.jpg  \n",
            "  inflating: Dataset/Training/Motorbike/2015_05906.jpg  \n",
            "  inflating: Dataset/Training/Motorbike/2015_05907.jpg  \n",
            "  inflating: Dataset/Training/Motorbike/2015_05908.jpg  \n",
            "  inflating: Dataset/Training/Motorbike/2015_05909.jpg  \n",
            "  inflating: Dataset/Training/Motorbike/2015_05910.jpg  \n",
            "  inflating: Dataset/Training/Motorbike/2015_05911.jpg  \n",
            "  inflating: Dataset/Training/Motorbike/2015_05912.jpg  \n",
            "  inflating: Dataset/Training/Motorbike/2015_05913.jpg  \n",
            "  inflating: Dataset/Training/Motorbike/2015_05914.jpg  \n",
            "  inflating: Dataset/Training/Motorbike/2015_05915.jpg  \n",
            "  inflating: Dataset/Training/Motorbike/2015_05916.jpg  \n",
            "  inflating: Dataset/Training/Motorbike/2015_05917.jpg  \n",
            "  inflating: Dataset/Training/Motorbike/2015_05918.jpg  \n",
            "  inflating: Dataset/Training/Motorbike/2015_05919.jpg  \n",
            "  inflating: Dataset/Training/Motorbike/2015_05920.jpg  \n",
            "  inflating: Dataset/Training/Motorbike/2015_05921.jpg  \n",
            "  inflating: Dataset/Training/Motorbike/2015_05922.jpg  \n",
            "  inflating: Dataset/Training/Motorbike/2015_05923.jpg  \n",
            "  inflating: Dataset/Training/Motorbike/2015_05924.jpg  \n",
            "  inflating: Dataset/Training/Motorbike/2015_05925.jpg  \n",
            "  inflating: Dataset/Training/Motorbike/2015_05926.jpg  \n",
            "  inflating: Dataset/Training/Motorbike/2015_05927.jpg  \n",
            "  inflating: Dataset/Training/Motorbike/2015_05928.jpg  \n",
            "  inflating: Dataset/Training/Motorbike/2015_05929.jpg  \n",
            "  inflating: Dataset/Training/Motorbike/2015_05930.jpg  \n",
            "  inflating: Dataset/Training/Motorbike/2015_05931.jpg  \n",
            "  inflating: Dataset/Training/Motorbike/2015_05932.jpg  \n",
            "  inflating: Dataset/Training/Motorbike/2015_05933.jpg  \n",
            "  inflating: Dataset/Training/Motorbike/2015_05934.jpg  \n",
            "  inflating: Dataset/Training/Motorbike/2015_05935.jpg  \n",
            "  inflating: Dataset/Training/Motorbike/2015_05936.jpg  \n",
            "  inflating: Dataset/Training/Motorbike/2015_05937.jpg  \n",
            "  inflating: Dataset/Training/Motorbike/2015_05938.jpg  \n",
            "  inflating: Dataset/Training/Motorbike/2015_05939.jpg  \n",
            "  inflating: Dataset/Training/Motorbike/2015_05940.jpg  \n",
            "  inflating: Dataset/Training/Motorbike/2015_05941.jpg  \n",
            "  inflating: Dataset/Training/Motorbike/2015_05942.jpg  \n",
            "  inflating: Dataset/Training/Motorbike/2015_05943.jpg  \n",
            "  inflating: Dataset/Training/Motorbike/2015_05944.jpg  \n",
            "  inflating: Dataset/Training/Motorbike/2015_05945.jpg  \n",
            "  inflating: Dataset/Training/Motorbike/2015_05946.jpg  \n",
            "  inflating: Dataset/Training/Motorbike/2015_05947.jpg  \n",
            "  inflating: Dataset/Training/Motorbike/2015_05948.jpg  \n",
            "  inflating: Dataset/Training/Motorbike/2015_05949.jpg  \n",
            "  inflating: Dataset/Training/Motorbike/2015_05950.jpg  \n",
            "  inflating: Dataset/Training/Motorbike/2015_05951.jpg  \n",
            "  inflating: Dataset/Training/Motorbike/2015_05952.jpg  \n",
            "  inflating: Dataset/Training/Motorbike/2015_05953.jpg  \n",
            "  inflating: Dataset/Training/Motorbike/2015_05954.jpg  \n",
            "  inflating: Dataset/Training/Motorbike/2015_05955.jpg  \n",
            "  inflating: Dataset/Training/Motorbike/2015_05956.jpg  \n",
            "  inflating: Dataset/Training/Motorbike/2015_05957.jpg  \n",
            "  inflating: Dataset/Training/Motorbike/2015_05958.jpg  \n",
            "  inflating: Dataset/Training/Motorbike/2015_05959.jpg  \n",
            "  inflating: Dataset/Training/Motorbike/2015_05960.jpg  \n",
            "  inflating: Dataset/Training/Motorbike/2015_05961.jpg  \n",
            "  inflating: Dataset/Training/Motorbike/2015_05962.jpg  \n",
            "  inflating: Dataset/Training/Motorbike/2015_05963.jpg  \n",
            "  inflating: Dataset/Training/Motorbike/2015_05964.jpg  \n",
            "  inflating: Dataset/Training/Motorbike/2015_05965.jpg  \n",
            "  inflating: Dataset/Training/Motorbike/2015_05966.jpg  \n",
            "  inflating: Dataset/Training/Motorbike/2015_05967.jpg  \n",
            "  inflating: Dataset/Training/Motorbike/2015_05968.jpg  \n",
            "  inflating: Dataset/Training/Motorbike/2015_05969.jpg  \n",
            "  inflating: Dataset/Training/Motorbike/2015_05970.jpg  \n",
            "  inflating: Dataset/Training/Motorbike/2015_05971.jpg  \n",
            "  inflating: Dataset/Training/Motorbike/2015_05972.jpg  \n",
            "  inflating: Dataset/Training/Motorbike/2015_05973.jpg  \n",
            "  inflating: Dataset/Training/Motorbike/2015_05974.jpg  \n",
            "  inflating: Dataset/Training/Motorbike/2015_05975.jpg  \n",
            "  inflating: Dataset/Training/Motorbike/2015_05976.jpg  \n",
            "  inflating: Dataset/Training/Motorbike/2015_05977.jpg  \n",
            "  inflating: Dataset/Training/Motorbike/2015_05978.jpg  \n",
            "  inflating: Dataset/Training/Motorbike/2015_05979.jpg  \n",
            "  inflating: Dataset/Training/Motorbike/2015_05980.jpg  \n",
            "  inflating: Dataset/Training/Motorbike/2015_05981.jpg  \n",
            "  inflating: Dataset/Training/Motorbike/2015_05982.jpg  \n",
            "  inflating: Dataset/Training/Motorbike/2015_05983.jpg  \n",
            "  inflating: Dataset/Training/Motorbike/2015_05984.jpg  \n",
            "   creating: Dataset/Training/Cat/\n",
            "  inflating: Dataset/Training/Cat/2015_03042.jpg  \n",
            "  inflating: Dataset/Training/Cat/2015_03043.jpg  \n",
            "  inflating: Dataset/Training/Cat/2015_03044.jpg  \n",
            "  inflating: Dataset/Training/Cat/2015_03045.png  \n",
            "  inflating: Dataset/Training/Cat/2015_03046.png  \n",
            "  inflating: Dataset/Training/Cat/2015_03047.png  \n",
            "  inflating: Dataset/Training/Cat/2015_03048.jpg  \n",
            "  inflating: Dataset/Training/Cat/2015_03049.jpg  \n",
            "  inflating: Dataset/Training/Cat/2015_03050.jpg  \n",
            "  inflating: Dataset/Training/Cat/2015_03051.jpg  \n",
            "  inflating: Dataset/Training/Cat/2015_03052.jpg  \n",
            "  inflating: Dataset/Training/Cat/2015_03053.jpg  \n",
            "  inflating: Dataset/Training/Cat/2015_03054.jpg  \n",
            "  inflating: Dataset/Training/Cat/2015_03055.jpg  \n",
            "  inflating: Dataset/Training/Cat/2015_03056.jpg  \n",
            "  inflating: Dataset/Training/Cat/2015_03057.jpg  \n",
            "  inflating: Dataset/Training/Cat/2015_03058.jpg  \n",
            "  inflating: Dataset/Training/Cat/2015_03059.jpg  \n",
            "  inflating: Dataset/Training/Cat/2015_03060.jpg  \n",
            "  inflating: Dataset/Training/Cat/2015_03061.jpg  \n",
            "  inflating: Dataset/Training/Cat/2015_03062.jpg  \n",
            "  inflating: Dataset/Training/Cat/2015_03063.jpg  \n",
            "  inflating: Dataset/Training/Cat/2015_03064.jpg  \n",
            "  inflating: Dataset/Training/Cat/2015_03065.jpg  \n",
            "  inflating: Dataset/Training/Cat/2015_03066.jpg  \n",
            "  inflating: Dataset/Training/Cat/2015_03067.jpg  \n",
            "  inflating: Dataset/Training/Cat/2015_03068.jpg  \n",
            "  inflating: Dataset/Training/Cat/2015_03069.jpg  \n",
            "  inflating: Dataset/Training/Cat/2015_03070.jpg  \n",
            "  inflating: Dataset/Training/Cat/2015_03071.jpg  \n",
            "  inflating: Dataset/Training/Cat/2015_03072.jpg  \n",
            "  inflating: Dataset/Training/Cat/2015_03073.jpg  \n",
            "  inflating: Dataset/Training/Cat/2015_03074.jpg  \n",
            "  inflating: Dataset/Training/Cat/2015_03075.jpg  \n",
            "  inflating: Dataset/Training/Cat/2015_03076.jpg  \n",
            "  inflating: Dataset/Training/Cat/2015_03077.jpg  \n",
            "  inflating: Dataset/Training/Cat/2015_03078.jpg  \n",
            "  inflating: Dataset/Training/Cat/2015_03079.jpg  \n",
            "  inflating: Dataset/Training/Cat/2015_03080.jpg  \n",
            "  inflating: Dataset/Training/Cat/2015_03081.jpg  \n",
            "  inflating: Dataset/Training/Cat/2015_03082.jpg  \n",
            "  inflating: Dataset/Training/Cat/2015_03083.jpg  \n",
            "  inflating: Dataset/Training/Cat/2015_03084.jpg  \n",
            "  inflating: Dataset/Training/Cat/2015_03085.jpg  \n",
            "  inflating: Dataset/Training/Cat/2015_03086.jpg  \n",
            "  inflating: Dataset/Training/Cat/2015_03087.jpg  \n",
            "  inflating: Dataset/Training/Cat/2015_03088.jpg  \n",
            "  inflating: Dataset/Training/Cat/2015_03089.jpg  \n",
            "  inflating: Dataset/Training/Cat/2015_03090.jpg  \n",
            "  inflating: Dataset/Training/Cat/2015_03091.jpg  \n",
            "  inflating: Dataset/Training/Cat/2015_03092.jpg  \n",
            "  inflating: Dataset/Training/Cat/2015_03093.jpg  \n",
            "  inflating: Dataset/Training/Cat/2015_03094.jpg  \n",
            "  inflating: Dataset/Training/Cat/2015_03095.jpg  \n",
            "  inflating: Dataset/Training/Cat/2015_03096.jpg  \n",
            "  inflating: Dataset/Training/Cat/2015_03097.jpg  \n",
            "  inflating: Dataset/Training/Cat/2015_03098.jpg  \n",
            "  inflating: Dataset/Training/Cat/2015_03099.jpg  \n",
            "  inflating: Dataset/Training/Cat/2015_03100.jpg  \n",
            "  inflating: Dataset/Training/Cat/2015_03101.jpg  \n",
            "  inflating: Dataset/Training/Cat/2015_03102.jpg  \n",
            "  inflating: Dataset/Training/Cat/2015_03103.jpg  \n",
            "  inflating: Dataset/Training/Cat/2015_03104.jpg  \n",
            "  inflating: Dataset/Training/Cat/2015_03105.jpg  \n",
            "  inflating: Dataset/Training/Cat/2015_03106.jpg  \n",
            "  inflating: Dataset/Training/Cat/2015_03107.jpg  \n",
            "  inflating: Dataset/Training/Cat/2015_03108.jpg  \n",
            "  inflating: Dataset/Training/Cat/2015_03109.jpg  \n",
            "  inflating: Dataset/Training/Cat/2015_03110.jpg  \n",
            "  inflating: Dataset/Training/Cat/2015_03111.jpg  \n",
            "  inflating: Dataset/Training/Cat/2015_03112.jpg  \n",
            "  inflating: Dataset/Training/Cat/2015_03113.jpg  \n",
            "  inflating: Dataset/Training/Cat/2015_03114.jpg  \n",
            "  inflating: Dataset/Training/Cat/2015_03115.jpg  \n",
            "  inflating: Dataset/Training/Cat/2015_03116.jpg  \n",
            "  inflating: Dataset/Training/Cat/2015_03117.jpg  \n",
            "  inflating: Dataset/Training/Cat/2015_03118.jpg  \n",
            "  inflating: Dataset/Training/Cat/2015_03119.jpg  \n",
            "  inflating: Dataset/Training/Cat/2015_03120.jpg  \n",
            "  inflating: Dataset/Training/Cat/2015_03121.jpg  \n",
            "  inflating: Dataset/Training/Cat/2015_03122.jpg  \n",
            "  inflating: Dataset/Training/Cat/2015_03123.jpg  \n",
            "  inflating: Dataset/Training/Cat/2015_03124.jpg  \n",
            "  inflating: Dataset/Training/Cat/2015_03125.jpg  \n",
            "  inflating: Dataset/Training/Cat/2015_03126.jpg  \n",
            "  inflating: Dataset/Training/Cat/2015_03127.jpg  \n",
            "  inflating: Dataset/Training/Cat/2015_03128.jpg  \n",
            "  inflating: Dataset/Training/Cat/2015_03129.jpg  \n",
            "  inflating: Dataset/Training/Cat/2015_03130.jpg  \n",
            "  inflating: Dataset/Training/Cat/2015_03131.jpg  \n",
            "  inflating: Dataset/Training/Cat/2015_03132.jpg  \n",
            "  inflating: Dataset/Training/Cat/2015_03133.jpg  \n",
            "  inflating: Dataset/Training/Cat/2015_03134.jpg  \n",
            "  inflating: Dataset/Training/Cat/2015_03135.jpg  \n",
            "  inflating: Dataset/Training/Cat/2015_03136.jpg  \n",
            "  inflating: Dataset/Training/Cat/2015_03137.jpg  \n",
            "  inflating: Dataset/Training/Cat/2015_03138.jpg  \n",
            "  inflating: Dataset/Training/Cat/2015_03139.jpg  \n",
            "  inflating: Dataset/Training/Cat/2015_03140.jpg  \n",
            "  inflating: Dataset/Training/Cat/2015_03141.jpg  \n",
            "  inflating: Dataset/Training/Cat/2015_03142.jpg  \n",
            "  inflating: Dataset/Training/Cat/2015_03143.jpg  \n",
            "  inflating: Dataset/Training/Cat/2015_03144.jpg  \n",
            "  inflating: Dataset/Training/Cat/2015_03145.jpg  \n",
            "  inflating: Dataset/Training/Cat/2015_03146.jpg  \n",
            "  inflating: Dataset/Training/Cat/2015_03147.jpg  \n",
            "  inflating: Dataset/Training/Cat/2015_03148.jpg  \n",
            "  inflating: Dataset/Training/Cat/2015_03149.jpg  \n",
            "  inflating: Dataset/Training/Cat/2015_03150.jpg  \n",
            "  inflating: Dataset/Training/Cat/2015_03151.jpg  \n",
            "  inflating: Dataset/Training/Cat/2015_03152.jpg  \n",
            "  inflating: Dataset/Training/Cat/2015_03153.jpg  \n",
            "  inflating: Dataset/Training/Cat/2015_03154.jpg  \n",
            "  inflating: Dataset/Training/Cat/2015_03155.jpg  \n",
            "  inflating: Dataset/Training/Cat/2015_03156.jpg  \n",
            "  inflating: Dataset/Training/Cat/2015_03157.jpg  \n",
            "  inflating: Dataset/Training/Cat/2015_03158.jpg  \n",
            "  inflating: Dataset/Training/Cat/2015_03159.jpg  \n",
            "  inflating: Dataset/Training/Cat/2015_03160.jpg  \n",
            "  inflating: Dataset/Training/Cat/2015_03161.jpg  \n",
            "  inflating: Dataset/Training/Cat/2015_03162.jpg  \n",
            "  inflating: Dataset/Training/Cat/2015_03163.jpg  \n",
            "  inflating: Dataset/Training/Cat/2015_03164.jpg  \n",
            "  inflating: Dataset/Training/Cat/2015_03165.jpg  \n",
            "  inflating: Dataset/Training/Cat/2015_03166.jpg  \n",
            "  inflating: Dataset/Training/Cat/2015_03167.jpg  \n",
            "  inflating: Dataset/Training/Cat/2015_03168.jpg  \n",
            "  inflating: Dataset/Training/Cat/2015_03169.jpg  \n",
            "  inflating: Dataset/Training/Cat/2015_03170.jpg  \n",
            "  inflating: Dataset/Training/Cat/2015_03171.jpg  \n",
            "  inflating: Dataset/Training/Cat/2015_03172.jpg  \n",
            "  inflating: Dataset/Training/Cat/2015_03173.jpg  \n",
            "  inflating: Dataset/Training/Cat/2015_03174.jpg  \n",
            "  inflating: Dataset/Training/Cat/2015_03175.jpg  \n",
            "  inflating: Dataset/Training/Cat/2015_03176.jpg  \n",
            "  inflating: Dataset/Training/Cat/2015_03177.jpg  \n",
            "  inflating: Dataset/Training/Cat/2015_03178.jpg  \n",
            "  inflating: Dataset/Training/Cat/2015_03179.jpg  \n",
            "  inflating: Dataset/Training/Cat/2015_03180.jpg  \n",
            "  inflating: Dataset/Training/Cat/2015_03181.jpg  \n",
            "  inflating: Dataset/Training/Cat/2015_03182.jpg  \n",
            "  inflating: Dataset/Training/Cat/2015_03183.jpg  \n",
            "  inflating: Dataset/Training/Cat/2015_03184.jpg  \n",
            "  inflating: Dataset/Training/Cat/2015_03185.jpg  \n",
            "  inflating: Dataset/Training/Cat/2015_03186.jpg  \n",
            "  inflating: Dataset/Training/Cat/2015_03187.jpg  \n",
            "  inflating: Dataset/Training/Cat/2015_03188.jpg  \n",
            "  inflating: Dataset/Training/Cat/2015_03189.jpg  \n",
            "  inflating: Dataset/Training/Cat/2015_03190.jpg  \n",
            "  inflating: Dataset/Training/Cat/2015_03191.jpg  \n",
            "  inflating: Dataset/Training/Cat/2015_03192.jpg  \n",
            "  inflating: Dataset/Training/Cat/2015_03193.jpg  \n",
            "  inflating: Dataset/Training/Cat/2015_03194.jpg  \n",
            "  inflating: Dataset/Training/Cat/2015_03195.jpg  \n",
            "  inflating: Dataset/Training/Cat/2015_03196.jpg  \n",
            "  inflating: Dataset/Training/Cat/2015_03197.jpg  \n",
            "  inflating: Dataset/Training/Cat/2015_03198.jpg  \n",
            "  inflating: Dataset/Training/Cat/2015_03199.jpg  \n",
            "  inflating: Dataset/Training/Cat/2015_03200.jpg  \n",
            "  inflating: Dataset/Training/Cat/2015_03201.jpg  \n",
            "  inflating: Dataset/Training/Cat/2015_03202.jpg  \n",
            "  inflating: Dataset/Training/Cat/2015_03203.jpg  \n",
            "  inflating: Dataset/Training/Cat/2015_03204.jpg  \n",
            "  inflating: Dataset/Training/Cat/2015_03205.jpg  \n",
            "  inflating: Dataset/Training/Cat/2015_03206.jpg  \n",
            "  inflating: Dataset/Training/Cat/2015_03207.jpg  \n",
            "  inflating: Dataset/Training/Cat/2015_03208.jpg  \n",
            "  inflating: Dataset/Training/Cat/2015_03209.jpg  \n",
            "  inflating: Dataset/Training/Cat/2015_03210.jpg  \n",
            "  inflating: Dataset/Training/Cat/2015_03211.jpg  \n",
            "  inflating: Dataset/Training/Cat/2015_03212.jpg  \n",
            "  inflating: Dataset/Training/Cat/2015_03213.jpg  \n",
            "  inflating: Dataset/Training/Cat/2015_03214.jpg  \n",
            "  inflating: Dataset/Training/Cat/2015_03215.jpg  \n",
            "  inflating: Dataset/Training/Cat/2015_03216.jpg  \n",
            "  inflating: Dataset/Training/Cat/2015_03217.jpg  \n",
            "  inflating: Dataset/Training/Cat/2015_03218.jpg  \n",
            "  inflating: Dataset/Training/Cat/2015_03219.jpg  \n",
            "  inflating: Dataset/Training/Cat/2015_03220.jpg  \n",
            "  inflating: Dataset/Training/Cat/2015_03221.jpg  \n",
            "  inflating: Dataset/Training/Cat/2015_03222.jpg  \n",
            "  inflating: Dataset/Training/Cat/2015_03223.jpg  \n",
            "  inflating: Dataset/Training/Cat/2015_03224.jpg  \n",
            "  inflating: Dataset/Training/Cat/2015_03225.jpg  \n",
            "  inflating: Dataset/Training/Cat/2015_03226.jpg  \n",
            "  inflating: Dataset/Training/Cat/2015_03227.jpg  \n",
            "  inflating: Dataset/Training/Cat/2015_03228.jpg  \n",
            "  inflating: Dataset/Training/Cat/2015_03229.jpg  \n",
            "  inflating: Dataset/Training/Cat/2015_03230.jpg  \n",
            "  inflating: Dataset/Training/Cat/2015_03231.jpg  \n",
            "  inflating: Dataset/Training/Cat/2015_03232.jpg  \n",
            "  inflating: Dataset/Training/Cat/2015_03233.jpg  \n",
            "  inflating: Dataset/Training/Cat/2015_03234.jpg  \n",
            "  inflating: Dataset/Training/Cat/2015_03235.jpg  \n",
            "  inflating: Dataset/Training/Cat/2015_03236.jpg  \n",
            "  inflating: Dataset/Training/Cat/2015_03237.jpg  \n",
            "  inflating: Dataset/Training/Cat/2015_03238.jpg  \n",
            "  inflating: Dataset/Training/Cat/2015_03239.jpg  \n",
            "  inflating: Dataset/Training/Cat/2015_03240.jpg  \n",
            "  inflating: Dataset/Training/Cat/2015_03241.jpg  \n",
            "  inflating: Dataset/Training/Cat/2015_03242.jpg  \n",
            "  inflating: Dataset/Training/Cat/2015_03243.jpg  \n",
            "  inflating: Dataset/Training/Cat/2015_03244.jpg  \n",
            "  inflating: Dataset/Training/Cat/2015_03245.jpg  \n",
            "  inflating: Dataset/Training/Cat/2015_03246.jpg  \n",
            "  inflating: Dataset/Training/Cat/2015_03247.jpg  \n",
            "  inflating: Dataset/Training/Cat/2015_03248.jpg  \n",
            "  inflating: Dataset/Training/Cat/2015_03249.jpg  \n",
            "  inflating: Dataset/Training/Cat/2015_03250.jpg  \n",
            "  inflating: Dataset/Training/Cat/2015_03251.jpg  \n",
            "  inflating: Dataset/Training/Cat/2015_03252.jpg  \n",
            "  inflating: Dataset/Training/Cat/2015_03253.jpg  \n",
            "  inflating: Dataset/Training/Cat/2015_03254.jpg  \n",
            "  inflating: Dataset/Training/Cat/2015_03255.jpg  \n",
            "  inflating: Dataset/Training/Cat/2015_03256.jpg  \n",
            "  inflating: Dataset/Training/Cat/2015_03257.jpg  \n",
            "  inflating: Dataset/Training/Cat/2015_03258.jpg  \n",
            "  inflating: Dataset/Training/Cat/2015_03259.jpg  \n",
            "  inflating: Dataset/Training/Cat/2015_03260.jpg  \n",
            "  inflating: Dataset/Training/Cat/2015_03261.jpg  \n",
            "  inflating: Dataset/Training/Cat/2015_03262.jpg  \n",
            "  inflating: Dataset/Training/Cat/2015_03263.jpg  \n",
            "  inflating: Dataset/Training/Cat/2015_03264.jpg  \n",
            "  inflating: Dataset/Training/Cat/2015_03265.jpg  \n",
            "  inflating: Dataset/Training/Cat/2015_03266.jpg  \n",
            "  inflating: Dataset/Training/Cat/2015_03267.jpg  \n",
            "  inflating: Dataset/Training/Cat/2015_03268.jpg  \n",
            "  inflating: Dataset/Training/Cat/2015_03269.jpg  \n",
            "  inflating: Dataset/Training/Cat/2015_03270.jpg  \n",
            "  inflating: Dataset/Training/Cat/2015_03271.jpg  \n",
            "  inflating: Dataset/Training/Cat/2015_03272.jpg  \n",
            "  inflating: Dataset/Training/Cat/2015_03273.jpg  \n",
            "  inflating: Dataset/Training/Cat/2015_03274.jpg  \n",
            "  inflating: Dataset/Training/Cat/2015_03275.jpg  \n",
            "  inflating: Dataset/Training/Cat/2015_03276.jpg  \n",
            "  inflating: Dataset/Training/Cat/2015_03277.jpg  \n",
            "  inflating: Dataset/Training/Cat/2015_03278.jpg  \n",
            "  inflating: Dataset/Training/Cat/2015_03279.jpg  \n",
            "  inflating: Dataset/Training/Cat/2015_03280.jpg  \n",
            "  inflating: Dataset/Training/Cat/2015_03281.jpg  \n",
            "   creating: Dataset/Training/Table/\n",
            "  inflating: Dataset/Training/Table/2015_06852.jpg  \n",
            "  inflating: Dataset/Training/Table/2015_06853.jpg  \n",
            "  inflating: Dataset/Training/Table/2015_06854.jpg  \n",
            "  inflating: Dataset/Training/Table/2015_06855.jpg  \n",
            "  inflating: Dataset/Training/Table/2015_06856.jpg  \n",
            "  inflating: Dataset/Training/Table/2015_06857.jpg  \n",
            "  inflating: Dataset/Training/Table/2015_06858.jpg  \n",
            "  inflating: Dataset/Training/Table/2015_06859.jpg  \n",
            "  inflating: Dataset/Training/Table/2015_06860.jpg  \n",
            "  inflating: Dataset/Training/Table/2015_06861.jpg  \n",
            "  inflating: Dataset/Training/Table/2015_06862.jpg  \n",
            "  inflating: Dataset/Training/Table/2015_06863.jpg  \n",
            "  inflating: Dataset/Training/Table/2015_06864.jpg  \n",
            "  inflating: Dataset/Training/Table/2015_06865.jpg  \n",
            "  inflating: Dataset/Training/Table/2015_06866.jpg  \n",
            "  inflating: Dataset/Training/Table/2015_06867.jpg  \n",
            "  inflating: Dataset/Training/Table/2015_06868.jpg  \n",
            "  inflating: Dataset/Training/Table/2015_06869.jpg  \n",
            "  inflating: Dataset/Training/Table/2015_06870.jpg  \n",
            "  inflating: Dataset/Training/Table/2015_06871.jpg  \n",
            "  inflating: Dataset/Training/Table/2015_06872.jpg  \n",
            "  inflating: Dataset/Training/Table/2015_06873.jpg  \n",
            "  inflating: Dataset/Training/Table/2015_06874.jpg  \n",
            "  inflating: Dataset/Training/Table/2015_06875.jpg  \n",
            "  inflating: Dataset/Training/Table/2015_06876.jpg  \n",
            "  inflating: Dataset/Training/Table/2015_06877.jpg  \n",
            "  inflating: Dataset/Training/Table/2015_06878.jpg  \n",
            "  inflating: Dataset/Training/Table/2015_06879.jpg  \n",
            "  inflating: Dataset/Training/Table/2015_06880.jpg  \n",
            "  inflating: Dataset/Training/Table/2015_06881.jpg  \n",
            "  inflating: Dataset/Training/Table/2015_06882.jpg  \n",
            "  inflating: Dataset/Training/Table/2015_06883.jpg  \n",
            "  inflating: Dataset/Training/Table/2015_06884.jpg  \n",
            "  inflating: Dataset/Training/Table/2015_06885.jpg  \n",
            "  inflating: Dataset/Training/Table/2015_06886.jpg  \n",
            "  inflating: Dataset/Training/Table/2015_06887.jpg  \n",
            "  inflating: Dataset/Training/Table/2015_06888.jpg  \n",
            "  inflating: Dataset/Training/Table/2015_06889.jpg  \n",
            "  inflating: Dataset/Training/Table/2015_06890.jpg  \n",
            "  inflating: Dataset/Training/Table/2015_06891.jpg  \n",
            "  inflating: Dataset/Training/Table/2015_06892.jpg  \n",
            "  inflating: Dataset/Training/Table/2015_06893.jpg  \n",
            "  inflating: Dataset/Training/Table/2015_06894.jpg  \n",
            "  inflating: Dataset/Training/Table/2015_06895.jpg  \n",
            "  inflating: Dataset/Training/Table/2015_06896.jpg  \n",
            "  inflating: Dataset/Training/Table/2015_06897.jpg  \n",
            "  inflating: Dataset/Training/Table/2015_06898.jpg  \n",
            "  inflating: Dataset/Training/Table/2015_06899.jpg  \n",
            "  inflating: Dataset/Training/Table/2015_06900.jpg  \n",
            "  inflating: Dataset/Training/Table/2015_06901.jpg  \n",
            "  inflating: Dataset/Training/Table/2015_06902.jpg  \n",
            "  inflating: Dataset/Training/Table/2015_06903.jpg  \n",
            "  inflating: Dataset/Training/Table/2015_06904.jpg  \n",
            "  inflating: Dataset/Training/Table/2015_06905.jpg  \n",
            "  inflating: Dataset/Training/Table/2015_06906.jpg  \n",
            "  inflating: Dataset/Training/Table/2015_06907.jpg  \n",
            "  inflating: Dataset/Training/Table/2015_06908.jpg  \n",
            "  inflating: Dataset/Training/Table/2015_06909.jpg  \n",
            "  inflating: Dataset/Training/Table/2015_06910.jpg  \n",
            "  inflating: Dataset/Training/Table/2015_06911.jpg  \n",
            "  inflating: Dataset/Training/Table/2015_06912.jpg  \n",
            "  inflating: Dataset/Training/Table/2015_06913.jpg  \n",
            "  inflating: Dataset/Training/Table/2015_06914.jpg  \n",
            "  inflating: Dataset/Training/Table/2015_06915.jpg  \n",
            "  inflating: Dataset/Training/Table/2015_06916.jpg  \n",
            "  inflating: Dataset/Training/Table/2015_06917.jpg  \n",
            "  inflating: Dataset/Training/Table/2015_06918.jpg  \n",
            "  inflating: Dataset/Training/Table/2015_06919.jpg  \n",
            "  inflating: Dataset/Training/Table/2015_06920.jpg  \n",
            "  inflating: Dataset/Training/Table/2015_06921.jpg  \n",
            "  inflating: Dataset/Training/Table/2015_06922.jpg  \n",
            "  inflating: Dataset/Training/Table/2015_06923.jpg  \n",
            "  inflating: Dataset/Training/Table/2015_06924.jpg  \n",
            "  inflating: Dataset/Training/Table/2015_06925.jpg  \n",
            "  inflating: Dataset/Training/Table/2015_06926.jpg  \n",
            "  inflating: Dataset/Training/Table/2015_06927.jpg  \n",
            "  inflating: Dataset/Training/Table/2015_06928.jpg  \n",
            "  inflating: Dataset/Training/Table/2015_06929.jpg  \n",
            "  inflating: Dataset/Training/Table/2015_06930.jpg  \n",
            "  inflating: Dataset/Training/Table/2015_06931.jpg  \n",
            "  inflating: Dataset/Training/Table/2015_06932.jpg  \n",
            "  inflating: Dataset/Training/Table/2015_06933.jpg  \n",
            "  inflating: Dataset/Training/Table/2015_06934.jpg  \n",
            "  inflating: Dataset/Training/Table/2015_06935.jpg  \n",
            "  inflating: Dataset/Training/Table/2015_06936.jpg  \n",
            "  inflating: Dataset/Training/Table/2015_06937.jpg  \n",
            "  inflating: Dataset/Training/Table/2015_06938.jpg  \n",
            "  inflating: Dataset/Training/Table/2015_06939.jpg  \n",
            "  inflating: Dataset/Training/Table/2015_06940.jpg  \n",
            "  inflating: Dataset/Training/Table/2015_06941.jpg  \n",
            "  inflating: Dataset/Training/Table/2015_06942.jpg  \n",
            "  inflating: Dataset/Training/Table/2015_06943.jpg  \n",
            "  inflating: Dataset/Training/Table/2015_06944.jpg  \n",
            "  inflating: Dataset/Training/Table/2015_06945.jpg  \n",
            "  inflating: Dataset/Training/Table/2015_06946.jpg  \n",
            "  inflating: Dataset/Training/Table/2015_06947.jpg  \n",
            "  inflating: Dataset/Training/Table/2015_06948.jpg  \n",
            "  inflating: Dataset/Training/Table/2015_06949.jpg  \n",
            "  inflating: Dataset/Training/Table/2015_06950.jpg  \n",
            "  inflating: Dataset/Training/Table/2015_06951.jpg  \n",
            "  inflating: Dataset/Training/Table/2015_06952.jpg  \n",
            "  inflating: Dataset/Training/Table/2015_06953.jpg  \n",
            "  inflating: Dataset/Training/Table/2015_06954.jpg  \n",
            "  inflating: Dataset/Training/Table/2015_06955.jpg  \n",
            "  inflating: Dataset/Training/Table/2015_06956.jpg  \n",
            "  inflating: Dataset/Training/Table/2015_06957.jpg  \n",
            "  inflating: Dataset/Training/Table/2015_06958.jpg  \n",
            "  inflating: Dataset/Training/Table/2015_06959.jpg  \n",
            "  inflating: Dataset/Training/Table/2015_06960.jpg  \n",
            "  inflating: Dataset/Training/Table/2015_06961.jpg  \n",
            "  inflating: Dataset/Training/Table/2015_06962.jpg  \n",
            "  inflating: Dataset/Training/Table/2015_06963.jpg  \n",
            "  inflating: Dataset/Training/Table/2015_06964.jpg  \n",
            "  inflating: Dataset/Training/Table/2015_06965.jpg  \n",
            "  inflating: Dataset/Training/Table/2015_06966.jpg  \n",
            "  inflating: Dataset/Training/Table/2015_06967.jpg  \n",
            "  inflating: Dataset/Training/Table/2015_06968.jpg  \n",
            "  inflating: Dataset/Training/Table/2015_06969.jpg  \n",
            "  inflating: Dataset/Training/Table/2015_06970.jpg  \n",
            "  inflating: Dataset/Training/Table/2015_06971.jpg  \n",
            "  inflating: Dataset/Training/Table/2015_06972.jpg  \n",
            "  inflating: Dataset/Training/Table/2015_06973.jpg  \n",
            "  inflating: Dataset/Training/Table/2015_06974.jpg  \n",
            "  inflating: Dataset/Training/Table/2015_06975.jpg  \n",
            "  inflating: Dataset/Training/Table/2015_06976.jpg  \n",
            "  inflating: Dataset/Training/Table/2015_06977.jpg  \n",
            "  inflating: Dataset/Training/Table/2015_06978.jpg  \n",
            "  inflating: Dataset/Training/Table/2015_06979.jpg  \n",
            "  inflating: Dataset/Training/Table/2015_06980.jpg  \n",
            "  inflating: Dataset/Training/Table/2015_06981.jpg  \n",
            "  inflating: Dataset/Training/Table/2015_06982.jpg  \n",
            "  inflating: Dataset/Training/Table/2015_06983.jpg  \n",
            "  inflating: Dataset/Training/Table/2015_06984.jpg  \n",
            "  inflating: Dataset/Training/Table/2015_06985.jpg  \n",
            "  inflating: Dataset/Training/Table/2015_06986.jpg  \n",
            "  inflating: Dataset/Training/Table/2015_06987.jpg  \n",
            "  inflating: Dataset/Training/Table/2015_06988.jpg  \n",
            "  inflating: Dataset/Training/Table/2015_06989.jpg  \n",
            "  inflating: Dataset/Training/Table/2015_06990.jpg  \n",
            "  inflating: Dataset/Training/Table/2015_06991.jpg  \n",
            "  inflating: Dataset/Training/Table/2015_06992.jpg  \n",
            "  inflating: Dataset/Training/Table/2015_06993.jpg  \n",
            "  inflating: Dataset/Training/Table/2015_06994.jpg  \n",
            "  inflating: Dataset/Training/Table/2015_06995.jpg  \n",
            "  inflating: Dataset/Training/Table/2015_06996.jpg  \n",
            "  inflating: Dataset/Training/Table/2015_06997.jpg  \n",
            "  inflating: Dataset/Training/Table/2015_06998.jpg  \n",
            "  inflating: Dataset/Training/Table/2015_06999.jpg  \n",
            "  inflating: Dataset/Training/Table/2015_07000.jpg  \n",
            "  inflating: Dataset/Training/Table/2015_07001.jpg  \n",
            "  inflating: Dataset/Training/Table/2015_07002.jpg  \n",
            "  inflating: Dataset/Training/Table/2015_07003.jpg  \n",
            "  inflating: Dataset/Training/Table/2015_07004.jpg  \n",
            "  inflating: Dataset/Training/Table/2015_07005.jpg  \n",
            "  inflating: Dataset/Training/Table/2015_07006.jpg  \n",
            "  inflating: Dataset/Training/Table/2015_07007.jpg  \n",
            "  inflating: Dataset/Training/Table/2015_07008.jpg  \n",
            "  inflating: Dataset/Training/Table/2015_07009.jpg  \n",
            "  inflating: Dataset/Training/Table/2015_07010.jpg  \n",
            "  inflating: Dataset/Training/Table/2015_07011.jpg  \n",
            "  inflating: Dataset/Training/Table/2015_07012.jpg  \n",
            "  inflating: Dataset/Training/Table/2015_07013.jpg  \n",
            "  inflating: Dataset/Training/Table/2015_07014.jpg  \n",
            "  inflating: Dataset/Training/Table/2015_07015.jpg  \n",
            "  inflating: Dataset/Training/Table/2015_07016.jpg  \n",
            "  inflating: Dataset/Training/Table/2015_07017.jpg  \n",
            "  inflating: Dataset/Training/Table/2015_07018.jpg  \n",
            "  inflating: Dataset/Training/Table/2015_07019.jpg  \n",
            "  inflating: Dataset/Training/Table/2015_07020.jpg  \n",
            "  inflating: Dataset/Training/Table/2015_07021.jpg  \n",
            "  inflating: Dataset/Training/Table/2015_07022.jpg  \n",
            "  inflating: Dataset/Training/Table/2015_07023.jpg  \n",
            "  inflating: Dataset/Training/Table/2015_07024.jpg  \n",
            "  inflating: Dataset/Training/Table/2015_07025.jpg  \n",
            "  inflating: Dataset/Training/Table/2015_07026.jpg  \n",
            "  inflating: Dataset/Training/Table/2015_07027.jpg  \n",
            "  inflating: Dataset/Training/Table/2015_07028.jpg  \n",
            "  inflating: Dataset/Training/Table/2015_07029.jpg  \n",
            "  inflating: Dataset/Training/Table/2015_07030.jpg  \n",
            "  inflating: Dataset/Training/Table/2015_07031.jpg  \n",
            "  inflating: Dataset/Training/Table/2015_07032.jpg  \n",
            "  inflating: Dataset/Training/Table/2015_07033.jpg  \n",
            "  inflating: Dataset/Training/Table/2015_07034.jpg  \n",
            "  inflating: Dataset/Training/Table/2015_07035.jpg  \n",
            "  inflating: Dataset/Training/Table/2015_07036.jpg  \n",
            "  inflating: Dataset/Training/Table/2015_07037.jpg  \n",
            "  inflating: Dataset/Training/Table/2015_07038.jpg  \n",
            "  inflating: Dataset/Training/Table/2015_07039.jpg  \n",
            "  inflating: Dataset/Training/Table/2015_07040.jpg  \n",
            "  inflating: Dataset/Training/Table/2015_07041.jpg  \n",
            "  inflating: Dataset/Training/Table/2015_07042.jpg  \n",
            "  inflating: Dataset/Training/Table/2015_07043.jpg  \n",
            "  inflating: Dataset/Training/Table/2015_07044.jpg  \n",
            "  inflating: Dataset/Training/Table/2015_07045.jpg  \n",
            "  inflating: Dataset/Training/Table/2015_07046.jpg  \n",
            "  inflating: Dataset/Training/Table/2015_07047.jpg  \n",
            "  inflating: Dataset/Training/Table/2015_07048.jpg  \n",
            "  inflating: Dataset/Training/Table/2015_07049.jpg  \n",
            "  inflating: Dataset/Training/Table/2015_07050.jpg  \n",
            "  inflating: Dataset/Training/Table/2015_07051.jpg  \n",
            "  inflating: Dataset/Training/Table/2015_07052.jpg  \n",
            "  inflating: Dataset/Training/Table/2015_07053.jpg  \n",
            "  inflating: Dataset/Training/Table/2015_07054.jpg  \n",
            "  inflating: Dataset/Training/Table/2015_07055.jpg  \n",
            "  inflating: Dataset/Training/Table/2015_07056.jpg  \n",
            "  inflating: Dataset/Training/Table/2015_07057.jpg  \n",
            "  inflating: Dataset/Training/Table/2015_07058.jpg  \n",
            "  inflating: Dataset/Training/Table/2015_07059.jpg  \n",
            "  inflating: Dataset/Training/Table/2015_07060.jpg  \n",
            "  inflating: Dataset/Training/Table/2015_07061.jpg  \n",
            "  inflating: Dataset/Training/Table/2015_07062.jpg  \n",
            "  inflating: Dataset/Training/Table/2015_07063.jpg  \n",
            "  inflating: Dataset/Training/Table/2015_07064.jpg  \n",
            "  inflating: Dataset/Training/Table/2015_07065.jpg  \n",
            "  inflating: Dataset/Training/Table/2015_07066.jpg  \n",
            "  inflating: Dataset/Training/Table/2015_07067.jpg  \n",
            "  inflating: Dataset/Training/Table/2015_07068.jpg  \n",
            "  inflating: Dataset/Training/Table/2015_07069.jpg  \n",
            "  inflating: Dataset/Training/Table/2015_07070.jpg  \n",
            "  inflating: Dataset/Training/Table/2015_07071.jpg  \n",
            "  inflating: Dataset/Training/Table/2015_07072.jpg  \n",
            "  inflating: Dataset/Training/Table/2015_07073.jpg  \n",
            "  inflating: Dataset/Training/Table/2015_07074.jpg  \n",
            "  inflating: Dataset/Training/Table/2015_07075.jpg  \n",
            "  inflating: Dataset/Training/Table/2015_07076.jpg  \n",
            "  inflating: Dataset/Training/Table/2015_07077.jpg  \n",
            "  inflating: Dataset/Training/Table/2015_07078.jpg  \n",
            "  inflating: Dataset/Training/Table/2015_07079.jpg  \n",
            "  inflating: Dataset/Training/Table/2015_07080.jpg  \n",
            "  inflating: Dataset/Training/Table/2015_07081.jpg  \n",
            "  inflating: Dataset/Training/Table/2015_07082.jpg  \n",
            "  inflating: Dataset/Training/Table/2015_07083.jpg  \n",
            "  inflating: Dataset/Training/Table/2015_07084.jpg  \n",
            "  inflating: Dataset/Training/Table/2015_07085.jpg  \n",
            "  inflating: Dataset/Training/Table/2015_07086.jpg  \n",
            "  inflating: Dataset/Training/Table/2015_07087.jpg  \n",
            "  inflating: Dataset/Training/Table/2015_07088.jpg  \n",
            "  inflating: Dataset/Training/Table/2015_07089.jpg  \n",
            "  inflating: Dataset/Training/Table/2015_07090.jpg  \n",
            "  inflating: Dataset/Training/Table/2015_07091.jpg  \n",
            "   creating: Dataset/Training/Boat/\n",
            "  inflating: Dataset/Training/Boat/2015_00653.jpg  \n",
            "  inflating: Dataset/Training/Boat/2015_00654.jpg  \n",
            "  inflating: Dataset/Training/Boat/2015_00655.jpg  \n",
            "  inflating: Dataset/Training/Boat/2015_00656.jpg  \n",
            "  inflating: Dataset/Training/Boat/2015_00657.jpg  \n",
            "  inflating: Dataset/Training/Boat/2015_00658.jpg  \n",
            "  inflating: Dataset/Training/Boat/2015_00659.jpg  \n",
            "  inflating: Dataset/Training/Boat/2015_00660.jpg  \n",
            "  inflating: Dataset/Training/Boat/2015_00661.jpg  \n",
            "  inflating: Dataset/Training/Boat/2015_00662.jpg  \n",
            "  inflating: Dataset/Training/Boat/2015_00663.jpg  \n",
            "  inflating: Dataset/Training/Boat/2015_00664.jpg  \n",
            "  inflating: Dataset/Training/Boat/2015_00665.jpg  \n",
            "  inflating: Dataset/Training/Boat/2015_00666.jpg  \n",
            "  inflating: Dataset/Training/Boat/2015_00667.jpg  \n",
            "  inflating: Dataset/Training/Boat/2015_00668.jpg  \n",
            "  inflating: Dataset/Training/Boat/2015_00669.jpg  \n",
            "  inflating: Dataset/Training/Boat/2015_00670.jpg  \n",
            "  inflating: Dataset/Training/Boat/2015_00671.jpg  \n",
            "  inflating: Dataset/Training/Boat/2015_00672.jpg  \n",
            "  inflating: Dataset/Training/Boat/2015_00673.jpg  \n",
            "  inflating: Dataset/Training/Boat/2015_00674.jpg  \n",
            "  inflating: Dataset/Training/Boat/2015_00675.jpg  \n",
            "  inflating: Dataset/Training/Boat/2015_00676.jpg  \n",
            "  inflating: Dataset/Training/Boat/2015_00677.jpg  \n",
            "  inflating: Dataset/Training/Boat/2015_00678.jpg  \n",
            "  inflating: Dataset/Training/Boat/2015_00679.jpg  \n",
            "  inflating: Dataset/Training/Boat/2015_00680.jpg  \n",
            "  inflating: Dataset/Training/Boat/2015_00681.jpg  \n",
            "  inflating: Dataset/Training/Boat/2015_00682.jpg  \n",
            "  inflating: Dataset/Training/Boat/2015_00683.jpg  \n",
            "  inflating: Dataset/Training/Boat/2015_00684.jpg  \n",
            "  inflating: Dataset/Training/Boat/2015_00685.jpg  \n",
            "  inflating: Dataset/Training/Boat/2015_00686.jpg  \n",
            "  inflating: Dataset/Training/Boat/2015_00687.jpg  \n",
            "  inflating: Dataset/Training/Boat/2015_00688.jpg  \n",
            "  inflating: Dataset/Training/Boat/2015_00689.jpg  \n",
            "  inflating: Dataset/Training/Boat/2015_00690.jpg  \n",
            "  inflating: Dataset/Training/Boat/2015_00691.jpg  \n",
            "  inflating: Dataset/Training/Boat/2015_00692.jpg  \n",
            "  inflating: Dataset/Training/Boat/2015_00693.jpg  \n",
            "  inflating: Dataset/Training/Boat/2015_00694.jpg  \n",
            "  inflating: Dataset/Training/Boat/2015_00695.jpg  \n",
            "  inflating: Dataset/Training/Boat/2015_00696.jpg  \n",
            "  inflating: Dataset/Training/Boat/2015_00697.jpg  \n",
            "  inflating: Dataset/Training/Boat/2015_00698.jpg  \n",
            "  inflating: Dataset/Training/Boat/2015_00699.jpg  \n",
            "  inflating: Dataset/Training/Boat/2015_00700.jpg  \n",
            "  inflating: Dataset/Training/Boat/2015_00701.jpg  \n",
            "  inflating: Dataset/Training/Boat/2015_00702.jpg  \n",
            "  inflating: Dataset/Training/Boat/2015_00703.jpg  \n",
            "  inflating: Dataset/Training/Boat/2015_00704.jpg  \n",
            "  inflating: Dataset/Training/Boat/2015_00705.jpg  \n",
            "  inflating: Dataset/Training/Boat/2015_00706.jpg  \n",
            "  inflating: Dataset/Training/Boat/2015_00707.jpg  \n",
            "  inflating: Dataset/Training/Boat/2015_00708.jpg  \n",
            "  inflating: Dataset/Training/Boat/2015_00709.jpg  \n",
            "  inflating: Dataset/Training/Boat/2015_00710.jpg  \n",
            "  inflating: Dataset/Training/Boat/2015_00711.jpg  \n",
            "  inflating: Dataset/Training/Boat/2015_00712.jpg  \n",
            "  inflating: Dataset/Training/Boat/2015_00713.jpg  \n",
            "  inflating: Dataset/Training/Boat/2015_00714.jpg  \n",
            "  inflating: Dataset/Training/Boat/2015_00715.jpg  \n",
            "  inflating: Dataset/Training/Boat/2015_00716.jpg  \n",
            "  inflating: Dataset/Training/Boat/2015_00717.jpg  \n",
            "  inflating: Dataset/Training/Boat/2015_00718.jpg  \n",
            "  inflating: Dataset/Training/Boat/2015_00719.jpg  \n",
            "  inflating: Dataset/Training/Boat/2015_00720.jpg  \n",
            "  inflating: Dataset/Training/Boat/2015_00721.jpg  \n",
            "  inflating: Dataset/Training/Boat/2015_00722.jpg  \n",
            "  inflating: Dataset/Training/Boat/2015_00723.jpg  \n",
            "  inflating: Dataset/Training/Boat/2015_00724.jpg  \n",
            "  inflating: Dataset/Training/Boat/2015_00725.jpg  \n",
            "  inflating: Dataset/Training/Boat/2015_00726.jpg  \n",
            "  inflating: Dataset/Training/Boat/2015_00727.jpg  \n",
            "  inflating: Dataset/Training/Boat/2015_00728.jpg  \n",
            "  inflating: Dataset/Training/Boat/2015_00729.jpg  \n",
            "  inflating: Dataset/Training/Boat/2015_00730.jpg  \n",
            "  inflating: Dataset/Training/Boat/2015_00731.jpg  \n",
            "  inflating: Dataset/Training/Boat/2015_00732.jpg  \n",
            "  inflating: Dataset/Training/Boat/2015_00733.jpg  \n",
            "  inflating: Dataset/Training/Boat/2015_00734.jpg  \n",
            "  inflating: Dataset/Training/Boat/2015_00735.jpg  \n",
            "  inflating: Dataset/Training/Boat/2015_00736.jpg  \n",
            "  inflating: Dataset/Training/Boat/2015_00737.jpg  \n",
            "  inflating: Dataset/Training/Boat/2015_00738.jpg  \n",
            "  inflating: Dataset/Training/Boat/2015_00739.jpg  \n",
            "  inflating: Dataset/Training/Boat/2015_00740.jpg  \n",
            "  inflating: Dataset/Training/Boat/2015_00741.jpg  \n",
            "  inflating: Dataset/Training/Boat/2015_00742.jpg  \n",
            "  inflating: Dataset/Training/Boat/2015_00743.jpg  \n",
            "  inflating: Dataset/Training/Boat/2015_00744.jpg  \n",
            "  inflating: Dataset/Training/Boat/2015_00745.jpg  \n",
            "  inflating: Dataset/Training/Boat/2015_00746.jpg  \n",
            "  inflating: Dataset/Training/Boat/2015_00747.jpg  \n",
            "  inflating: Dataset/Training/Boat/2015_00748.jpg  \n",
            "  inflating: Dataset/Training/Boat/2015_00749.jpg  \n",
            "  inflating: Dataset/Training/Boat/2015_00750.jpg  \n",
            "  inflating: Dataset/Training/Boat/2015_00751.jpg  \n",
            "  inflating: Dataset/Training/Boat/2015_00752.jpg  \n",
            "  inflating: Dataset/Training/Boat/2015_00753.jpg  \n",
            "  inflating: Dataset/Training/Boat/2015_00754.jpg  \n",
            "  inflating: Dataset/Training/Boat/2015_00755.jpg  \n",
            "  inflating: Dataset/Training/Boat/2015_00756.jpg  \n",
            "  inflating: Dataset/Training/Boat/2015_00757.jpg  \n",
            "  inflating: Dataset/Training/Boat/2015_00758.jpg  \n",
            "  inflating: Dataset/Training/Boat/2015_00759.jpg  \n",
            "  inflating: Dataset/Training/Boat/2015_00760.jpg  \n",
            "  inflating: Dataset/Training/Boat/2015_00761.jpg  \n",
            "  inflating: Dataset/Training/Boat/2015_00762.jpg  \n",
            "  inflating: Dataset/Training/Boat/2015_00763.jpg  \n",
            "  inflating: Dataset/Training/Boat/2015_00764.jpg  \n",
            "  inflating: Dataset/Training/Boat/2015_00765.jpg  \n",
            "  inflating: Dataset/Training/Boat/2015_00766.jpg  \n",
            "  inflating: Dataset/Training/Boat/2015_00767.jpg  \n",
            "  inflating: Dataset/Training/Boat/2015_00768.jpg  \n",
            "  inflating: Dataset/Training/Boat/2015_00769.jpg  \n",
            "  inflating: Dataset/Training/Boat/2015_00770.jpg  \n",
            "  inflating: Dataset/Training/Boat/2015_00771.jpg  \n",
            "  inflating: Dataset/Training/Boat/2015_00772.jpg  \n",
            "  inflating: Dataset/Training/Boat/2015_00773.jpg  \n",
            "  inflating: Dataset/Training/Boat/2015_00774.jpg  \n",
            "  inflating: Dataset/Training/Boat/2015_00775.jpg  \n",
            "  inflating: Dataset/Training/Boat/2015_00776.jpg  \n",
            "  inflating: Dataset/Training/Boat/2015_00777.jpg  \n",
            "  inflating: Dataset/Training/Boat/2015_00778.jpg  \n",
            "  inflating: Dataset/Training/Boat/2015_00779.jpg  \n",
            "  inflating: Dataset/Training/Boat/2015_00780.jpg  \n",
            "  inflating: Dataset/Training/Boat/2015_00781.jpg  \n",
            "  inflating: Dataset/Training/Boat/2015_00782.jpg  \n",
            "  inflating: Dataset/Training/Boat/2015_00783.jpg  \n",
            "  inflating: Dataset/Training/Boat/2015_00784.jpg  \n",
            "  inflating: Dataset/Training/Boat/2015_00785.jpg  \n",
            "  inflating: Dataset/Training/Boat/2015_00786.jpg  \n",
            "  inflating: Dataset/Training/Boat/2015_00787.jpg  \n",
            "  inflating: Dataset/Training/Boat/2015_00788.jpg  \n",
            "  inflating: Dataset/Training/Boat/2015_00789.jpg  \n",
            "  inflating: Dataset/Training/Boat/2015_00790.jpg  \n",
            "  inflating: Dataset/Training/Boat/2015_00791.jpg  \n",
            "  inflating: Dataset/Training/Boat/2015_00792.jpg  \n",
            "  inflating: Dataset/Training/Boat/2015_00793.jpg  \n",
            "  inflating: Dataset/Training/Boat/2015_00794.jpg  \n",
            "  inflating: Dataset/Training/Boat/2015_00795.jpg  \n",
            "  inflating: Dataset/Training/Boat/2015_00796.jpg  \n",
            "  inflating: Dataset/Training/Boat/2015_00797.jpg  \n",
            "  inflating: Dataset/Training/Boat/2015_00798.jpg  \n",
            "  inflating: Dataset/Training/Boat/2015_00799.jpg  \n",
            "  inflating: Dataset/Training/Boat/2015_00800.jpg  \n",
            "  inflating: Dataset/Training/Boat/2015_00801.jpg  \n",
            "  inflating: Dataset/Training/Boat/2015_00802.jpg  \n",
            "  inflating: Dataset/Training/Boat/2015_00803.jpg  \n",
            "  inflating: Dataset/Training/Boat/2015_00804.jpg  \n",
            "  inflating: Dataset/Training/Boat/2015_00805.jpg  \n",
            "  inflating: Dataset/Training/Boat/2015_00806.jpg  \n",
            "  inflating: Dataset/Training/Boat/2015_00807.jpg  \n",
            "  inflating: Dataset/Training/Boat/2015_00808.jpg  \n",
            "  inflating: Dataset/Training/Boat/2015_00809.jpg  \n",
            "  inflating: Dataset/Training/Boat/2015_00810.jpg  \n",
            "  inflating: Dataset/Training/Boat/2015_00811.jpg  \n",
            "  inflating: Dataset/Training/Boat/2015_00812.jpg  \n",
            "  inflating: Dataset/Training/Boat/2015_00813.jpg  \n",
            "  inflating: Dataset/Training/Boat/2015_00814.jpg  \n",
            "  inflating: Dataset/Training/Boat/2015_00815.jpg  \n",
            "  inflating: Dataset/Training/Boat/2015_00816.jpg  \n",
            "  inflating: Dataset/Training/Boat/2015_00817.jpg  \n",
            "  inflating: Dataset/Training/Boat/2015_00818.jpg  \n",
            "  inflating: Dataset/Training/Boat/2015_00819.jpg  \n",
            "  inflating: Dataset/Training/Boat/2015_00820.jpg  \n",
            "  inflating: Dataset/Training/Boat/2015_00821.jpg  \n",
            "  inflating: Dataset/Training/Boat/2015_00822.jpg  \n",
            "  inflating: Dataset/Training/Boat/2015_00823.jpg  \n",
            "  inflating: Dataset/Training/Boat/2015_00824.jpg  \n",
            "  inflating: Dataset/Training/Boat/2015_00825.jpg  \n",
            "  inflating: Dataset/Training/Boat/2015_00826.jpg  \n",
            "  inflating: Dataset/Training/Boat/2015_00827.jpg  \n",
            "  inflating: Dataset/Training/Boat/2015_00828.jpg  \n",
            "  inflating: Dataset/Training/Boat/2015_00829.jpg  \n",
            "  inflating: Dataset/Training/Boat/2015_00830.jpg  \n",
            "  inflating: Dataset/Training/Boat/2015_00831.jpg  \n",
            "  inflating: Dataset/Training/Boat/2015_00832.jpg  \n",
            "  inflating: Dataset/Training/Boat/2015_00833.jpg  \n",
            "  inflating: Dataset/Training/Boat/2015_00834.jpg  \n",
            "  inflating: Dataset/Training/Boat/2015_00835.jpg  \n",
            "  inflating: Dataset/Training/Boat/2015_00836.jpg  \n",
            "  inflating: Dataset/Training/Boat/2015_00837.jpg  \n",
            "  inflating: Dataset/Training/Boat/2015_00838.jpg  \n",
            "  inflating: Dataset/Training/Boat/2015_00839.jpg  \n",
            "  inflating: Dataset/Training/Boat/2015_00840.jpg  \n",
            "  inflating: Dataset/Training/Boat/2015_00841.jpg  \n",
            "  inflating: Dataset/Training/Boat/2015_00842.jpg  \n",
            "  inflating: Dataset/Training/Boat/2015_00843.jpg  \n",
            "  inflating: Dataset/Training/Boat/2015_00844.jpg  \n",
            "  inflating: Dataset/Training/Boat/2015_00845.jpg  \n",
            "  inflating: Dataset/Training/Boat/2015_00846.jpg  \n",
            "  inflating: Dataset/Training/Boat/2015_00847.jpg  \n",
            "  inflating: Dataset/Training/Boat/2015_00848.jpg  \n",
            "  inflating: Dataset/Training/Boat/2015_00849.jpg  \n",
            "  inflating: Dataset/Training/Boat/2015_00850.jpg  \n",
            "  inflating: Dataset/Training/Boat/2015_00851.jpg  \n",
            "  inflating: Dataset/Training/Boat/2015_00852.jpg  \n",
            "  inflating: Dataset/Training/Boat/2015_00853.jpg  \n",
            "  inflating: Dataset/Training/Boat/2015_00854.jpg  \n",
            "  inflating: Dataset/Training/Boat/2015_00855.jpg  \n",
            "  inflating: Dataset/Training/Boat/2015_00856.jpg  \n",
            "  inflating: Dataset/Training/Boat/2015_00857.jpg  \n",
            "  inflating: Dataset/Training/Boat/2015_00858.jpg  \n",
            "  inflating: Dataset/Training/Boat/2015_00859.jpg  \n",
            "  inflating: Dataset/Training/Boat/2015_00860.jpg  \n",
            "  inflating: Dataset/Training/Boat/2015_00861.jpg  \n",
            "  inflating: Dataset/Training/Boat/2015_00862.jpg  \n",
            "  inflating: Dataset/Training/Boat/2015_00863.jpg  \n",
            "  inflating: Dataset/Training/Boat/2015_00864.jpg  \n",
            "  inflating: Dataset/Training/Boat/2015_00865.jpg  \n",
            "  inflating: Dataset/Training/Boat/2015_00866.jpg  \n",
            "  inflating: Dataset/Training/Boat/2015_00867.jpg  \n",
            "  inflating: Dataset/Training/Boat/2015_00868.jpg  \n",
            "  inflating: Dataset/Training/Boat/2015_00869.jpg  \n",
            "  inflating: Dataset/Training/Boat/2015_00870.jpg  \n",
            "  inflating: Dataset/Training/Boat/2015_00871.jpg  \n",
            "  inflating: Dataset/Training/Boat/2015_00872.jpg  \n",
            "  inflating: Dataset/Training/Boat/2015_00873.jpg  \n",
            "  inflating: Dataset/Training/Boat/2015_00874.jpg  \n",
            "  inflating: Dataset/Training/Boat/2015_00875.jpg  \n",
            "  inflating: Dataset/Training/Boat/2015_00876.jpg  \n",
            "  inflating: Dataset/Training/Boat/2015_00877.jpg  \n",
            "  inflating: Dataset/Training/Boat/2015_00878.jpg  \n",
            "  inflating: Dataset/Training/Boat/2015_00879.jpg  \n",
            "  inflating: Dataset/Training/Boat/2015_00880.jpg  \n",
            "  inflating: Dataset/Training/Boat/2015_00881.jpg  \n",
            "  inflating: Dataset/Training/Boat/2015_00882.jpg  \n",
            "  inflating: Dataset/Training/Boat/2015_00883.jpg  \n",
            "  inflating: Dataset/Training/Boat/2015_00884.jpg  \n",
            "  inflating: Dataset/Training/Boat/2015_00885.jpg  \n",
            "  inflating: Dataset/Training/Boat/2015_00886.jpg  \n",
            "  inflating: Dataset/Training/Boat/2015_00887.jpg  \n",
            "  inflating: Dataset/Training/Boat/2015_00888.jpg  \n",
            "  inflating: Dataset/Training/Boat/2015_00889.jpg  \n",
            "  inflating: Dataset/Training/Boat/2015_00890.jpg  \n",
            "  inflating: Dataset/Training/Boat/2015_00891.jpg  \n",
            "  inflating: Dataset/Training/Boat/2015_00892.jpg  \n",
            "   creating: Dataset/Training/People/\n",
            "  inflating: Dataset/Training/People/2015_06246.jpg  \n",
            "  inflating: Dataset/Training/People/2015_06247.jpg  \n",
            "  inflating: Dataset/Training/People/2015_06248.jpg  \n",
            "  inflating: Dataset/Training/People/2015_06249.jpg  \n",
            "  inflating: Dataset/Training/People/2015_06250.jpg  \n",
            "  inflating: Dataset/Training/People/2015_06251.jpg  \n",
            "  inflating: Dataset/Training/People/2015_06252.jpg  \n",
            "  inflating: Dataset/Training/People/2015_06253.jpg  \n",
            "  inflating: Dataset/Training/People/2015_06254.jpg  \n",
            "  inflating: Dataset/Training/People/2015_06255.jpg  \n",
            "  inflating: Dataset/Training/People/2015_06256.jpg  \n",
            "  inflating: Dataset/Training/People/2015_06257.jpg  \n",
            "  inflating: Dataset/Training/People/2015_06258.jpg  \n",
            "  inflating: Dataset/Training/People/2015_06259.jpg  \n",
            "  inflating: Dataset/Training/People/2015_06260.jpg  \n",
            "  inflating: Dataset/Training/People/2015_06261.jpg  \n",
            "  inflating: Dataset/Training/People/2015_06262.jpg  \n",
            "  inflating: Dataset/Training/People/2015_06263.jpg  \n",
            "  inflating: Dataset/Training/People/2015_06264.jpg  \n",
            "  inflating: Dataset/Training/People/2015_06265.jpg  \n",
            "  inflating: Dataset/Training/People/2015_06266.jpg  \n",
            "  inflating: Dataset/Training/People/2015_06267.jpg  \n",
            "  inflating: Dataset/Training/People/2015_06268.jpg  \n",
            "  inflating: Dataset/Training/People/2015_06269.jpg  \n",
            "  inflating: Dataset/Training/People/2015_06270.jpg  \n",
            "  inflating: Dataset/Training/People/2015_06271.jpg  \n",
            "  inflating: Dataset/Training/People/2015_06272.jpg  \n",
            "  inflating: Dataset/Training/People/2015_06273.jpg  \n",
            "  inflating: Dataset/Training/People/2015_06274.jpg  \n",
            "  inflating: Dataset/Training/People/2015_06275.jpg  \n",
            "  inflating: Dataset/Training/People/2015_06276.jpg  \n",
            "  inflating: Dataset/Training/People/2015_06277.jpg  \n",
            "  inflating: Dataset/Training/People/2015_06278.jpg  \n",
            "  inflating: Dataset/Training/People/2015_06279.jpg  \n",
            "  inflating: Dataset/Training/People/2015_06280.jpg  \n",
            "  inflating: Dataset/Training/People/2015_06281.jpg  \n",
            "  inflating: Dataset/Training/People/2015_06282.jpg  \n",
            "  inflating: Dataset/Training/People/2015_06283.jpg  \n",
            "  inflating: Dataset/Training/People/2015_06284.jpg  \n",
            "  inflating: Dataset/Training/People/2015_06285.jpg  \n",
            "  inflating: Dataset/Training/People/2015_06286.jpg  \n",
            "  inflating: Dataset/Training/People/2015_06287.jpg  \n",
            "  inflating: Dataset/Training/People/2015_06288.jpg  \n",
            "  inflating: Dataset/Training/People/2015_06289.jpg  \n",
            "  inflating: Dataset/Training/People/2015_06290.jpg  \n",
            "  inflating: Dataset/Training/People/2015_06291.jpg  \n",
            "  inflating: Dataset/Training/People/2015_06292.jpg  \n",
            "  inflating: Dataset/Training/People/2015_06293.jpg  \n",
            "  inflating: Dataset/Training/People/2015_06294.jpg  \n",
            "  inflating: Dataset/Training/People/2015_06295.jpg  \n",
            "  inflating: Dataset/Training/People/2015_06296.jpg  \n",
            "  inflating: Dataset/Training/People/2015_06297.jpg  \n",
            "  inflating: Dataset/Training/People/2015_06298.jpg  \n",
            "  inflating: Dataset/Training/People/2015_06299.jpg  \n",
            "  inflating: Dataset/Training/People/2015_06300.jpg  \n",
            "  inflating: Dataset/Training/People/2015_06301.jpg  \n",
            "  inflating: Dataset/Training/People/2015_06302.jpg  \n",
            "  inflating: Dataset/Training/People/2015_06303.jpg  \n",
            "  inflating: Dataset/Training/People/2015_06304.jpg  \n",
            "  inflating: Dataset/Training/People/2015_06305.jpg  \n",
            "  inflating: Dataset/Training/People/2015_06306.jpg  \n",
            "  inflating: Dataset/Training/People/2015_06307.jpg  \n",
            "  inflating: Dataset/Training/People/2015_06308.jpg  \n",
            "  inflating: Dataset/Training/People/2015_06309.jpg  \n",
            "  inflating: Dataset/Training/People/2015_06310.jpg  \n",
            "  inflating: Dataset/Training/People/2015_06311.jpg  \n",
            "  inflating: Dataset/Training/People/2015_06312.jpg  \n",
            "  inflating: Dataset/Training/People/2015_06313.jpg  \n",
            "  inflating: Dataset/Training/People/2015_06314.jpg  \n",
            "  inflating: Dataset/Training/People/2015_06315.jpg  \n",
            "  inflating: Dataset/Training/People/2015_06316.jpg  \n",
            "  inflating: Dataset/Training/People/2015_06317.jpg  \n",
            "  inflating: Dataset/Training/People/2015_06318.jpg  \n",
            "  inflating: Dataset/Training/People/2015_06319.jpg  \n",
            "  inflating: Dataset/Training/People/2015_06320.jpg  \n",
            "  inflating: Dataset/Training/People/2015_06321.jpg  \n",
            "  inflating: Dataset/Training/People/2015_06322.jpg  \n",
            "  inflating: Dataset/Training/People/2015_06323.jpg  \n",
            "  inflating: Dataset/Training/People/2015_06324.jpg  \n",
            "  inflating: Dataset/Training/People/2015_06325.jpg  \n",
            "  inflating: Dataset/Training/People/2015_06326.jpg  \n",
            "  inflating: Dataset/Training/People/2015_06327.jpg  \n",
            "  inflating: Dataset/Training/People/2015_06328.jpg  \n",
            "  inflating: Dataset/Training/People/2015_06329.jpg  \n",
            "  inflating: Dataset/Training/People/2015_06330.jpg  \n",
            "  inflating: Dataset/Training/People/2015_06331.jpg  \n",
            "  inflating: Dataset/Training/People/2015_06332.jpg  \n",
            "  inflating: Dataset/Training/People/2015_06333.jpg  \n",
            "  inflating: Dataset/Training/People/2015_06334.jpg  \n",
            "  inflating: Dataset/Training/People/2015_06335.jpg  \n",
            "  inflating: Dataset/Training/People/2015_06336.jpg  \n",
            "  inflating: Dataset/Training/People/2015_06337.jpg  \n",
            "  inflating: Dataset/Training/People/2015_06338.jpg  \n",
            "  inflating: Dataset/Training/People/2015_06339.jpg  \n",
            "  inflating: Dataset/Training/People/2015_06340.jpg  \n",
            "  inflating: Dataset/Training/People/2015_06341.jpg  \n",
            "  inflating: Dataset/Training/People/2015_06342.jpg  \n",
            "  inflating: Dataset/Training/People/2015_06343.jpg  \n",
            "  inflating: Dataset/Training/People/2015_06344.jpg  \n",
            "  inflating: Dataset/Training/People/2015_06345.jpg  \n",
            "  inflating: Dataset/Training/People/2015_06346.jpg  \n",
            "  inflating: Dataset/Training/People/2015_06347.jpg  \n",
            "  inflating: Dataset/Training/People/2015_06348.jpg  \n",
            "  inflating: Dataset/Training/People/2015_06349.jpg  \n",
            "  inflating: Dataset/Training/People/2015_06350.jpg  \n",
            "  inflating: Dataset/Training/People/2015_06351.jpg  \n",
            "  inflating: Dataset/Training/People/2015_06352.jpg  \n",
            "  inflating: Dataset/Training/People/2015_06353.jpg  \n",
            "  inflating: Dataset/Training/People/2015_06354.jpg  \n",
            "  inflating: Dataset/Training/People/2015_06355.jpg  \n",
            "  inflating: Dataset/Training/People/2015_06356.jpg  \n",
            "  inflating: Dataset/Training/People/2015_06357.jpg  \n",
            "  inflating: Dataset/Training/People/2015_06358.jpg  \n",
            "  inflating: Dataset/Training/People/2015_06359.jpg  \n",
            "  inflating: Dataset/Training/People/2015_06360.jpg  \n",
            "  inflating: Dataset/Training/People/2015_06361.jpg  \n",
            "  inflating: Dataset/Training/People/2015_06362.jpg  \n",
            "  inflating: Dataset/Training/People/2015_06363.jpg  \n",
            "  inflating: Dataset/Training/People/2015_06364.jpg  \n",
            "  inflating: Dataset/Training/People/2015_06365.jpg  \n",
            "  inflating: Dataset/Training/People/2015_06366.jpg  \n",
            "  inflating: Dataset/Training/People/2015_06367.jpg  \n",
            "  inflating: Dataset/Training/People/2015_06368.jpg  \n",
            "  inflating: Dataset/Training/People/2015_06369.jpg  \n",
            "  inflating: Dataset/Training/People/2015_06370.jpg  \n",
            "  inflating: Dataset/Training/People/2015_06371.jpg  \n",
            "  inflating: Dataset/Training/People/2015_06372.jpg  \n",
            "  inflating: Dataset/Training/People/2015_06373.jpg  \n",
            "  inflating: Dataset/Training/People/2015_06374.jpg  \n",
            "  inflating: Dataset/Training/People/2015_06375.jpg  \n",
            "  inflating: Dataset/Training/People/2015_06376.jpg  \n",
            "  inflating: Dataset/Training/People/2015_06377.jpg  \n",
            "  inflating: Dataset/Training/People/2015_06378.jpg  \n",
            "  inflating: Dataset/Training/People/2015_06379.jpg  \n",
            "  inflating: Dataset/Training/People/2015_06380.jpg  \n",
            "  inflating: Dataset/Training/People/2015_06381.jpg  \n",
            "  inflating: Dataset/Training/People/2015_06382.jpg  \n",
            "  inflating: Dataset/Training/People/2015_06383.jpg  \n",
            "  inflating: Dataset/Training/People/2015_06384.jpg  \n",
            "  inflating: Dataset/Training/People/2015_06385.jpg  \n",
            "  inflating: Dataset/Training/People/2015_06386.jpg  \n",
            "  inflating: Dataset/Training/People/2015_06387.jpg  \n",
            "  inflating: Dataset/Training/People/2015_06388.jpg  \n",
            "  inflating: Dataset/Training/People/2015_06389.jpg  \n",
            "  inflating: Dataset/Training/People/2015_06390.jpg  \n",
            "  inflating: Dataset/Training/People/2015_06391.jpg  \n",
            "  inflating: Dataset/Training/People/2015_06392.jpg  \n",
            "  inflating: Dataset/Training/People/2015_06393.jpg  \n",
            "  inflating: Dataset/Training/People/2015_06394.jpg  \n",
            "  inflating: Dataset/Training/People/2015_06395.jpg  \n",
            "  inflating: Dataset/Training/People/2015_06396.jpg  \n",
            "  inflating: Dataset/Training/People/2015_06397.jpg  \n",
            "  inflating: Dataset/Training/People/2015_06398.jpg  \n",
            "  inflating: Dataset/Training/People/2015_06399.jpg  \n",
            "  inflating: Dataset/Training/People/2015_06400.jpg  \n",
            "  inflating: Dataset/Training/People/2015_06401.jpg  \n",
            "  inflating: Dataset/Training/People/2015_06402.jpg  \n",
            "  inflating: Dataset/Training/People/2015_06403.jpg  \n",
            "  inflating: Dataset/Training/People/2015_06404.jpg  \n",
            "  inflating: Dataset/Training/People/2015_06405.jpg  \n",
            "  inflating: Dataset/Training/People/2015_06406.jpg  \n",
            "  inflating: Dataset/Training/People/2015_06407.jpg  \n",
            "  inflating: Dataset/Training/People/2015_06408.jpg  \n",
            "  inflating: Dataset/Training/People/2015_06409.jpg  \n",
            "  inflating: Dataset/Training/People/2015_06410.jpg  \n",
            "  inflating: Dataset/Training/People/2015_06411.jpg  \n",
            "  inflating: Dataset/Training/People/2015_06412.jpg  \n",
            "  inflating: Dataset/Training/People/2015_06413.jpg  \n",
            "  inflating: Dataset/Training/People/2015_06414.jpg  \n",
            "  inflating: Dataset/Training/People/2015_06415.jpg  \n",
            "  inflating: Dataset/Training/People/2015_06416.jpg  \n",
            "  inflating: Dataset/Training/People/2015_06417.jpg  \n",
            "  inflating: Dataset/Training/People/2015_06418.jpg  \n",
            "  inflating: Dataset/Training/People/2015_06419.jpg  \n",
            "  inflating: Dataset/Training/People/2015_06420.jpg  \n",
            "  inflating: Dataset/Training/People/2015_06421.jpg  \n",
            "  inflating: Dataset/Training/People/2015_06422.jpg  \n",
            "  inflating: Dataset/Training/People/2015_06423.jpg  \n",
            "  inflating: Dataset/Training/People/2015_06424.jpg  \n",
            "  inflating: Dataset/Training/People/2015_06425.jpg  \n",
            "  inflating: Dataset/Training/People/2015_06426.jpg  \n",
            "  inflating: Dataset/Training/People/2015_06427.jpg  \n",
            "  inflating: Dataset/Training/People/2015_06428.jpg  \n",
            "  inflating: Dataset/Training/People/2015_06429.jpg  \n",
            "  inflating: Dataset/Training/People/2015_06430.jpg  \n",
            "  inflating: Dataset/Training/People/2015_06431.jpg  \n",
            "  inflating: Dataset/Training/People/2015_06432.jpg  \n",
            "  inflating: Dataset/Training/People/2015_06433.jpg  \n",
            "  inflating: Dataset/Training/People/2015_06434.jpg  \n",
            "  inflating: Dataset/Training/People/2015_06435.jpg  \n",
            "  inflating: Dataset/Training/People/2015_06436.jpg  \n",
            "  inflating: Dataset/Training/People/2015_06437.jpg  \n",
            "  inflating: Dataset/Training/People/2015_06438.jpg  \n",
            "  inflating: Dataset/Training/People/2015_06439.jpg  \n",
            "  inflating: Dataset/Training/People/2015_06440.jpg  \n",
            "  inflating: Dataset/Training/People/2015_06441.jpg  \n",
            "  inflating: Dataset/Training/People/2015_06442.jpg  \n",
            "  inflating: Dataset/Training/People/2015_06443.jpg  \n",
            "  inflating: Dataset/Training/People/2015_06444.jpg  \n",
            "  inflating: Dataset/Training/People/2015_06445.jpg  \n",
            "  inflating: Dataset/Training/People/2015_06446.jpg  \n",
            "  inflating: Dataset/Training/People/2015_06447.jpg  \n",
            "  inflating: Dataset/Training/People/2015_06448.jpg  \n",
            "  inflating: Dataset/Training/People/2015_06449.jpg  \n",
            "  inflating: Dataset/Training/People/2015_06450.jpg  \n",
            "  inflating: Dataset/Training/People/2015_06451.jpg  \n",
            "  inflating: Dataset/Training/People/2015_06452.jpg  \n",
            "  inflating: Dataset/Training/People/2015_06453.jpg  \n",
            "  inflating: Dataset/Training/People/2015_06454.jpg  \n",
            "  inflating: Dataset/Training/People/2015_06455.jpg  \n",
            "  inflating: Dataset/Training/People/2015_06456.jpg  \n",
            "  inflating: Dataset/Training/People/2015_06457.jpg  \n",
            "  inflating: Dataset/Training/People/2015_06458.jpg  \n",
            "  inflating: Dataset/Training/People/2015_06459.jpg  \n",
            "  inflating: Dataset/Training/People/2015_06460.jpg  \n",
            "  inflating: Dataset/Training/People/2015_06461.jpg  \n",
            "  inflating: Dataset/Training/People/2015_06462.jpg  \n",
            "  inflating: Dataset/Training/People/2015_06463.jpg  \n",
            "  inflating: Dataset/Training/People/2015_06464.jpg  \n",
            "  inflating: Dataset/Training/People/2015_06465.jpg  \n",
            "  inflating: Dataset/Training/People/2015_06466.jpg  \n",
            "  inflating: Dataset/Training/People/2015_06467.jpg  \n",
            "  inflating: Dataset/Training/People/2015_06468.jpg  \n",
            "  inflating: Dataset/Training/People/2015_06469.jpg  \n",
            "  inflating: Dataset/Training/People/2015_06470.jpg  \n",
            "  inflating: Dataset/Training/People/2015_06471.jpg  \n",
            "  inflating: Dataset/Training/People/2015_06472.jpg  \n",
            "  inflating: Dataset/Training/People/2015_06473.jpg  \n",
            "  inflating: Dataset/Training/People/2015_06474.jpeg  \n",
            "  inflating: Dataset/Training/People/2015_06475.jpg  \n",
            "  inflating: Dataset/Training/People/2015_06476.jpg  \n",
            "  inflating: Dataset/Training/People/2015_06477.jpg  \n",
            "  inflating: Dataset/Training/People/2015_06478.jpg  \n",
            "  inflating: Dataset/Training/People/2015_06479.jpg  \n",
            "  inflating: Dataset/Training/People/2015_06480.jpg  \n",
            "  inflating: Dataset/Training/People/2015_06481.jpg  \n",
            "  inflating: Dataset/Training/People/2015_06482.jpg  \n",
            "  inflating: Dataset/Training/People/2015_06483.jpg  \n",
            "  inflating: Dataset/Training/People/2015_06484.jpg  \n",
            "  inflating: Dataset/Training/People/2015_06485.jpg  \n",
            "   creating: Dataset/Validation/\n",
            "   creating: Dataset/Validation/Bicycle/\n",
            "  inflating: Dataset/Validation/Bicycle/2015_00251.jpg  \n",
            "  inflating: Dataset/Validation/Bicycle/2015_00252.jpg  \n",
            "  inflating: Dataset/Validation/Bicycle/2015_00253.jpg  \n",
            "  inflating: Dataset/Validation/Bicycle/2015_00254.jpg  \n",
            "  inflating: Dataset/Validation/Bicycle/2015_00255.jpg  \n",
            "  inflating: Dataset/Validation/Bicycle/2015_00256.jpg  \n",
            "  inflating: Dataset/Validation/Bicycle/2015_00257.jpg  \n",
            "  inflating: Dataset/Validation/Bicycle/2015_00258.jpg  \n",
            "  inflating: Dataset/Validation/Bicycle/2015_00259.jpg  \n",
            "  inflating: Dataset/Validation/Bicycle/2015_00260.jpg  \n",
            "  inflating: Dataset/Validation/Bicycle/2015_00261.jpg  \n",
            "  inflating: Dataset/Validation/Bicycle/2015_00262.jpg  \n",
            "  inflating: Dataset/Validation/Bicycle/2015_00263.jpg  \n",
            "  inflating: Dataset/Validation/Bicycle/2015_00264.jpg  \n",
            "  inflating: Dataset/Validation/Bicycle/2015_00265.jpg  \n",
            "  inflating: Dataset/Validation/Bicycle/2015_00266.jpg  \n",
            "  inflating: Dataset/Validation/Bicycle/2015_00267.jpg  \n",
            "  inflating: Dataset/Validation/Bicycle/2015_00268.jpg  \n",
            "  inflating: Dataset/Validation/Bicycle/2015_00269.jpg  \n",
            "  inflating: Dataset/Validation/Bicycle/2015_00270.jpg  \n",
            "  inflating: Dataset/Validation/Bicycle/2015_00271.jpg  \n",
            "  inflating: Dataset/Validation/Bicycle/2015_00272.jpg  \n",
            "  inflating: Dataset/Validation/Bicycle/2015_00273.jpg  \n",
            "  inflating: Dataset/Validation/Bicycle/2015_00274.jpg  \n",
            "  inflating: Dataset/Validation/Bicycle/2015_00275.jpg  \n",
            "  inflating: Dataset/Validation/Bicycle/2015_00276.jpg  \n",
            "  inflating: Dataset/Validation/Bicycle/2015_00277.jpg  \n",
            "  inflating: Dataset/Validation/Bicycle/2015_00278.jpg  \n",
            "  inflating: Dataset/Validation/Bicycle/2015_00279.jpg  \n",
            "  inflating: Dataset/Validation/Bicycle/2015_00280.jpg  \n",
            "  inflating: Dataset/Validation/Bicycle/2015_00281.jpg  \n",
            "  inflating: Dataset/Validation/Bicycle/2015_00282.jpg  \n",
            "  inflating: Dataset/Validation/Bicycle/2015_00283.jpg  \n",
            "  inflating: Dataset/Validation/Bicycle/2015_00284.jpg  \n",
            "  inflating: Dataset/Validation/Bicycle/2015_00285.jpg  \n",
            "  inflating: Dataset/Validation/Bicycle/2015_00286.jpg  \n",
            "  inflating: Dataset/Validation/Bicycle/2015_00287.jpg  \n",
            "  inflating: Dataset/Validation/Bicycle/2015_00288.jpg  \n",
            "  inflating: Dataset/Validation/Bicycle/2015_00289.jpg  \n",
            "  inflating: Dataset/Validation/Bicycle/2015_00290.jpg  \n",
            "  inflating: Dataset/Validation/Bicycle/2015_00291.jpg  \n",
            "  inflating: Dataset/Validation/Bicycle/2015_00292.jpg  \n",
            "  inflating: Dataset/Validation/Bicycle/2015_00293.jpg  \n",
            "  inflating: Dataset/Validation/Bicycle/2015_00294.jpg  \n",
            "  inflating: Dataset/Validation/Bicycle/2015_00295.jpg  \n",
            "  inflating: Dataset/Validation/Bicycle/2015_00296.jpg  \n",
            "  inflating: Dataset/Validation/Bicycle/2015_00297.jpg  \n",
            "  inflating: Dataset/Validation/Bicycle/2015_00298.jpg  \n",
            "  inflating: Dataset/Validation/Bicycle/2015_00299.jpg  \n",
            "  inflating: Dataset/Validation/Bicycle/2015_00300.jpg  \n",
            "  inflating: Dataset/Validation/Bicycle/2015_00301.jpg  \n",
            "  inflating: Dataset/Validation/Bicycle/2015_00302.jpg  \n",
            "  inflating: Dataset/Validation/Bicycle/2015_00303.jpg  \n",
            "  inflating: Dataset/Validation/Bicycle/2015_00304.jpg  \n",
            "  inflating: Dataset/Validation/Bicycle/2015_00305.jpg  \n",
            "  inflating: Dataset/Validation/Bicycle/2015_00306.jpg  \n",
            "  inflating: Dataset/Validation/Bicycle/2015_00307.jpg  \n",
            "  inflating: Dataset/Validation/Bicycle/2015_00308.jpg  \n",
            "  inflating: Dataset/Validation/Bicycle/2015_00309.jpg  \n",
            "  inflating: Dataset/Validation/Bicycle/2015_00310.jpg  \n",
            "  inflating: Dataset/Validation/Bicycle/2015_00311.jpg  \n",
            "  inflating: Dataset/Validation/Bicycle/2015_00312.jpg  \n",
            "  inflating: Dataset/Validation/Bicycle/2015_00313.jpg  \n",
            "  inflating: Dataset/Validation/Bicycle/2015_00314.jpg  \n",
            "  inflating: Dataset/Validation/Bicycle/2015_00315.jpg  \n",
            "  inflating: Dataset/Validation/Bicycle/2015_00316.jpg  \n",
            "  inflating: Dataset/Validation/Bicycle/2015_00317.jpg  \n",
            "  inflating: Dataset/Validation/Bicycle/2015_00318.jpg  \n",
            "  inflating: Dataset/Validation/Bicycle/2015_00319.jpg  \n",
            "  inflating: Dataset/Validation/Bicycle/2015_00320.jpg  \n",
            "  inflating: Dataset/Validation/Bicycle/2015_00321.jpg  \n",
            "  inflating: Dataset/Validation/Bicycle/2015_00322.jpg  \n",
            "  inflating: Dataset/Validation/Bicycle/2015_00323.jpg  \n",
            "  inflating: Dataset/Validation/Bicycle/2015_00324.jpg  \n",
            "  inflating: Dataset/Validation/Bicycle/2015_00325.jpg  \n",
            "  inflating: Dataset/Validation/Bicycle/2015_00326.jpg  \n",
            "  inflating: Dataset/Validation/Bicycle/2015_00327.jpg  \n",
            "  inflating: Dataset/Validation/Bicycle/2015_00328.jpg  \n",
            "  inflating: Dataset/Validation/Bicycle/2015_00329.jpg  \n",
            "  inflating: Dataset/Validation/Bicycle/2015_00330.jpg  \n",
            "   creating: Dataset/Validation/Motorbike/\n",
            "  inflating: Dataset/Validation/Motorbike/2015_05995.jpg  \n",
            "  inflating: Dataset/Validation/Motorbike/2015_05996.jpg  \n",
            "  inflating: Dataset/Validation/Motorbike/2015_05997.jpg  \n",
            "  inflating: Dataset/Validation/Motorbike/2015_05998.jpg  \n",
            "  inflating: Dataset/Validation/Motorbike/2015_05999.jpg  \n",
            "  inflating: Dataset/Validation/Motorbike/2015_06000.jpg  \n",
            "  inflating: Dataset/Validation/Motorbike/2015_06001.jpg  \n",
            "  inflating: Dataset/Validation/Motorbike/2015_06002.jpg  \n",
            "  inflating: Dataset/Validation/Motorbike/2015_06003.jpg  \n",
            "  inflating: Dataset/Validation/Motorbike/2015_06004.jpg  \n",
            "  inflating: Dataset/Validation/Motorbike/2015_06005.jpg  \n",
            "  inflating: Dataset/Validation/Motorbike/2015_06006.jpg  \n",
            "  inflating: Dataset/Validation/Motorbike/2015_06007.jpg  \n",
            "  inflating: Dataset/Validation/Motorbike/2015_06008.jpg  \n",
            "  inflating: Dataset/Validation/Motorbike/2015_06009.jpg  \n",
            "  inflating: Dataset/Validation/Motorbike/2015_06010.jpg  \n",
            "  inflating: Dataset/Validation/Motorbike/2015_06011.jpg  \n",
            "  inflating: Dataset/Validation/Motorbike/2015_06012.jpg  \n",
            "  inflating: Dataset/Validation/Motorbike/2015_06013.jpg  \n",
            "  inflating: Dataset/Validation/Motorbike/2015_06014.jpg  \n",
            "  inflating: Dataset/Validation/Motorbike/2015_06015.jpg  \n",
            "  inflating: Dataset/Validation/Motorbike/2015_06016.jpg  \n",
            "  inflating: Dataset/Validation/Motorbike/2015_06017.jpg  \n",
            "  inflating: Dataset/Validation/Motorbike/2015_06018.jpg  \n",
            "  inflating: Dataset/Validation/Motorbike/2015_06019.jpg  \n",
            "  inflating: Dataset/Validation/Motorbike/2015_06020.jpg  \n",
            "  inflating: Dataset/Validation/Motorbike/2015_06021.jpg  \n",
            "  inflating: Dataset/Validation/Motorbike/2015_06022.jpg  \n",
            "  inflating: Dataset/Validation/Motorbike/2015_06023.jpg  \n",
            "  inflating: Dataset/Validation/Motorbike/2015_06024.jpg  \n",
            "  inflating: Dataset/Validation/Motorbike/2015_06025.jpg  \n",
            "  inflating: Dataset/Validation/Motorbike/2015_06026.jpg  \n",
            "  inflating: Dataset/Validation/Motorbike/2015_06027.jpg  \n",
            "  inflating: Dataset/Validation/Motorbike/2015_06028.jpg  \n",
            "  inflating: Dataset/Validation/Motorbike/2015_06029.jpg  \n",
            "  inflating: Dataset/Validation/Motorbike/2015_06030.jpg  \n",
            "  inflating: Dataset/Validation/Motorbike/2015_06031.jpg  \n",
            "  inflating: Dataset/Validation/Motorbike/2015_06032.jpg  \n",
            "  inflating: Dataset/Validation/Motorbike/2015_06033.jpg  \n",
            "  inflating: Dataset/Validation/Motorbike/2015_06034.jpg  \n",
            "  inflating: Dataset/Validation/Motorbike/2015_06035.jpg  \n",
            "  inflating: Dataset/Validation/Motorbike/2015_06036.jpg  \n",
            "  inflating: Dataset/Validation/Motorbike/2015_06037.jpg  \n",
            "  inflating: Dataset/Validation/Motorbike/2015_06038.jpg  \n",
            "  inflating: Dataset/Validation/Motorbike/2015_06039.jpg  \n",
            "  inflating: Dataset/Validation/Motorbike/2015_06040.JPEG  \n",
            "  inflating: Dataset/Validation/Motorbike/2015_06041.JPEG  \n",
            "  inflating: Dataset/Validation/Motorbike/2015_06042.JPEG  \n",
            "  inflating: Dataset/Validation/Motorbike/2015_06043.JPEG  \n",
            "  inflating: Dataset/Validation/Motorbike/2015_06044.JPG  \n",
            "  inflating: Dataset/Validation/Motorbike/2015_06045.JPG  \n",
            "  inflating: Dataset/Validation/Motorbike/2015_06046.JPG  \n",
            "  inflating: Dataset/Validation/Motorbike/2015_06047.JPG  \n",
            "  inflating: Dataset/Validation/Motorbike/2015_06048.JPG  \n",
            "  inflating: Dataset/Validation/Motorbike/2015_06049.JPG  \n",
            "  inflating: Dataset/Validation/Motorbike/2015_06050.JPG  \n",
            "  inflating: Dataset/Validation/Motorbike/2015_06051.JPG  \n",
            "  inflating: Dataset/Validation/Motorbike/2015_06052.JPG  \n",
            "  inflating: Dataset/Validation/Motorbike/2015_06053.JPG  \n",
            "  inflating: Dataset/Validation/Motorbike/2015_06054.JPG  \n",
            "  inflating: Dataset/Validation/Motorbike/2015_06055.JPG  \n",
            "  inflating: Dataset/Validation/Motorbike/2015_06056.JPG  \n",
            "  inflating: Dataset/Validation/Motorbike/2015_06057.JPG  \n",
            "  inflating: Dataset/Validation/Motorbike/2015_06058.JPG  \n",
            "  inflating: Dataset/Validation/Motorbike/2015_06059.JPG  \n",
            "  inflating: Dataset/Validation/Motorbike/2015_06060.JPG  \n",
            "  inflating: Dataset/Validation/Motorbike/2015_06061.JPG  \n",
            "  inflating: Dataset/Validation/Motorbike/2015_06062.JPG  \n",
            "  inflating: Dataset/Validation/Motorbike/2015_06063.JPG  \n",
            "  inflating: Dataset/Validation/Motorbike/2015_06064.JPG  \n",
            "  inflating: Dataset/Validation/Motorbike/2015_06065.JPG  \n",
            "  inflating: Dataset/Validation/Motorbike/2015_06066.JPG  \n",
            "  inflating: Dataset/Validation/Motorbike/2015_06067.JPG  \n",
            "  inflating: Dataset/Validation/Motorbike/2015_06068.JPG  \n",
            "  inflating: Dataset/Validation/Motorbike/2015_06069.jpg  \n",
            "  inflating: Dataset/Validation/Motorbike/2015_06070.jpg  \n",
            "  inflating: Dataset/Validation/Motorbike/2015_06071.jpg  \n",
            "  inflating: Dataset/Validation/Motorbike/2015_06072.jpg  \n",
            "  inflating: Dataset/Validation/Motorbike/2015_06073.jpg  \n",
            "  inflating: Dataset/Validation/Motorbike/2015_06074.jpg  \n",
            "   creating: Dataset/Validation/Cat/\n",
            "  inflating: Dataset/Validation/Cat/2015_03292.jpg  \n",
            "  inflating: Dataset/Validation/Cat/2015_03293.jpg  \n",
            "  inflating: Dataset/Validation/Cat/2015_03294.jpg  \n",
            "  inflating: Dataset/Validation/Cat/2015_03295.jpg  \n",
            "  inflating: Dataset/Validation/Cat/2015_03296.jpg  \n",
            "  inflating: Dataset/Validation/Cat/2015_03297.jpg  \n",
            "  inflating: Dataset/Validation/Cat/2015_03298.jpg  \n",
            "  inflating: Dataset/Validation/Cat/2015_03299.jpg  \n",
            "  inflating: Dataset/Validation/Cat/2015_03300.jpg  \n",
            "  inflating: Dataset/Validation/Cat/2015_03301.jpg  \n",
            "  inflating: Dataset/Validation/Cat/2015_03302.jpg  \n",
            "  inflating: Dataset/Validation/Cat/2015_03303.jpg  \n",
            "  inflating: Dataset/Validation/Cat/2015_03304.jpg  \n",
            "  inflating: Dataset/Validation/Cat/2015_03305.jpg  \n",
            "  inflating: Dataset/Validation/Cat/2015_03306.jpg  \n",
            "  inflating: Dataset/Validation/Cat/2015_03307.jpg  \n",
            "  inflating: Dataset/Validation/Cat/2015_03308.jpg  \n",
            "  inflating: Dataset/Validation/Cat/2015_03309.jpg  \n",
            "  inflating: Dataset/Validation/Cat/2015_03310.jpg  \n",
            "  inflating: Dataset/Validation/Cat/2015_03311.jpg  \n",
            "  inflating: Dataset/Validation/Cat/2015_03312.jpg  \n",
            "  inflating: Dataset/Validation/Cat/2015_03313.jpg  \n",
            "  inflating: Dataset/Validation/Cat/2015_03314.jpg  \n",
            "  inflating: Dataset/Validation/Cat/2015_03315.jpg  \n",
            "  inflating: Dataset/Validation/Cat/2015_03316.jpg  \n",
            "  inflating: Dataset/Validation/Cat/2015_03317.jpg  \n",
            "  inflating: Dataset/Validation/Cat/2015_03318.jpg  \n",
            "  inflating: Dataset/Validation/Cat/2015_03319.jpg  \n",
            "  inflating: Dataset/Validation/Cat/2015_03320.jpg  \n",
            "  inflating: Dataset/Validation/Cat/2015_03321.jpg  \n",
            "  inflating: Dataset/Validation/Cat/2015_03322.jpg  \n",
            "  inflating: Dataset/Validation/Cat/2015_03323.jpg  \n",
            "  inflating: Dataset/Validation/Cat/2015_03324.jpg  \n",
            "  inflating: Dataset/Validation/Cat/2015_03325.jpg  \n",
            "  inflating: Dataset/Validation/Cat/2015_03326.jpg  \n",
            "  inflating: Dataset/Validation/Cat/2015_03327.jpg  \n",
            "  inflating: Dataset/Validation/Cat/2015_03328.jpg  \n",
            "  inflating: Dataset/Validation/Cat/2015_03329.jpg  \n",
            "  inflating: Dataset/Validation/Cat/2015_03330.jpg  \n",
            "  inflating: Dataset/Validation/Cat/2015_03331.jpg  \n",
            "  inflating: Dataset/Validation/Cat/2015_03332.jpg  \n",
            "  inflating: Dataset/Validation/Cat/2015_03333.jpg  \n",
            "  inflating: Dataset/Validation/Cat/2015_03334.jpg  \n",
            "  inflating: Dataset/Validation/Cat/2015_03335.jpg  \n",
            "  inflating: Dataset/Validation/Cat/2015_03336.jpg  \n",
            "  inflating: Dataset/Validation/Cat/2015_03337.jpg  \n",
            "  inflating: Dataset/Validation/Cat/2015_03338.jpg  \n",
            "  inflating: Dataset/Validation/Cat/2015_03339.jpg  \n",
            "  inflating: Dataset/Validation/Cat/2015_03340.jpg  \n",
            "  inflating: Dataset/Validation/Cat/2015_03341.jpg  \n",
            "  inflating: Dataset/Validation/Cat/2015_03342.jpg  \n",
            "  inflating: Dataset/Validation/Cat/2015_03343.jpg  \n",
            "  inflating: Dataset/Validation/Cat/2015_03344.jpg  \n",
            "  inflating: Dataset/Validation/Cat/2015_03345.jpg  \n",
            "  inflating: Dataset/Validation/Cat/2015_03346.jpg  \n",
            "  inflating: Dataset/Validation/Cat/2015_03347.jpg  \n",
            "  inflating: Dataset/Validation/Cat/2015_03348.jpg  \n",
            "  inflating: Dataset/Validation/Cat/2015_03349.jpg  \n",
            "  inflating: Dataset/Validation/Cat/2015_03350.jpg  \n",
            "  inflating: Dataset/Validation/Cat/2015_03351.jpg  \n",
            "  inflating: Dataset/Validation/Cat/2015_03352.jpg  \n",
            "  inflating: Dataset/Validation/Cat/2015_03353.jpg  \n",
            "  inflating: Dataset/Validation/Cat/2015_03354.jpg  \n",
            "  inflating: Dataset/Validation/Cat/2015_03355.JPEG  \n",
            "  inflating: Dataset/Validation/Cat/2015_03356.JPEG  \n",
            "  inflating: Dataset/Validation/Cat/2015_03357.JPEG  \n",
            "  inflating: Dataset/Validation/Cat/2015_03358.JPEG  \n",
            "  inflating: Dataset/Validation/Cat/2015_03359.JPEG  \n",
            "  inflating: Dataset/Validation/Cat/2015_03360.JPEG  \n",
            "  inflating: Dataset/Validation/Cat/2015_03361.jpg  \n",
            "  inflating: Dataset/Validation/Cat/2015_03362.jpg  \n",
            "  inflating: Dataset/Validation/Cat/2015_03363.jpg  \n",
            "  inflating: Dataset/Validation/Cat/2015_03364.jpg  \n",
            "  inflating: Dataset/Validation/Cat/2015_03365.JPG  \n",
            "  inflating: Dataset/Validation/Cat/2015_03366.JPG  \n",
            "  inflating: Dataset/Validation/Cat/2015_03367.JPG  \n",
            "  inflating: Dataset/Validation/Cat/2015_03368.jpg  \n",
            "  inflating: Dataset/Validation/Cat/2015_03369.JPG  \n",
            "  inflating: Dataset/Validation/Cat/2015_03370.JPG  \n",
            "  inflating: Dataset/Validation/Cat/2015_03371.JPG  \n",
            "   creating: Dataset/Validation/Table/\n",
            "  inflating: Dataset/Validation/Table/2015_07102.jpg  \n",
            "  inflating: Dataset/Validation/Table/2015_07103.jpg  \n",
            "  inflating: Dataset/Validation/Table/2015_07104.jpg  \n",
            "  inflating: Dataset/Validation/Table/2015_07105.jpg  \n",
            "  inflating: Dataset/Validation/Table/2015_07106.jpg  \n",
            "  inflating: Dataset/Validation/Table/2015_07107.jpg  \n",
            "  inflating: Dataset/Validation/Table/2015_07108.jpg  \n",
            "  inflating: Dataset/Validation/Table/2015_07109.jpg  \n",
            "  inflating: Dataset/Validation/Table/2015_07110.jpg  \n",
            "  inflating: Dataset/Validation/Table/2015_07111.jpg  \n",
            "  inflating: Dataset/Validation/Table/2015_07112.jpg  \n",
            "  inflating: Dataset/Validation/Table/2015_07113.jpg  \n",
            "  inflating: Dataset/Validation/Table/2015_07114.jpg  \n",
            "  inflating: Dataset/Validation/Table/2015_07115.jpg  \n",
            "  inflating: Dataset/Validation/Table/2015_07116.jpg  \n",
            "  inflating: Dataset/Validation/Table/2015_07117.jpg  \n",
            "  inflating: Dataset/Validation/Table/2015_07118.jpg  \n",
            "  inflating: Dataset/Validation/Table/2015_07119.jpg  \n",
            "  inflating: Dataset/Validation/Table/2015_07120.jpg  \n",
            "  inflating: Dataset/Validation/Table/2015_07121.jpg  \n",
            "  inflating: Dataset/Validation/Table/2015_07122.jpg  \n",
            "  inflating: Dataset/Validation/Table/2015_07123.jpg  \n",
            "  inflating: Dataset/Validation/Table/2015_07124.jpg  \n",
            "  inflating: Dataset/Validation/Table/2015_07125.jpg  \n",
            "  inflating: Dataset/Validation/Table/2015_07126.jpg  \n",
            "  inflating: Dataset/Validation/Table/2015_07127.jpg  \n",
            "  inflating: Dataset/Validation/Table/2015_07128.jpg  \n",
            "  inflating: Dataset/Validation/Table/2015_07129.jpg  \n",
            "  inflating: Dataset/Validation/Table/2015_07130.jpg  \n",
            "  inflating: Dataset/Validation/Table/2015_07131.jpg  \n",
            "  inflating: Dataset/Validation/Table/2015_07132.jpg  \n",
            "  inflating: Dataset/Validation/Table/2015_07133.jpg  \n",
            "  inflating: Dataset/Validation/Table/2015_07134.jpg  \n",
            "  inflating: Dataset/Validation/Table/2015_07135.jpg  \n",
            "  inflating: Dataset/Validation/Table/2015_07136.jpg  \n",
            "  inflating: Dataset/Validation/Table/2015_07137.jpg  \n",
            "  inflating: Dataset/Validation/Table/2015_07138.jpg  \n",
            "  inflating: Dataset/Validation/Table/2015_07139.jpg  \n",
            "  inflating: Dataset/Validation/Table/2015_07140.jpg  \n",
            "  inflating: Dataset/Validation/Table/2015_07141.jpg  \n",
            "  inflating: Dataset/Validation/Table/2015_07142.jpg  \n",
            "  inflating: Dataset/Validation/Table/2015_07143.JPG  \n",
            "  inflating: Dataset/Validation/Table/2015_07144.JPG  \n",
            "  inflating: Dataset/Validation/Table/2015_07145.JPG  \n",
            "  inflating: Dataset/Validation/Table/2015_07146.JPG  \n",
            "  inflating: Dataset/Validation/Table/2015_07147.JPG  \n",
            "  inflating: Dataset/Validation/Table/2015_07148.JPG  \n",
            "  inflating: Dataset/Validation/Table/2015_07149.JPEG  \n",
            "  inflating: Dataset/Validation/Table/2015_07150.JPEG  \n",
            "  inflating: Dataset/Validation/Table/2015_07151.JPEG  \n",
            "  inflating: Dataset/Validation/Table/2015_07152.JPEG  \n",
            "  inflating: Dataset/Validation/Table/2015_07153.JPEG  \n",
            "  inflating: Dataset/Validation/Table/2015_07154.JPEG  \n",
            "  inflating: Dataset/Validation/Table/2015_07155.JPEG  \n",
            "  inflating: Dataset/Validation/Table/2015_07156.JPEG  \n",
            "  inflating: Dataset/Validation/Table/2015_07157.JPEG  \n",
            "  inflating: Dataset/Validation/Table/2015_07158.JPEG  \n",
            "  inflating: Dataset/Validation/Table/2015_07159.JPEG  \n",
            "  inflating: Dataset/Validation/Table/2015_07160.JPEG  \n",
            "  inflating: Dataset/Validation/Table/2015_07161.JPEG  \n",
            "  inflating: Dataset/Validation/Table/2015_07162.JPEG  \n",
            "  inflating: Dataset/Validation/Table/2015_07163.JPEG  \n",
            "  inflating: Dataset/Validation/Table/2015_07164.JPEG  \n",
            "  inflating: Dataset/Validation/Table/2015_07165.jpg  \n",
            "  inflating: Dataset/Validation/Table/2015_07166.JPG  \n",
            "  inflating: Dataset/Validation/Table/2015_07167.JPG  \n",
            "  inflating: Dataset/Validation/Table/2015_07168.JPG  \n",
            "  inflating: Dataset/Validation/Table/2015_07169.JPG  \n",
            "  inflating: Dataset/Validation/Table/2015_07170.JPG  \n",
            "  inflating: Dataset/Validation/Table/2015_07171.JPG  \n",
            "  inflating: Dataset/Validation/Table/2015_07172.JPG  \n",
            "  inflating: Dataset/Validation/Table/2015_07173.JPG  \n",
            "  inflating: Dataset/Validation/Table/2015_07174.JPG  \n",
            "  inflating: Dataset/Validation/Table/2015_07175.JPG  \n",
            "  inflating: Dataset/Validation/Table/2015_07176.JPG  \n",
            "  inflating: Dataset/Validation/Table/2015_07177.JPG  \n",
            "  inflating: Dataset/Validation/Table/2015_07178.JPG  \n",
            "  inflating: Dataset/Validation/Table/2015_07179.JPG  \n",
            "  inflating: Dataset/Validation/Table/2015_07180.JPG  \n",
            "  inflating: Dataset/Validation/Table/2015_07181.JPG  \n",
            "   creating: Dataset/Validation/Boat/\n",
            "  inflating: Dataset/Validation/Boat/2015_00903.jpg  \n",
            "  inflating: Dataset/Validation/Boat/2015_00904.jpg  \n",
            "  inflating: Dataset/Validation/Boat/2015_00905.jpg  \n",
            "  inflating: Dataset/Validation/Boat/2015_00906.jpg  \n",
            "  inflating: Dataset/Validation/Boat/2015_00907.jpg  \n",
            "  inflating: Dataset/Validation/Boat/2015_00908.jpg  \n",
            "  inflating: Dataset/Validation/Boat/2015_00909.jpg  \n",
            "  inflating: Dataset/Validation/Boat/2015_00910.jpg  \n",
            "  inflating: Dataset/Validation/Boat/2015_00911.jpg  \n",
            "  inflating: Dataset/Validation/Boat/2015_00912.jpg  \n",
            "  inflating: Dataset/Validation/Boat/2015_00913.jpg  \n",
            "  inflating: Dataset/Validation/Boat/2015_00914.jpg  \n",
            "  inflating: Dataset/Validation/Boat/2015_00915.jpg  \n",
            "  inflating: Dataset/Validation/Boat/2015_00916.jpg  \n",
            "  inflating: Dataset/Validation/Boat/2015_00917.jpg  \n",
            "  inflating: Dataset/Validation/Boat/2015_00918.jpg  \n",
            "  inflating: Dataset/Validation/Boat/2015_00919.jpg  \n",
            "  inflating: Dataset/Validation/Boat/2015_00920.jpg  \n",
            "  inflating: Dataset/Validation/Boat/2015_00921.jpg  \n",
            "  inflating: Dataset/Validation/Boat/2015_00922.jpg  \n",
            "  inflating: Dataset/Validation/Boat/2015_00923.jpg  \n",
            "  inflating: Dataset/Validation/Boat/2015_00924.jpg  \n",
            "  inflating: Dataset/Validation/Boat/2015_00925.jpg  \n",
            "  inflating: Dataset/Validation/Boat/2015_00926.jpg  \n",
            "  inflating: Dataset/Validation/Boat/2015_00927.jpg  \n",
            "  inflating: Dataset/Validation/Boat/2015_00928.jpg  \n",
            "  inflating: Dataset/Validation/Boat/2015_00929.jpg  \n",
            "  inflating: Dataset/Validation/Boat/2015_00930.jpg  \n",
            "  inflating: Dataset/Validation/Boat/2015_00931.jpg  \n",
            "  inflating: Dataset/Validation/Boat/2015_00932.jpg  \n",
            "  inflating: Dataset/Validation/Boat/2015_00933.jpg  \n",
            "  inflating: Dataset/Validation/Boat/2015_00934.jpg  \n",
            "  inflating: Dataset/Validation/Boat/2015_00935.jpg  \n",
            "  inflating: Dataset/Validation/Boat/2015_00936.jpg  \n",
            "  inflating: Dataset/Validation/Boat/2015_00937.jpg  \n",
            "  inflating: Dataset/Validation/Boat/2015_00938.jpg  \n",
            "  inflating: Dataset/Validation/Boat/2015_00939.jpg  \n",
            "  inflating: Dataset/Validation/Boat/2015_00940.jpg  \n",
            "  inflating: Dataset/Validation/Boat/2015_00941.jpg  \n",
            "  inflating: Dataset/Validation/Boat/2015_00942.jpg  \n",
            "  inflating: Dataset/Validation/Boat/2015_00943.jpg  \n",
            "  inflating: Dataset/Validation/Boat/2015_00944.jpg  \n",
            "  inflating: Dataset/Validation/Boat/2015_00945.jpg  \n",
            "  inflating: Dataset/Validation/Boat/2015_00946.jpg  \n",
            "  inflating: Dataset/Validation/Boat/2015_00947.jpg  \n",
            "  inflating: Dataset/Validation/Boat/2015_00948.jpg  \n",
            "  inflating: Dataset/Validation/Boat/2015_00949.jpg  \n",
            "  inflating: Dataset/Validation/Boat/2015_00950.jpg  \n",
            "  inflating: Dataset/Validation/Boat/2015_00951.jpg  \n",
            "  inflating: Dataset/Validation/Boat/2015_00952.jpg  \n",
            "  inflating: Dataset/Validation/Boat/2015_00953.jpg  \n",
            "  inflating: Dataset/Validation/Boat/2015_00954.jpg  \n",
            "  inflating: Dataset/Validation/Boat/2015_00955.jpg  \n",
            "  inflating: Dataset/Validation/Boat/2015_00956.jpg  \n",
            "  inflating: Dataset/Validation/Boat/2015_00957.jpg  \n",
            "  inflating: Dataset/Validation/Boat/2015_00958.jpg  \n",
            "  inflating: Dataset/Validation/Boat/2015_00959.jpg  \n",
            "  inflating: Dataset/Validation/Boat/2015_00960.jpg  \n",
            "  inflating: Dataset/Validation/Boat/2015_00961.jpg  \n",
            "  inflating: Dataset/Validation/Boat/2015_00962.jpg  \n",
            "  inflating: Dataset/Validation/Boat/2015_00963.jpg  \n",
            "  inflating: Dataset/Validation/Boat/2015_00964.jpg  \n",
            "  inflating: Dataset/Validation/Boat/2015_00965.jpg  \n",
            "  inflating: Dataset/Validation/Boat/2015_00966.jpg  \n",
            "  inflating: Dataset/Validation/Boat/2015_00967.jpg  \n",
            "  inflating: Dataset/Validation/Boat/2015_00968.jpg  \n",
            "  inflating: Dataset/Validation/Boat/2015_00969.jpg  \n",
            "  inflating: Dataset/Validation/Boat/2015_00970.jpg  \n",
            "  inflating: Dataset/Validation/Boat/2015_00971.jpg  \n",
            "  inflating: Dataset/Validation/Boat/2015_00972.jpg  \n",
            "  inflating: Dataset/Validation/Boat/2015_00973.jpg  \n",
            "  inflating: Dataset/Validation/Boat/2015_00974.jpg  \n",
            "  inflating: Dataset/Validation/Boat/2015_00975.jpg  \n",
            "  inflating: Dataset/Validation/Boat/2015_00976.jpg  \n",
            "  inflating: Dataset/Validation/Boat/2015_00977.jpg  \n",
            "  inflating: Dataset/Validation/Boat/2015_00978.jpg  \n",
            "  inflating: Dataset/Validation/Boat/2015_00979.jpg  \n",
            "  inflating: Dataset/Validation/Boat/2015_00980.jpg  \n",
            "  inflating: Dataset/Validation/Boat/2015_00981.jpg  \n",
            "  inflating: Dataset/Validation/Boat/2015_00982.jpg  \n",
            "   creating: Dataset/Validation/People/\n",
            "  inflating: Dataset/Validation/People/2015_06496.jpg  \n",
            "  inflating: Dataset/Validation/People/2015_06497.jpg  \n",
            "  inflating: Dataset/Validation/People/2015_06498.jpg  \n",
            "  inflating: Dataset/Validation/People/2015_06499.jpg  \n",
            "  inflating: Dataset/Validation/People/2015_06500.jpg  \n",
            "  inflating: Dataset/Validation/People/2015_06501.jpg  \n",
            "  inflating: Dataset/Validation/People/2015_06502.jpg  \n",
            "  inflating: Dataset/Validation/People/2015_06503.jpg  \n",
            "  inflating: Dataset/Validation/People/2015_06504.jpg  \n",
            "  inflating: Dataset/Validation/People/2015_06505.jpg  \n",
            "  inflating: Dataset/Validation/People/2015_06506.jpg  \n",
            "  inflating: Dataset/Validation/People/2015_06507.jpg  \n",
            "  inflating: Dataset/Validation/People/2015_06508.jpg  \n",
            "  inflating: Dataset/Validation/People/2015_06509.jpg  \n",
            "  inflating: Dataset/Validation/People/2015_06510.jpg  \n",
            "  inflating: Dataset/Validation/People/2015_06511.jpg  \n",
            "  inflating: Dataset/Validation/People/2015_06512.jpg  \n",
            "  inflating: Dataset/Validation/People/2015_06513.jpg  \n",
            "  inflating: Dataset/Validation/People/2015_06514.jpg  \n",
            "  inflating: Dataset/Validation/People/2015_06515.jpg  \n",
            "  inflating: Dataset/Validation/People/2015_06516.jpg  \n",
            "  inflating: Dataset/Validation/People/2015_06517.jpg  \n",
            "  inflating: Dataset/Validation/People/2015_06518.jpg  \n",
            "  inflating: Dataset/Validation/People/2015_06519.jpg  \n",
            "  inflating: Dataset/Validation/People/2015_06520.jpg  \n",
            "  inflating: Dataset/Validation/People/2015_06521.jpg  \n",
            "  inflating: Dataset/Validation/People/2015_06522.jpg  \n",
            "  inflating: Dataset/Validation/People/2015_06523.jpg  \n",
            "  inflating: Dataset/Validation/People/2015_06524.jpg  \n",
            "  inflating: Dataset/Validation/People/2015_06525.jpg  \n",
            "  inflating: Dataset/Validation/People/2015_06526.jpg  \n",
            "  inflating: Dataset/Validation/People/2015_06527.jpg  \n",
            "  inflating: Dataset/Validation/People/2015_06528.jpg  \n",
            "  inflating: Dataset/Validation/People/2015_06529.jpg  \n",
            "  inflating: Dataset/Validation/People/2015_06530.jpg  \n",
            "  inflating: Dataset/Validation/People/2015_06531.jpg  \n",
            "  inflating: Dataset/Validation/People/2015_06532.jpg  \n",
            "  inflating: Dataset/Validation/People/2015_06533.jpg  \n",
            "  inflating: Dataset/Validation/People/2015_06534.jpg  \n",
            "  inflating: Dataset/Validation/People/2015_06535.jpg  \n",
            "  inflating: Dataset/Validation/People/2015_06536.jpg  \n",
            "  inflating: Dataset/Validation/People/2015_06537.jpg  \n",
            "  inflating: Dataset/Validation/People/2015_06538.jpg  \n",
            "  inflating: Dataset/Validation/People/2015_06539.jpg  \n",
            "  inflating: Dataset/Validation/People/2015_06540.jpg  \n",
            "  inflating: Dataset/Validation/People/2015_06541.jpg  \n",
            "  inflating: Dataset/Validation/People/2015_06542.jpg  \n",
            "  inflating: Dataset/Validation/People/2015_06543.jpg  \n",
            "  inflating: Dataset/Validation/People/2015_06544.jpg  \n",
            "  inflating: Dataset/Validation/People/2015_06545.jpg  \n",
            "  inflating: Dataset/Validation/People/2015_06546.jpg  \n",
            "  inflating: Dataset/Validation/People/2015_06547.jpg  \n",
            "  inflating: Dataset/Validation/People/2015_06548.jpg  \n",
            "  inflating: Dataset/Validation/People/2015_06549.jpg  \n",
            "  inflating: Dataset/Validation/People/2015_06550.jpg  \n",
            "  inflating: Dataset/Validation/People/2015_06551.jpg  \n",
            "  inflating: Dataset/Validation/People/2015_06552.jpg  \n",
            "  inflating: Dataset/Validation/People/2015_06553.jpg  \n",
            "  inflating: Dataset/Validation/People/2015_06554.jpg  \n",
            "  inflating: Dataset/Validation/People/2015_06555.jpg  \n",
            "  inflating: Dataset/Validation/People/2015_06556.jpg  \n",
            "  inflating: Dataset/Validation/People/2015_06557.jpg  \n",
            "  inflating: Dataset/Validation/People/2015_06558.jpg  \n",
            "  inflating: Dataset/Validation/People/2015_06559.jpg  \n",
            "  inflating: Dataset/Validation/People/2015_06560.jpg  \n",
            "  inflating: Dataset/Validation/People/2015_06561.jpg  \n",
            "  inflating: Dataset/Validation/People/2015_06562.jpg  \n",
            "  inflating: Dataset/Validation/People/2015_06563.jpg  \n",
            "  inflating: Dataset/Validation/People/2015_06564.jpg  \n",
            "  inflating: Dataset/Validation/People/2015_06565.jpg  \n",
            "  inflating: Dataset/Validation/People/2015_06566.jpg  \n",
            "  inflating: Dataset/Validation/People/2015_06567.jpg  \n",
            "  inflating: Dataset/Validation/People/2015_06568.jpg  \n",
            "  inflating: Dataset/Validation/People/2015_06569.jpg  \n",
            "  inflating: Dataset/Validation/People/2015_06570.jpg  \n",
            "  inflating: Dataset/Validation/People/2015_06571.jpg  \n",
            "  inflating: Dataset/Validation/People/2015_06572.jpg  \n",
            "  inflating: Dataset/Validation/People/2015_06573.jpg  \n",
            "  inflating: Dataset/Validation/People/2015_06574.jpg  \n",
            "  inflating: Dataset/Validation/People/2015_06575.jpg  \n"
          ]
        }
      ]
    },
    {
      "cell_type": "code",
      "metadata": {
        "colab": {
          "base_uri": "https://localhost:8080/"
        },
        "id": "VKf7t5Z0l0aT",
        "outputId": "03d9b2eb-4453-4ebc-bf9f-18a9faaa7437"
      },
      "source": [
        "! cp drive/MyDrive/image_classification/AI_Basic_Test.zip .\n",
        "! unzip AI_Basic_Test.zip -d CSV_Datset/"
      ],
      "execution_count": null,
      "outputs": [
        {
          "output_type": "stream",
          "name": "stdout",
          "text": [
            "Archive:  AI_Basic_Test.zip\n",
            "  inflating: CSV_Datset/test_set.csv  \n",
            "  inflating: CSV_Datset/train.csv    \n",
            "  inflating: CSV_Datset/val.csv      \n"
          ]
        }
      ]
    },
    {
      "cell_type": "code",
      "metadata": {
        "id": "Qvsh0BZHmGN8"
      },
      "source": [
        "import os\n",
        "import pandas as pd\n",
        "import torch\n",
        "from torch import nn as nn\n",
        "from torchvision import transforms as transforms\n",
        "from torch.utils.data import DataLoader,Dataset\n",
        "from PIL import Image\n",
        "from torchvision import models\n",
        "from tqdm import tqdm\n",
        "import math\n",
        "from matplotlib import pyplot as plt\n",
        "import numpy as np"
      ],
      "execution_count": null,
      "outputs": []
    },
    {
      "cell_type": "code",
      "metadata": {
        "id": "xkYasU0Tmi9e"
      },
      "source": [
        "def prepare_dataset(dataset_type):\n",
        "  list_class_dir = os.listdir(f\"Dataset/{str(dataset_type)}\")\n",
        "  dataset = []\n",
        "  class_dict = {folder :index for index,folder in enumerate(list_class_dir)}\n",
        "  extension = set()\n",
        "  for folder in list_class_dir:\n",
        "    class_path = os.path.join(\"Dataset/Training\" , folder)\n",
        "    images_path = os.listdir(class_path)\n",
        "    for image in images_path:\n",
        "      extension.add(image.split(\".\")[1])\n",
        "      dataset.append(dict(\n",
        "          image_path = os.path.join(class_path,image),\n",
        "          class_name = class_dict[folder]\n",
        "      ))\n",
        "  dataset = pd.DataFrame(dataset,columns=[\"image_path\",\"class_name\"])\n",
        "  return dataset\n",
        "training_dataset = prepare_dataset(\"Training\")\n",
        "validation_dataset = prepare_dataset(\"Validation\")"
      ],
      "execution_count": null,
      "outputs": []
    },
    {
      "cell_type": "code",
      "metadata": {
        "id": "7kncjCMYm0eg"
      },
      "source": [
        "class ImageDataset(Dataset):\n",
        "  def __init__(self,metadata,transforms = None):\n",
        "    super(ImageDataset,self).__init__()\n",
        "    self.metadata = metadata # load the csv file \n",
        "    self.length = self.metadata.shape[0] # return the length of data\n",
        "    self.transforms = transforms # this is tranfroms the image to into tensor\n",
        "  \n",
        "  def __len__(self):\n",
        "    return self.length\n",
        "  \n",
        "  def __getitem__(self,index):\n",
        "    data = self.metadata.iloc[index] # based on the given index it will extract the data from metadata\n",
        "    image = Image.open(data[\"image_path\"]).convert(\"RGB\") # reading the image\n",
        "    label = data[\"class_name\"] # reading the class\n",
        "    if self.transforms != None:\n",
        "      image = self.transforms(image) # transfors the image \n",
        "    label = torch.tensor(label) #convert the label into tensor\n",
        "    return image , label\n",
        "def get_dataloader(dataset):\n",
        "  transform_list = transforms.Compose([\n",
        "              transforms.ToTensor(),# convert the data into tensor\n",
        "              transforms.Normalize(mean = [0.485, 0.456, 0.406], std = [0.229, 0.224, 0.225]), # normalize the image\n",
        "              transforms.Resize((128,128)) # resize the image\n",
        "  ])\n",
        "  image_dataset = ImageDataset(dataset,transform_list) # prepare the image dataset\n",
        "  dataloader = DataLoader(dataset = image_dataset , batch_size =32,shuffle = True) # prepare the image dataset into batch\n",
        "  return dataloader\n",
        "training_dataloader = get_dataloader(training_dataset) # training batch wise dataset\n",
        "validation_dataloader = get_dataloader(validation_dataset) # validation batch wise dataset"
      ],
      "execution_count": null,
      "outputs": []
    },
    {
      "cell_type": "code",
      "metadata": {
        "id": "V2XWdcmwm_fW"
      },
      "source": [
        "class ImageClassification(nn.Module):\n",
        "  def __init__(self,num_class):\n",
        "    super(ImageClassification,self).__init__()\n",
        "    # input is (no_batch,3,128,128)\n",
        "    model = models.resnet50(pretrained=True,progress=True) # resnet-50 pretrained model\n",
        "    # (n_batch , 3, 1000)\n",
        "    model = nn.Sequential(*(list(model.children()))[:-1]) # removing the last linear layer\n",
        "    # (n_batch , 3, 2048)\n",
        "    self.pretrained = model\n",
        "    self.final = nn.Sequential(\n",
        "        nn.Linear(2048 , 512), # (n_batch , 512)\n",
        "        nn.BatchNorm1d(512), # (n_batch , 512)\n",
        "        nn.Dropout(0.5), # applying of probability 0.5\n",
        "        nn.ReLU(), # Applying Rectified Linear Uniit \n",
        "        # relu(x) = f(x) = max(0,x)\n",
        "        nn.Linear(512 , num_class), # (n_batch , 6)\n",
        "        nn.Softmax() # apply soft to get probability distribution of each sample\n",
        "    ) \n",
        "    self.final_layer_weight_initialization() # 2weight initialization\n",
        "  def forward(self,x):\n",
        "    # x = (n_image , 3 , 256 , 256)\n",
        "    x = self.pretrained(x) # (n_image , 2048 , 1 , 1)\n",
        "    x = x.view(x.shape[0],x.shape[1]) # (n_image , 2048)\n",
        "    x = self.final(x) # (n_image , 6)\n",
        "    return x\n",
        "\n",
        "  def final_layer_weight_initialization(self):\n",
        "    for m in self.final.modules():\n",
        "      if isinstance(m , nn.Linear):\n",
        "        nn.init.kaiming_normal_(m.weight,1)\n",
        "        nn.init.constant_(m.bias,0)\n",
        "      if isinstance(m , nn.BatchNorm1d):\n",
        "        nn.init.normal_(m.weight.data, 1.0, 0.02)\n",
        "        nn.init.constant_(m.bias.data, 0.0)\n",
        "        "
      ],
      "execution_count": null,
      "outputs": []
    },
    {
      "cell_type": "code",
      "metadata": {
        "colab": {
          "base_uri": "https://localhost:8080/"
        },
        "id": "NGMCXIk0nGFv",
        "outputId": "2686a02e-9fdb-4e58-cf54-e8ae4964aa28"
      },
      "source": [
        "n_epochs = 5 # no of epochs\n",
        "batch_size = 32 # batch size\n",
        "device = torch.device(\"cuda\" if torch.cuda.is_available() else \"cpu\") #find the device\n",
        "model = ImageClassification(6).to(device) # intializing the model\n",
        "# cretaing optimizer , Adam(paremetric optimizer)\n",
        "optimizer = torch.optim.Adam(params = model.parameters() , lr = 0.0001, \n",
        "                             betas = (0.9 , 0.99),weight_decay = 0.001)\n",
        "loss_function = torch.nn.CrossEntropyLoss() # using Cross entropy loss function\n",
        "epoch_loss = []\n",
        "epoch_val_acc = []\n",
        "################# Traing####################\n",
        "for epoch in range(n_epochs):\n",
        "  total_loss = 0.0\n",
        "  for batch_idx ,(image,label) in tqdm(enumerate(training_dataloader)):\n",
        "    image = image.to(device)\n",
        "    label = label.to(device)\n",
        "    prediction = model(image) # forward pass\n",
        "    loss = loss_function(prediction , label) # calculating loss\n",
        "    optimizer.zero_grad() # creating gradient from previous batch\n",
        "    loss.backward() # backward pass\n",
        "    optimizer.step() # updating the weight and bias\n",
        "    total_loss += (loss.item() / batch_size)\n",
        "    if batch_idx % 5 == 0:\n",
        "      print(f\"EPOCH : {epoch+1} | {n_epochs} , BATCH: {batch_idx}|{len(training_dataloader)} , loss : {total_loss / (batch_idx+1)}\")\n",
        "  #############claculating the validation accuracy############\n",
        "  with torch.no_grad():\n",
        "    count = 0\n",
        "    for batch_idx ,(image,label) in tqdm(enumerate(validation_dataloader)):\n",
        "      image = image.to(device)\n",
        "      label = label.tolist()\n",
        "      pred_prob = model(image)\n",
        "      predicted_label = torch.argmax(pred_prob,dim = 1).tolist()\n",
        "      for gt,pred in zip(label,predicted_label):\n",
        "        if (gt == pred):\n",
        "          count += 1\n",
        "      if batch_idx % 5 == 0:\n",
        "        print(f\"EPOCH : {epoch+1} | {n_epochs} , BATCH : {batch_idx}|{len(validation_dataloader)}\")\n",
        "    print(f\"Validation accuracy : {(count / len(validation_dataset))*100}\")\n",
        "    epoch_loss.append(total_loss)\n",
        "    epoch_val_acc.append((count / len(validation_dataset))*100)\n",
        "# # saving the model\n",
        "torch.save(model.state_dict(),\"drive/MyDrive/image_classification/model.pth\")\n"
      ],
      "execution_count": null,
      "outputs": [
        {
          "metadata": {
            "tags": null
          },
          "name": "stderr",
          "output_type": "stream",
          "text": [
            "0it [00:00, ?it/s]/usr/local/lib/python3.7/dist-packages/torch/nn/modules/container.py:139: UserWarning: Implicit dimension choice for softmax has been deprecated. Change the call to include dim=X as an argument.\n",
            "  input = module(input)\n",
            "1it [00:08,  8.04s/it]"
          ]
        },
        {
          "metadata": {
            "tags": null
          },
          "name": "stdout",
          "output_type": "stream",
          "text": [
            "EPOCH : 1 | 5 , BATCH: 0|45 , loss : 0.05477623641490936\n"
          ]
        },
        {
          "metadata": {
            "tags": null
          },
          "name": "stderr",
          "output_type": "stream",
          "text": [
            "6it [00:47,  7.93s/it]"
          ]
        },
        {
          "metadata": {
            "tags": null
          },
          "name": "stdout",
          "output_type": "stream",
          "text": [
            "EPOCH : 1 | 5 , BATCH: 5|45 , loss : 0.0553854921211799\n"
          ]
        },
        {
          "metadata": {
            "tags": null
          },
          "name": "stderr",
          "output_type": "stream",
          "text": [
            "11it [01:27,  7.89s/it]"
          ]
        },
        {
          "metadata": {
            "tags": null
          },
          "name": "stdout",
          "output_type": "stream",
          "text": [
            "EPOCH : 1 | 5 , BATCH: 10|45 , loss : 0.05452689968726852\n"
          ]
        },
        {
          "metadata": {
            "tags": null
          },
          "name": "stderr",
          "output_type": "stream",
          "text": [
            "16it [02:06,  7.93s/it]"
          ]
        },
        {
          "metadata": {
            "tags": null
          },
          "name": "stdout",
          "output_type": "stream",
          "text": [
            "EPOCH : 1 | 5 , BATCH: 15|45 , loss : 0.053672813111916184\n"
          ]
        },
        {
          "metadata": {
            "tags": null
          },
          "name": "stderr",
          "output_type": "stream",
          "text": [
            "21it [02:46,  7.86s/it]"
          ]
        },
        {
          "metadata": {
            "tags": null
          },
          "name": "stdout",
          "output_type": "stream",
          "text": [
            "EPOCH : 1 | 5 , BATCH: 20|45 , loss : 0.05310388689949399\n"
          ]
        },
        {
          "metadata": {
            "tags": null
          },
          "name": "stderr",
          "output_type": "stream",
          "text": [
            "26it [03:25,  7.87s/it]"
          ]
        },
        {
          "metadata": {
            "tags": null
          },
          "name": "stdout",
          "output_type": "stream",
          "text": [
            "EPOCH : 1 | 5 , BATCH: 25|45 , loss : 0.05225561043390861\n"
          ]
        },
        {
          "metadata": {
            "tags": null
          },
          "name": "stderr",
          "output_type": "stream",
          "text": [
            "31it [04:05,  7.90s/it]"
          ]
        },
        {
          "metadata": {
            "tags": null
          },
          "name": "stdout",
          "output_type": "stream",
          "text": [
            "EPOCH : 1 | 5 , BATCH: 30|45 , loss : 0.051525542812962684\n"
          ]
        },
        {
          "metadata": {
            "tags": null
          },
          "name": "stderr",
          "output_type": "stream",
          "text": [
            "36it [04:45,  8.14s/it]"
          ]
        },
        {
          "metadata": {
            "tags": null
          },
          "name": "stdout",
          "output_type": "stream",
          "text": [
            "EPOCH : 1 | 5 , BATCH: 35|45 , loss : 0.0510978147180544\n"
          ]
        },
        {
          "metadata": {
            "tags": null
          },
          "name": "stderr",
          "output_type": "stream",
          "text": [
            "41it [05:27,  8.18s/it]"
          ]
        },
        {
          "metadata": {
            "tags": null
          },
          "name": "stdout",
          "output_type": "stream",
          "text": [
            "EPOCH : 1 | 5 , BATCH: 40|45 , loss : 0.050600201436659185\n"
          ]
        },
        {
          "metadata": {
            "tags": null
          },
          "name": "stderr",
          "output_type": "stream",
          "text": [
            "45it [05:59,  7.99s/it]\n",
            "1it [00:02,  2.84s/it]"
          ]
        },
        {
          "metadata": {
            "tags": null
          },
          "name": "stdout",
          "output_type": "stream",
          "text": [
            "EPOCH : 1 | 5 , BATCH : 0|45\n"
          ]
        },
        {
          "metadata": {
            "tags": null
          },
          "name": "stderr",
          "output_type": "stream",
          "text": [
            "6it [00:17,  2.90s/it]"
          ]
        },
        {
          "metadata": {
            "tags": null
          },
          "name": "stdout",
          "output_type": "stream",
          "text": [
            "EPOCH : 1 | 5 , BATCH : 5|45\n"
          ]
        },
        {
          "metadata": {
            "tags": null
          },
          "name": "stderr",
          "output_type": "stream",
          "text": [
            "11it [00:31,  2.88s/it]"
          ]
        },
        {
          "metadata": {
            "tags": null
          },
          "name": "stdout",
          "output_type": "stream",
          "text": [
            "EPOCH : 1 | 5 , BATCH : 10|45\n"
          ]
        },
        {
          "metadata": {
            "tags": null
          },
          "name": "stderr",
          "output_type": "stream",
          "text": [
            "16it [00:45,  2.83s/it]"
          ]
        },
        {
          "metadata": {
            "tags": null
          },
          "name": "stdout",
          "output_type": "stream",
          "text": [
            "EPOCH : 1 | 5 , BATCH : 15|45\n"
          ]
        },
        {
          "metadata": {
            "tags": null
          },
          "name": "stderr",
          "output_type": "stream",
          "text": [
            "21it [01:00,  2.98s/it]"
          ]
        },
        {
          "metadata": {
            "tags": null
          },
          "name": "stdout",
          "output_type": "stream",
          "text": [
            "EPOCH : 1 | 5 , BATCH : 20|45\n"
          ]
        },
        {
          "metadata": {
            "tags": null
          },
          "name": "stderr",
          "output_type": "stream",
          "text": [
            "26it [01:15,  2.88s/it]"
          ]
        },
        {
          "metadata": {
            "tags": null
          },
          "name": "stdout",
          "output_type": "stream",
          "text": [
            "EPOCH : 1 | 5 , BATCH : 25|45\n"
          ]
        },
        {
          "metadata": {
            "tags": null
          },
          "name": "stderr",
          "output_type": "stream",
          "text": [
            "31it [01:29,  2.94s/it]"
          ]
        },
        {
          "metadata": {
            "tags": null
          },
          "name": "stdout",
          "output_type": "stream",
          "text": [
            "EPOCH : 1 | 5 , BATCH : 30|45\n"
          ]
        },
        {
          "metadata": {
            "tags": null
          },
          "name": "stderr",
          "output_type": "stream",
          "text": [
            "36it [01:44,  2.96s/it]"
          ]
        },
        {
          "metadata": {
            "tags": null
          },
          "name": "stdout",
          "output_type": "stream",
          "text": [
            "EPOCH : 1 | 5 , BATCH : 35|45\n"
          ]
        },
        {
          "metadata": {
            "tags": null
          },
          "name": "stderr",
          "output_type": "stream",
          "text": [
            "41it [01:59,  2.94s/it]"
          ]
        },
        {
          "metadata": {
            "tags": null
          },
          "name": "stdout",
          "output_type": "stream",
          "text": [
            "EPOCH : 1 | 5 , BATCH : 40|45\n"
          ]
        },
        {
          "metadata": {
            "tags": null
          },
          "name": "stderr",
          "output_type": "stream",
          "text": [
            "45it [02:10,  2.90s/it]\n"
          ]
        },
        {
          "metadata": {
            "tags": null
          },
          "name": "stdout",
          "output_type": "stream",
          "text": [
            "Validation accuracy : 74.30555555555556\n"
          ]
        },
        {
          "metadata": {
            "tags": null
          },
          "name": "stderr",
          "output_type": "stream",
          "text": [
            "1it [00:08,  8.01s/it]"
          ]
        },
        {
          "metadata": {
            "tags": null
          },
          "name": "stdout",
          "output_type": "stream",
          "text": [
            "EPOCH : 2 | 5 , BATCH: 0|45 , loss : 0.04278453439474106\n"
          ]
        },
        {
          "metadata": {
            "tags": null
          },
          "name": "stderr",
          "output_type": "stream",
          "text": [
            "6it [00:47,  7.93s/it]"
          ]
        },
        {
          "metadata": {
            "tags": null
          },
          "name": "stdout",
          "output_type": "stream",
          "text": [
            "EPOCH : 2 | 5 , BATCH: 5|45 , loss : 0.041384742284814514\n"
          ]
        },
        {
          "metadata": {
            "tags": null
          },
          "name": "stderr",
          "output_type": "stream",
          "text": [
            "11it [01:28,  8.04s/it]"
          ]
        },
        {
          "metadata": {
            "tags": null
          },
          "name": "stdout",
          "output_type": "stream",
          "text": [
            "EPOCH : 2 | 5 , BATCH: 10|45 , loss : 0.04129971597682346\n"
          ]
        },
        {
          "metadata": {
            "tags": null
          },
          "name": "stderr",
          "output_type": "stream",
          "text": [
            "16it [02:07,  7.92s/it]"
          ]
        },
        {
          "metadata": {
            "tags": null
          },
          "name": "stdout",
          "output_type": "stream",
          "text": [
            "EPOCH : 2 | 5 , BATCH: 15|45 , loss : 0.0413324658293277\n"
          ]
        },
        {
          "metadata": {
            "tags": null
          },
          "name": "stderr",
          "output_type": "stream",
          "text": [
            "21it [02:47,  7.90s/it]"
          ]
        },
        {
          "metadata": {
            "tags": null
          },
          "name": "stdout",
          "output_type": "stream",
          "text": [
            "EPOCH : 2 | 5 , BATCH: 20|45 , loss : 0.04122471064329147\n"
          ]
        },
        {
          "metadata": {
            "tags": null
          },
          "name": "stderr",
          "output_type": "stream",
          "text": [
            "26it [03:27,  7.98s/it]"
          ]
        },
        {
          "metadata": {
            "tags": null
          },
          "name": "stdout",
          "output_type": "stream",
          "text": [
            "EPOCH : 2 | 5 , BATCH: 25|45 , loss : 0.041232995402354464\n"
          ]
        },
        {
          "metadata": {
            "tags": null
          },
          "name": "stderr",
          "output_type": "stream",
          "text": [
            "31it [04:06,  8.01s/it]"
          ]
        },
        {
          "metadata": {
            "tags": null
          },
          "name": "stdout",
          "output_type": "stream",
          "text": [
            "EPOCH : 2 | 5 , BATCH: 30|45 , loss : 0.0413223277897604\n"
          ]
        },
        {
          "metadata": {
            "tags": null
          },
          "name": "stderr",
          "output_type": "stream",
          "text": [
            "36it [04:46,  7.89s/it]"
          ]
        },
        {
          "metadata": {
            "tags": null
          },
          "name": "stdout",
          "output_type": "stream",
          "text": [
            "EPOCH : 2 | 5 , BATCH: 35|45 , loss : 0.04122232200784816\n"
          ]
        },
        {
          "metadata": {
            "tags": null
          },
          "name": "stderr",
          "output_type": "stream",
          "text": [
            "41it [05:25,  7.90s/it]"
          ]
        },
        {
          "metadata": {
            "tags": null
          },
          "name": "stdout",
          "output_type": "stream",
          "text": [
            "EPOCH : 2 | 5 , BATCH: 40|45 , loss : 0.0411706520471631\n"
          ]
        },
        {
          "metadata": {
            "tags": null
          },
          "name": "stderr",
          "output_type": "stream",
          "text": [
            "45it [05:57,  7.95s/it]\n",
            "1it [00:03,  3.04s/it]"
          ]
        },
        {
          "metadata": {
            "tags": null
          },
          "name": "stdout",
          "output_type": "stream",
          "text": [
            "EPOCH : 2 | 5 , BATCH : 0|45\n"
          ]
        },
        {
          "metadata": {
            "tags": null
          },
          "name": "stderr",
          "output_type": "stream",
          "text": [
            "6it [00:17,  2.96s/it]"
          ]
        },
        {
          "metadata": {
            "tags": null
          },
          "name": "stdout",
          "output_type": "stream",
          "text": [
            "EPOCH : 2 | 5 , BATCH : 5|45\n"
          ]
        },
        {
          "metadata": {
            "tags": null
          },
          "name": "stderr",
          "output_type": "stream",
          "text": [
            "11it [00:32,  2.93s/it]"
          ]
        },
        {
          "metadata": {
            "tags": null
          },
          "name": "stdout",
          "output_type": "stream",
          "text": [
            "EPOCH : 2 | 5 , BATCH : 10|45\n"
          ]
        },
        {
          "metadata": {
            "tags": null
          },
          "name": "stderr",
          "output_type": "stream",
          "text": [
            "16it [00:46,  2.91s/it]"
          ]
        },
        {
          "metadata": {
            "tags": null
          },
          "name": "stdout",
          "output_type": "stream",
          "text": [
            "EPOCH : 2 | 5 , BATCH : 15|45\n"
          ]
        },
        {
          "metadata": {
            "tags": null
          },
          "name": "stderr",
          "output_type": "stream",
          "text": [
            "21it [01:01,  2.86s/it]"
          ]
        },
        {
          "metadata": {
            "tags": null
          },
          "name": "stdout",
          "output_type": "stream",
          "text": [
            "EPOCH : 2 | 5 , BATCH : 20|45\n"
          ]
        },
        {
          "metadata": {
            "tags": null
          },
          "name": "stderr",
          "output_type": "stream",
          "text": [
            "26it [01:16,  3.00s/it]"
          ]
        },
        {
          "metadata": {
            "tags": null
          },
          "name": "stdout",
          "output_type": "stream",
          "text": [
            "EPOCH : 2 | 5 , BATCH : 25|45\n"
          ]
        },
        {
          "metadata": {
            "tags": null
          },
          "name": "stderr",
          "output_type": "stream",
          "text": [
            "31it [01:30,  2.87s/it]"
          ]
        },
        {
          "metadata": {
            "tags": null
          },
          "name": "stdout",
          "output_type": "stream",
          "text": [
            "EPOCH : 2 | 5 , BATCH : 30|45\n"
          ]
        },
        {
          "metadata": {
            "tags": null
          },
          "name": "stderr",
          "output_type": "stream",
          "text": [
            "36it [01:44,  2.84s/it]"
          ]
        },
        {
          "metadata": {
            "tags": null
          },
          "name": "stdout",
          "output_type": "stream",
          "text": [
            "EPOCH : 2 | 5 , BATCH : 35|45\n"
          ]
        },
        {
          "metadata": {
            "tags": null
          },
          "name": "stderr",
          "output_type": "stream",
          "text": [
            "41it [01:58,  2.84s/it]"
          ]
        },
        {
          "metadata": {
            "tags": null
          },
          "name": "stdout",
          "output_type": "stream",
          "text": [
            "EPOCH : 2 | 5 , BATCH : 40|45\n"
          ]
        },
        {
          "metadata": {
            "tags": null
          },
          "name": "stderr",
          "output_type": "stream",
          "text": [
            "45it [02:10,  2.90s/it]\n"
          ]
        },
        {
          "metadata": {
            "tags": null
          },
          "name": "stdout",
          "output_type": "stream",
          "text": [
            "Validation accuracy : 88.75\n"
          ]
        },
        {
          "metadata": {
            "tags": null
          },
          "name": "stderr",
          "output_type": "stream",
          "text": [
            "1it [00:07,  7.81s/it]"
          ]
        },
        {
          "metadata": {
            "tags": null
          },
          "name": "stdout",
          "output_type": "stream",
          "text": [
            "EPOCH : 3 | 5 , BATCH: 0|45 , loss : 0.037026043981313705\n"
          ]
        },
        {
          "metadata": {
            "tags": null
          },
          "name": "stderr",
          "output_type": "stream",
          "text": [
            "6it [00:47,  7.94s/it]"
          ]
        },
        {
          "metadata": {
            "tags": null
          },
          "name": "stdout",
          "output_type": "stream",
          "text": [
            "EPOCH : 3 | 5 , BATCH: 5|45 , loss : 0.036704799781243004\n"
          ]
        },
        {
          "metadata": {
            "tags": null
          },
          "name": "stderr",
          "output_type": "stream",
          "text": [
            "11it [01:27,  8.05s/it]"
          ]
        },
        {
          "metadata": {
            "tags": null
          },
          "name": "stdout",
          "output_type": "stream",
          "text": [
            "EPOCH : 3 | 5 , BATCH: 10|45 , loss : 0.0371078991077163\n"
          ]
        },
        {
          "metadata": {
            "tags": null
          },
          "name": "stderr",
          "output_type": "stream",
          "text": [
            "16it [02:07,  7.98s/it]"
          ]
        },
        {
          "metadata": {
            "tags": null
          },
          "name": "stdout",
          "output_type": "stream",
          "text": [
            "EPOCH : 3 | 5 , BATCH: 15|45 , loss : 0.03732441505417228\n"
          ]
        },
        {
          "metadata": {
            "tags": null
          },
          "name": "stderr",
          "output_type": "stream",
          "text": [
            "21it [02:46,  7.88s/it]"
          ]
        },
        {
          "metadata": {
            "tags": null
          },
          "name": "stdout",
          "output_type": "stream",
          "text": [
            "EPOCH : 3 | 5 , BATCH: 20|45 , loss : 0.03729649420295443\n"
          ]
        },
        {
          "metadata": {
            "tags": null
          },
          "name": "stderr",
          "output_type": "stream",
          "text": [
            "26it [03:25,  7.86s/it]"
          ]
        },
        {
          "metadata": {
            "tags": null
          },
          "name": "stdout",
          "output_type": "stream",
          "text": [
            "EPOCH : 3 | 5 , BATCH: 25|45 , loss : 0.03715356066823006\n"
          ]
        },
        {
          "metadata": {
            "tags": null
          },
          "name": "stderr",
          "output_type": "stream",
          "text": [
            "31it [04:05,  7.87s/it]"
          ]
        },
        {
          "metadata": {
            "tags": null
          },
          "name": "stdout",
          "output_type": "stream",
          "text": [
            "EPOCH : 3 | 5 , BATCH: 30|45 , loss : 0.03711654654433651\n"
          ]
        },
        {
          "metadata": {
            "tags": null
          },
          "name": "stderr",
          "output_type": "stream",
          "text": [
            "36it [04:44,  7.84s/it]"
          ]
        },
        {
          "metadata": {
            "tags": null
          },
          "name": "stdout",
          "output_type": "stream",
          "text": [
            "EPOCH : 3 | 5 , BATCH: 35|45 , loss : 0.037016635139783226\n"
          ]
        },
        {
          "metadata": {
            "tags": null
          },
          "name": "stderr",
          "output_type": "stream",
          "text": [
            "41it [05:23,  7.79s/it]"
          ]
        },
        {
          "metadata": {
            "tags": null
          },
          "name": "stdout",
          "output_type": "stream",
          "text": [
            "EPOCH : 3 | 5 , BATCH: 40|45 , loss : 0.03708155834820212\n"
          ]
        },
        {
          "metadata": {
            "tags": null
          },
          "name": "stderr",
          "output_type": "stream",
          "text": [
            "45it [05:54,  7.89s/it]\n",
            "1it [00:02,  2.75s/it]"
          ]
        },
        {
          "metadata": {
            "tags": null
          },
          "name": "stdout",
          "output_type": "stream",
          "text": [
            "EPOCH : 3 | 5 , BATCH : 0|45\n"
          ]
        },
        {
          "metadata": {
            "tags": null
          },
          "name": "stderr",
          "output_type": "stream",
          "text": [
            "6it [00:16,  2.79s/it]"
          ]
        },
        {
          "metadata": {
            "tags": null
          },
          "name": "stdout",
          "output_type": "stream",
          "text": [
            "EPOCH : 3 | 5 , BATCH : 5|45\n"
          ]
        },
        {
          "metadata": {
            "tags": null
          },
          "name": "stderr",
          "output_type": "stream",
          "text": [
            "11it [00:30,  2.79s/it]"
          ]
        },
        {
          "metadata": {
            "tags": null
          },
          "name": "stdout",
          "output_type": "stream",
          "text": [
            "EPOCH : 3 | 5 , BATCH : 10|45\n"
          ]
        },
        {
          "metadata": {
            "tags": null
          },
          "name": "stderr",
          "output_type": "stream",
          "text": [
            "16it [00:45,  2.82s/it]"
          ]
        },
        {
          "metadata": {
            "tags": null
          },
          "name": "stdout",
          "output_type": "stream",
          "text": [
            "EPOCH : 3 | 5 , BATCH : 15|45\n"
          ]
        },
        {
          "metadata": {
            "tags": null
          },
          "name": "stderr",
          "output_type": "stream",
          "text": [
            "21it [00:59,  2.85s/it]"
          ]
        },
        {
          "metadata": {
            "tags": null
          },
          "name": "stdout",
          "output_type": "stream",
          "text": [
            "EPOCH : 3 | 5 , BATCH : 20|45\n"
          ]
        },
        {
          "metadata": {
            "tags": null
          },
          "name": "stderr",
          "output_type": "stream",
          "text": [
            "26it [01:13,  2.89s/it]"
          ]
        },
        {
          "metadata": {
            "tags": null
          },
          "name": "stdout",
          "output_type": "stream",
          "text": [
            "EPOCH : 3 | 5 , BATCH : 25|45\n"
          ]
        },
        {
          "metadata": {
            "tags": null
          },
          "name": "stderr",
          "output_type": "stream",
          "text": [
            "31it [01:28,  2.87s/it]"
          ]
        },
        {
          "metadata": {
            "tags": null
          },
          "name": "stdout",
          "output_type": "stream",
          "text": [
            "EPOCH : 3 | 5 , BATCH : 30|45\n"
          ]
        },
        {
          "metadata": {
            "tags": null
          },
          "name": "stderr",
          "output_type": "stream",
          "text": [
            "36it [01:42,  2.92s/it]"
          ]
        },
        {
          "metadata": {
            "tags": null
          },
          "name": "stdout",
          "output_type": "stream",
          "text": [
            "EPOCH : 3 | 5 , BATCH : 35|45\n"
          ]
        },
        {
          "metadata": {
            "tags": null
          },
          "name": "stderr",
          "output_type": "stream",
          "text": [
            "41it [01:57,  2.91s/it]"
          ]
        },
        {
          "metadata": {
            "tags": null
          },
          "name": "stdout",
          "output_type": "stream",
          "text": [
            "EPOCH : 3 | 5 , BATCH : 40|45\n"
          ]
        },
        {
          "metadata": {
            "tags": null
          },
          "name": "stderr",
          "output_type": "stream",
          "text": [
            "45it [02:08,  2.87s/it]\n"
          ]
        },
        {
          "metadata": {
            "tags": null
          },
          "name": "stdout",
          "output_type": "stream",
          "text": [
            "Validation accuracy : 93.33333333333333\n"
          ]
        },
        {
          "metadata": {
            "tags": null
          },
          "name": "stderr",
          "output_type": "stream",
          "text": [
            "1it [00:07,  7.85s/it]"
          ]
        },
        {
          "metadata": {
            "tags": null
          },
          "name": "stdout",
          "output_type": "stream",
          "text": [
            "EPOCH : 4 | 5 , BATCH: 0|45 , loss : 0.03717843070626259\n"
          ]
        },
        {
          "metadata": {
            "tags": null
          },
          "name": "stderr",
          "output_type": "stream",
          "text": [
            "6it [00:47,  7.88s/it]"
          ]
        },
        {
          "metadata": {
            "tags": null
          },
          "name": "stdout",
          "output_type": "stream",
          "text": [
            "EPOCH : 4 | 5 , BATCH: 5|45 , loss : 0.035286350175738335\n"
          ]
        },
        {
          "metadata": {
            "tags": null
          },
          "name": "stderr",
          "output_type": "stream",
          "text": [
            "11it [01:26,  7.83s/it]"
          ]
        },
        {
          "metadata": {
            "tags": null
          },
          "name": "stdout",
          "output_type": "stream",
          "text": [
            "EPOCH : 4 | 5 , BATCH: 10|45 , loss : 0.03558601168068973\n"
          ]
        },
        {
          "metadata": {
            "tags": null
          },
          "name": "stderr",
          "output_type": "stream",
          "text": [
            "16it [02:05,  7.94s/it]"
          ]
        },
        {
          "metadata": {
            "tags": null
          },
          "name": "stdout",
          "output_type": "stream",
          "text": [
            "EPOCH : 4 | 5 , BATCH: 15|45 , loss : 0.03558272495865822\n"
          ]
        },
        {
          "metadata": {
            "tags": null
          },
          "name": "stderr",
          "output_type": "stream",
          "text": [
            "21it [02:45,  7.85s/it]"
          ]
        },
        {
          "metadata": {
            "tags": null
          },
          "name": "stdout",
          "output_type": "stream",
          "text": [
            "EPOCH : 4 | 5 , BATCH: 20|45 , loss : 0.03553565360960506\n"
          ]
        },
        {
          "metadata": {
            "tags": null
          },
          "name": "stderr",
          "output_type": "stream",
          "text": [
            "26it [03:24,  7.84s/it]"
          ]
        },
        {
          "metadata": {
            "tags": null
          },
          "name": "stdout",
          "output_type": "stream",
          "text": [
            "EPOCH : 4 | 5 , BATCH: 25|45 , loss : 0.03548678239950767\n"
          ]
        },
        {
          "metadata": {
            "tags": null
          },
          "name": "stderr",
          "output_type": "stream",
          "text": [
            "31it [04:03,  7.85s/it]"
          ]
        },
        {
          "metadata": {
            "tags": null
          },
          "name": "stdout",
          "output_type": "stream",
          "text": [
            "EPOCH : 4 | 5 , BATCH: 30|45 , loss : 0.03543519565174656\n"
          ]
        },
        {
          "metadata": {
            "tags": null
          },
          "name": "stderr",
          "output_type": "stream",
          "text": [
            "36it [04:43,  7.88s/it]"
          ]
        },
        {
          "metadata": {
            "tags": null
          },
          "name": "stdout",
          "output_type": "stream",
          "text": [
            "EPOCH : 4 | 5 , BATCH: 35|45 , loss : 0.035432703172167145\n"
          ]
        },
        {
          "metadata": {
            "tags": null
          },
          "name": "stderr",
          "output_type": "stream",
          "text": [
            "41it [05:22,  7.96s/it]"
          ]
        },
        {
          "metadata": {
            "tags": null
          },
          "name": "stdout",
          "output_type": "stream",
          "text": [
            "EPOCH : 4 | 5 , BATCH: 40|45 , loss : 0.03534529158254949\n"
          ]
        },
        {
          "metadata": {
            "tags": null
          },
          "name": "stderr",
          "output_type": "stream",
          "text": [
            "45it [05:54,  7.89s/it]\n",
            "1it [00:02,  2.88s/it]"
          ]
        },
        {
          "metadata": {
            "tags": null
          },
          "name": "stdout",
          "output_type": "stream",
          "text": [
            "EPOCH : 4 | 5 , BATCH : 0|45\n"
          ]
        },
        {
          "metadata": {
            "tags": null
          },
          "name": "stderr",
          "output_type": "stream",
          "text": [
            "6it [00:17,  2.89s/it]"
          ]
        },
        {
          "metadata": {
            "tags": null
          },
          "name": "stdout",
          "output_type": "stream",
          "text": [
            "EPOCH : 4 | 5 , BATCH : 5|45\n"
          ]
        },
        {
          "metadata": {
            "tags": null
          },
          "name": "stderr",
          "output_type": "stream",
          "text": [
            "11it [00:31,  2.82s/it]"
          ]
        },
        {
          "metadata": {
            "tags": null
          },
          "name": "stdout",
          "output_type": "stream",
          "text": [
            "EPOCH : 4 | 5 , BATCH : 10|45\n"
          ]
        },
        {
          "metadata": {
            "tags": null
          },
          "name": "stderr",
          "output_type": "stream",
          "text": [
            "16it [00:45,  2.91s/it]"
          ]
        },
        {
          "metadata": {
            "tags": null
          },
          "name": "stdout",
          "output_type": "stream",
          "text": [
            "EPOCH : 4 | 5 , BATCH : 15|45\n"
          ]
        },
        {
          "metadata": {
            "tags": null
          },
          "name": "stderr",
          "output_type": "stream",
          "text": [
            "21it [01:00,  2.85s/it]"
          ]
        },
        {
          "metadata": {
            "tags": null
          },
          "name": "stdout",
          "output_type": "stream",
          "text": [
            "EPOCH : 4 | 5 , BATCH : 20|45\n"
          ]
        },
        {
          "metadata": {
            "tags": null
          },
          "name": "stderr",
          "output_type": "stream",
          "text": [
            "26it [01:14,  2.86s/it]"
          ]
        },
        {
          "metadata": {
            "tags": null
          },
          "name": "stdout",
          "output_type": "stream",
          "text": [
            "EPOCH : 4 | 5 , BATCH : 25|45\n"
          ]
        },
        {
          "metadata": {
            "tags": null
          },
          "name": "stderr",
          "output_type": "stream",
          "text": [
            "31it [01:28,  2.82s/it]"
          ]
        },
        {
          "metadata": {
            "tags": null
          },
          "name": "stdout",
          "output_type": "stream",
          "text": [
            "EPOCH : 4 | 5 , BATCH : 30|45\n"
          ]
        },
        {
          "metadata": {
            "tags": null
          },
          "name": "stderr",
          "output_type": "stream",
          "text": [
            "36it [01:43,  3.00s/it]"
          ]
        },
        {
          "metadata": {
            "tags": null
          },
          "name": "stdout",
          "output_type": "stream",
          "text": [
            "EPOCH : 4 | 5 , BATCH : 35|45\n"
          ]
        },
        {
          "metadata": {
            "tags": null
          },
          "name": "stderr",
          "output_type": "stream",
          "text": [
            "41it [01:58,  2.93s/it]"
          ]
        },
        {
          "metadata": {
            "tags": null
          },
          "name": "stdout",
          "output_type": "stream",
          "text": [
            "EPOCH : 4 | 5 , BATCH : 40|45\n"
          ]
        },
        {
          "metadata": {
            "tags": null
          },
          "name": "stderr",
          "output_type": "stream",
          "text": [
            "45it [02:09,  2.88s/it]\n"
          ]
        },
        {
          "metadata": {
            "tags": null
          },
          "name": "stdout",
          "output_type": "stream",
          "text": [
            "Validation accuracy : 94.93055555555556\n"
          ]
        },
        {
          "metadata": {
            "tags": null
          },
          "name": "stderr",
          "output_type": "stream",
          "text": [
            "1it [00:07,  7.84s/it]"
          ]
        },
        {
          "metadata": {
            "tags": null
          },
          "name": "stdout",
          "output_type": "stream",
          "text": [
            "EPOCH : 5 | 5 , BATCH: 0|45 , loss : 0.03319590911269188\n"
          ]
        },
        {
          "metadata": {
            "tags": null
          },
          "name": "stderr",
          "output_type": "stream",
          "text": [
            "6it [00:47,  7.90s/it]"
          ]
        },
        {
          "metadata": {
            "tags": null
          },
          "name": "stdout",
          "output_type": "stream",
          "text": [
            "EPOCH : 5 | 5 , BATCH: 5|45 , loss : 0.0345629807561636\n"
          ]
        },
        {
          "metadata": {
            "tags": null
          },
          "name": "stderr",
          "output_type": "stream",
          "text": [
            "11it [01:27,  7.94s/it]"
          ]
        },
        {
          "metadata": {
            "tags": null
          },
          "name": "stdout",
          "output_type": "stream",
          "text": [
            "EPOCH : 5 | 5 , BATCH: 10|45 , loss : 0.03467033193870024\n"
          ]
        },
        {
          "metadata": {
            "tags": null
          },
          "name": "stderr",
          "output_type": "stream",
          "text": [
            "16it [02:07,  8.02s/it]"
          ]
        },
        {
          "metadata": {
            "tags": null
          },
          "name": "stdout",
          "output_type": "stream",
          "text": [
            "EPOCH : 5 | 5 , BATCH: 15|45 , loss : 0.034722261130809784\n"
          ]
        },
        {
          "metadata": {
            "tags": null
          },
          "name": "stderr",
          "output_type": "stream",
          "text": [
            "21it [02:47,  8.06s/it]"
          ]
        },
        {
          "metadata": {
            "tags": null
          },
          "name": "stdout",
          "output_type": "stream",
          "text": [
            "EPOCH : 5 | 5 , BATCH: 20|45 , loss : 0.03460565209388733\n"
          ]
        },
        {
          "metadata": {
            "tags": null
          },
          "name": "stderr",
          "output_type": "stream",
          "text": [
            "26it [03:27,  8.08s/it]"
          ]
        },
        {
          "metadata": {
            "tags": null
          },
          "name": "stdout",
          "output_type": "stream",
          "text": [
            "EPOCH : 5 | 5 , BATCH: 25|45 , loss : 0.034593368522249736\n"
          ]
        },
        {
          "metadata": {
            "tags": null
          },
          "name": "stderr",
          "output_type": "stream",
          "text": [
            "31it [04:07,  7.99s/it]"
          ]
        },
        {
          "metadata": {
            "tags": null
          },
          "name": "stdout",
          "output_type": "stream",
          "text": [
            "EPOCH : 5 | 5 , BATCH: 30|45 , loss : 0.03452500328421593\n"
          ]
        },
        {
          "metadata": {
            "tags": null
          },
          "name": "stderr",
          "output_type": "stream",
          "text": [
            "36it [04:47,  8.00s/it]"
          ]
        },
        {
          "metadata": {
            "tags": null
          },
          "name": "stdout",
          "output_type": "stream",
          "text": [
            "EPOCH : 5 | 5 , BATCH: 35|45 , loss : 0.034612827416923314\n"
          ]
        },
        {
          "output_type": "stream",
          "name": "stderr",
          "text": [
            "41it [05:27,  7.87s/it]"
          ]
        },
        {
          "output_type": "stream",
          "name": "stdout",
          "text": [
            "EPOCH : 5 | 5 , BATCH: 40|45 , loss : 0.034745326947148256\n"
          ]
        },
        {
          "output_type": "stream",
          "name": "stderr",
          "text": [
            "45it [05:58,  7.96s/it]\n",
            "1it [00:02,  2.88s/it]"
          ]
        },
        {
          "output_type": "stream",
          "name": "stdout",
          "text": [
            "EPOCH : 5 | 5 , BATCH : 0|45\n"
          ]
        },
        {
          "output_type": "stream",
          "name": "stderr",
          "text": [
            "6it [00:17,  2.83s/it]"
          ]
        },
        {
          "output_type": "stream",
          "name": "stdout",
          "text": [
            "EPOCH : 5 | 5 , BATCH : 5|45\n"
          ]
        },
        {
          "output_type": "stream",
          "name": "stderr",
          "text": [
            "11it [00:31,  2.80s/it]"
          ]
        },
        {
          "output_type": "stream",
          "name": "stdout",
          "text": [
            "EPOCH : 5 | 5 , BATCH : 10|45\n"
          ]
        },
        {
          "output_type": "stream",
          "name": "stderr",
          "text": [
            "16it [00:45,  2.86s/it]"
          ]
        },
        {
          "output_type": "stream",
          "name": "stdout",
          "text": [
            "EPOCH : 5 | 5 , BATCH : 15|45\n"
          ]
        },
        {
          "output_type": "stream",
          "name": "stderr",
          "text": [
            "21it [00:59,  2.95s/it]"
          ]
        },
        {
          "output_type": "stream",
          "name": "stdout",
          "text": [
            "EPOCH : 5 | 5 , BATCH : 20|45\n"
          ]
        },
        {
          "output_type": "stream",
          "name": "stderr",
          "text": [
            "26it [01:14,  2.90s/it]"
          ]
        },
        {
          "output_type": "stream",
          "name": "stdout",
          "text": [
            "EPOCH : 5 | 5 , BATCH : 25|45\n"
          ]
        },
        {
          "output_type": "stream",
          "name": "stderr",
          "text": [
            "31it [01:29,  3.02s/it]"
          ]
        },
        {
          "output_type": "stream",
          "name": "stdout",
          "text": [
            "EPOCH : 5 | 5 , BATCH : 30|45\n"
          ]
        },
        {
          "output_type": "stream",
          "name": "stderr",
          "text": [
            "36it [01:43,  2.90s/it]"
          ]
        },
        {
          "output_type": "stream",
          "name": "stdout",
          "text": [
            "EPOCH : 5 | 5 , BATCH : 35|45\n"
          ]
        },
        {
          "output_type": "stream",
          "name": "stderr",
          "text": [
            "41it [01:57,  2.84s/it]"
          ]
        },
        {
          "output_type": "stream",
          "name": "stdout",
          "text": [
            "EPOCH : 5 | 5 , BATCH : 40|45\n"
          ]
        },
        {
          "output_type": "stream",
          "name": "stderr",
          "text": [
            "45it [02:09,  2.87s/it]\n"
          ]
        },
        {
          "output_type": "stream",
          "name": "stdout",
          "text": [
            "Validation accuracy : 95.13888888888889\n"
          ]
        }
      ]
    },
    {
      "cell_type": "code",
      "metadata": {
        "colab": {
          "base_uri": "https://localhost:8080/"
        },
        "id": "XnoeBgSy6m63",
        "outputId": "541dee02-7b10-408b-bb22-97e75eadbdbf"
      },
      "source": [
        "device = torch.device(\"cuda\" if torch.cuda.is_available() else \"cpu\") #find the device\n",
        "model = ImageClassification(6).to(device) # model initialize \n",
        "model.load_state_dict(torch.load(\"drive/MyDrive/image_classification/model.pth\",map_location=device)) # pretrained model laod\n"
      ],
      "execution_count": null,
      "outputs": [
        {
          "output_type": "execute_result",
          "data": {
            "text/plain": [
              "<All keys matched successfully>"
            ]
          },
          "metadata": {},
          "execution_count": 17
        }
      ]
    },
    {
      "cell_type": "code",
      "metadata": {
        "id": "AEm9Evi471CG"
      },
      "source": [
        "class TestingDataset(Dataset):\n",
        "  def __init__(self,metadata,transform):\n",
        "    self.metadata = pd.read_csv(metadata)\n",
        "    self.len = self.metadata.shape[0]\n",
        "    self.transform = transform\n",
        "  \n",
        "  def __len__(self):\n",
        "    return self.len\n",
        "  \n",
        "  def __getitem__(self,index):\n",
        "    image = os.path.join(\"Dataset\",self.metadata.iloc[index][\"Image_Path\"])\n",
        "    image = Image.open(image).convert(\"RGB\")\n",
        "    image = self.transform(image)\n",
        "    return image\n",
        "\n",
        "transform_list = transforms.Compose([\n",
        "              transforms.ToTensor(),# convert the data into tensor\n",
        "              transforms.Normalize(mean = [0.485, 0.456, 0.406], std = [0.229, 0.224, 0.225]), # normalize the image\n",
        "              transforms.Resize((128,128)) # resize the image\n",
        "  ])\n",
        "image_dataset = TestingDataset(metadata = \"CSV_Datset/test_set.csv\",transform = transform_list)\n",
        "test_dataloader = DataLoader(dataset = image_dataset,batch_size = 32,shuffle = False)"
      ],
      "execution_count": null,
      "outputs": []
    },
    {
      "cell_type": "code",
      "metadata": {
        "colab": {
          "base_uri": "https://localhost:8080/"
        },
        "id": "5hj3CM7g8FC9",
        "outputId": "c6056282-4d02-4c2c-be87-e493ddcf2e2b"
      },
      "source": [
        "predict = []\n",
        "with torch.no_grad():\n",
        "  count = 0\n",
        "  for batch_idx ,(image) in tqdm(enumerate(test_dataloader)):\n",
        "    image = image.to(device)\n",
        "    pred_prob = model(image) # predict probability\n",
        "    predicted_label = torch.argmax(pred_prob,dim = 1).tolist() # select highest probability\n",
        "    predict.extend(predicted_label)"
      ],
      "execution_count": null,
      "outputs": [
        {
          "output_type": "stream",
          "name": "stderr",
          "text": [
            "0it [00:00, ?it/s]/usr/local/lib/python3.7/dist-packages/torch/nn/modules/container.py:139: UserWarning: Implicit dimension choice for softmax has been deprecated. Change the call to include dim=X as an argument.\n",
            "  input = module(input)\n",
            "15it [00:58,  3.93s/it]\n"
          ]
        }
      ]
    },
    {
      "cell_type": "code",
      "metadata": {
        "id": "4syzVEez8KBT"
      },
      "source": [
        "### Load to CSV file\n",
        "test_data = pd.read_csv(\"CSV_Datset/test_set.csv\")\n",
        "test_data[\"Class\"] = predict\n",
        "test_data.to_csv(\"Test_data.csv\")"
      ],
      "execution_count": null,
      "outputs": []
    },
    {
      "cell_type": "code",
      "metadata": {
        "colab": {
          "base_uri": "https://localhost:8080/",
          "height": 281
        },
        "id": "_W0iQxlH8jmL",
        "outputId": "2dc00d61-6460-48d1-95b9-9984a3b33868"
      },
      "source": [
        "## Showing the result for testing data\n",
        "list_class_dir = os.listdir(f\"Dataset/Training\")\n",
        "dataset = []\n",
        "class_dict = {index :folder for index,folder in enumerate(list_class_dir)}\n",
        "index = 5\n",
        "image_path = os.path.join(\"Dataset\",test_data.iloc[index][\"Image_Path\"])\n",
        "image = np.array(Image.open(image_path))\n",
        "plt.imshow(image)\n",
        "plt.show()\n",
        "class_dict[int(test_data.iloc[index][\"Class\"])]"
      ],
      "execution_count": null,
      "outputs": [
        {
          "output_type": "display_data",
          "data": {
            "image/png": "[encoded data removed]",
            "text/plain": [
              "<Figure size 432x288 with 1 Axes>"
            ]
          },
          "metadata": {
            "needs_background": "light"
          }
        },
        {
          "output_type": "execute_result",
          "data": {
            "application/vnd.google.colaboratory.intrinsic+json": {
              "type": "string"
            },
            "text/plain": [
              "'Cat'"
            ]
          },
          "metadata": {},
          "execution_count": 30
        }
      ]
    },
    {
      "cell_type": "code",
      "metadata": {
        "id": "6bJKtJnZ8o_q"
      },
      "source": [
        ""
      ],
      "execution_count": null,
      "outputs": []
    }
  ]
}